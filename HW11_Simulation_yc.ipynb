{
 "cells": [
  {
   "attachments": {},
   "cell_type": "markdown",
   "id": "a2f5efce",
   "metadata": {},
   "source": [
    "# HW11: Variance Reduction\n",
    "\n",
    "## Preliminaries\n",
    "\n",
    "### Imports"
   ]
  },
  {
   "cell_type": "code",
   "execution_count": 2,
   "id": "ee2630e3",
   "metadata": {
    "ExecuteTime": {
     "end_time": "2022-04-25T20:54:41.154683Z",
     "start_time": "2022-04-25T20:54:40.442462Z"
    }
   },
   "outputs": [],
   "source": [
    "import numpy as np\n",
    "import pandas as pd\n",
    "import matplotlib.pyplot as plt\n",
    "\n",
    "import scipy.stats as stats\n",
    "import scipy.optimize as optimize"
   ]
  },
  {
   "attachments": {},
   "cell_type": "markdown",
   "id": "13b19f87",
   "metadata": {},
   "source": [
    "### Random Seed"
   ]
  },
  {
   "cell_type": "code",
   "execution_count": 3,
   "id": "001ad328",
   "metadata": {
    "ExecuteTime": {
     "end_time": "2022-04-25T20:54:41.159213Z",
     "start_time": "2022-04-25T20:54:41.156592Z"
    }
   },
   "outputs": [],
   "source": [
    "seed=734903\n",
    "rng=np.random.default_rng(seed)"
   ]
  },
  {
   "attachments": {},
   "cell_type": "markdown",
   "id": "4a33b721",
   "metadata": {},
   "source": [
    "### Code\n",
    "\n",
    "#### Market Data Objects\n",
    "\n",
    "##### Discount"
   ]
  },
  {
   "cell_type": "code",
   "execution_count": 4,
   "id": "bd63211c",
   "metadata": {
    "ExecuteTime": {
     "end_time": "2022-04-25T20:54:41.177719Z",
     "start_time": "2022-04-25T20:54:41.161366Z"
    }
   },
   "outputs": [],
   "source": [
    "class Discount:\n",
    "    def __init__(self,ts,rates):\n",
    "        self.ts=ts\n",
    "        self.rates=rates\n",
    "    def __call__(self,T):\n",
    "        r=np.interp(T,self.ts,self.rates)\n",
    "        return np.exp(-r*T)"
   ]
  },
  {
   "attachments": {},
   "cell_type": "markdown",
   "id": "0f82b7ae",
   "metadata": {},
   "source": [
    "\n",
    " ##### Forwards"
   ]
  },
  {
   "cell_type": "code",
   "execution_count": 5,
   "id": "20ff808c",
   "metadata": {},
   "outputs": [],
   "source": [
    "class Forward:\n",
    "    def __init__(self,spot,discount,dividends):\n",
    "        self.spot=spot\n",
    "        self.discount=discount\n",
    "        self.dividends=dividends\n",
    "    def __call__(self,T):\n",
    "        Df_r=self.discount(T)\n",
    "        Df_d=self.dividends(T)\n",
    "        return self.spot*Df_d/Df_r"
   ]
  },
  {
   "attachments": {},
   "cell_type": "markdown",
   "id": "ec3b9fd7",
   "metadata": {
    "ExecuteTime": {
     "end_time": "2022-04-09T09:01:06.016554Z",
     "start_time": "2022-04-09T09:01:06.011506Z"
    }
   },
   "source": [
    "##### SVI Volatility Surface\n",
    "<a id=\"svi\"/>"
   ]
  },
  {
   "cell_type": "code",
   "execution_count": 6,
   "id": "2f210d14",
   "metadata": {
    "ExecuteTime": {
     "end_time": "2022-04-25T20:54:41.189842Z",
     "start_time": "2022-04-25T20:54:41.179430Z"
    }
   },
   "outputs": [],
   "source": [
    "        \n",
    "class SVI:\n",
    "    def __init__(self,ref_fwd,ts,a,b,rho,m,sigma):\n",
    "        self.ref_fwd=ref_fwd\n",
    "        self.ts=np.insert(ts,[0],[0])\n",
    "        self.as_=np.insert(a,[0],[0])\n",
    "        self.bs=np.insert(b,[0],[0])\n",
    "        self.rhos=np.insert(rho,[0],[rho[0]])\n",
    "        self.ms=np.insert(m,[0],m[[0]])\n",
    "        self.sigmas=np.insert(sigma,[0],[sigma[0]])\n",
    "\n",
    "    def var(self,T,K):\n",
    "        ref_F=self.ref_fwd(T)\n",
    "        ref_k=np.log(K/ref_F)\n",
    "        return self.var0(T,ref_k)\n",
    "    def var0(self,T,ref_k):\n",
    "        a=np.interp(T,self.ts,self.as_)\n",
    "        b=np.interp(T,self.ts,self.bs)\n",
    "        rho=np.interp(T,self.ts,self.rhos)\n",
    "        m=np.interp(T,self.ts,self.ms)\n",
    "        sigma=np.interp(T,self.ts,self.sigmas)\n",
    "        return a + b*(rho*(ref_k-m)+np.sqrt((ref_k-m)**2+sigma**2))\n",
    "    def dvar(self,T,K):\n",
    "        ref_F=self.ref_fwd(T)\n",
    "        ref_k=np.log(K/ref_F)\n",
    "        a=np.interp(T,self.ts,self.as_)\n",
    "        b=np.interp(T,self.ts,self.bs)\n",
    "        rho=np.interp(T,self.ts,self.rhos)\n",
    "        m=np.interp(T,self.ts,self.ms)\n",
    "        sigma=np.interp(T,self.ts,self.sigmas)\n",
    "        Delta=np.sqrt((ref_k-m)**2+sigma**2)\n",
    "        w=a + b*(rho*(ref_k-m)+Delta)     \n",
    "        dw_dk=b*(rho+(ref_k-m)/Delta)\n",
    "        d2w_dk2=b/Delta*(1-((m-ref_k)/Delta)**2)\n",
    "        return ref_k,w,dw_dk,d2w_dk2\n",
    "    def local_vol(self,T,K,F,dT=1/365):\n",
    "        T=np.maximum(T,1e-6)\n",
    "        k=np.log(K/F)\n",
    "        ref_k,w,dw_dk,d2w_dk2=self.dvar(T,K)\n",
    "        w1=self.var0(T+dT,ref_k)\n",
    "        dw_dt=(w1-w)/dT\n",
    "        var= dw_dt/(1-k/w*dw_dk+1/4*(-1/4-1/w+(k/w)**2)*dw_dk**2+1/2*d2w_dk2)\n",
    "        return np.sqrt(var)\n",
    "    def __call__(self,T,K):\n",
    "        \"SVI Implied volatility as a funtion of expiry T (in years) and strike K\"\n",
    "        T=np.maximum(T,epsilon) # do not devide by zero when T=0\n",
    "        return np.sqrt(self.var(T,K)/T)"
   ]
  },
  {
   "attachments": {},
   "cell_type": "markdown",
   "id": "d2a6d0cc",
   "metadata": {},
   "source": [
    "#### Monte Carlo \n",
    "\n",
    "##### Multi Variate  Local Volatility Process Definition\n",
    "\n",
    "<a id=\"vol_process\"/>"
   ]
  },
  {
   "cell_type": "code",
   "execution_count": 7,
   "id": "e575db9d",
   "metadata": {
    "ExecuteTime": {
     "end_time": "2022-04-25T20:54:41.198946Z",
     "start_time": "2022-04-25T20:54:41.191323Z"
    }
   },
   "outputs": [],
   "source": [
    "class MVLocalVolProcess:\n",
    "    def __init__(self,fwds,vols,corr):\n",
    "        self.fwds=fwds\n",
    "        self.vol=vols\n",
    "        self.L=np.linalg.cholesky(corr)\n",
    "        self.df=np.empty(len(fwds))\n",
    "    def nfactors(self):\n",
    "        return len(self.fwds)\n",
    "    def __call__(self,s,t,dt,dZ):\n",
    "        var=np.empty((len(self.df),dZ.shape[1]))\n",
    "        for i in range(self.nfactors()):\n",
    "            F=self.fwds[i](t)\n",
    "            self.df[i]=self.fwds[i](t+dt)/F\n",
    "            var[i]=self.vol[i].local_vol(t,s[i],F)**2*dt\n",
    "        dW=np.dot(self.L,dZ) # correlate\n",
    "        dW=np.sqrt(var)*dW # scale by variance\n",
    "        s1=s*self.df[:,np.newaxis]*np.exp(-var/2+dW)\n",
    "        return s1\n",
    "        "
   ]
  },
  {
   "attachments": {},
   "cell_type": "markdown",
   "id": "9c4657a3",
   "metadata": {},
   "source": [
    "##### Monte Carlo Propagation"
   ]
  },
  {
   "cell_type": "code",
   "execution_count": 8,
   "id": "80020116",
   "metadata": {
    "ExecuteTime": {
     "end_time": "2022-04-25T20:54:41.208419Z",
     "start_time": "2022-04-25T20:54:41.200793Z"
    }
   },
   "outputs": [],
   "source": [
    "def propagate(process,s0,ts,rgen,npaths):\n",
    "    nsteps=len(ts)\n",
    "    nvars=len(s0)\n",
    "    S=np.empty((nsteps,nvars,npaths))\n",
    "    S[0]=s0[:,np.newaxis]\n",
    "    nfactors=process.nfactors()\n",
    "    for it,t in enumerate(ts[:-1]):\n",
    "        dt=ts[it+1]-t\n",
    "        dW=rgen.standard_normal((nfactors,npaths))\n",
    "        S[it+1]=process(S[it],t,dt,dW)\n",
    "    return S"
   ]
  },
  {
   "attachments": {},
   "cell_type": "markdown",
   "id": "cba487f8",
   "metadata": {},
   "source": [
    "#### Black-Scholes and Implied Volatility Calculations\n",
    "\n",
    "##### Forward Option Price\n",
    "<a id=\"black-scholes\"/>"
   ]
  },
  {
   "cell_type": "code",
   "execution_count": 9,
   "id": "2df3e7b7",
   "metadata": {
    "ExecuteTime": {
     "end_time": "2022-04-25T20:54:41.215902Z",
     "start_time": "2022-04-25T20:54:41.210415Z"
    }
   },
   "outputs": [],
   "source": [
    "ndtr=stats.norm.cdf\n",
    "epsilon=1e-6\n",
    "\n",
    "def bs_price_fwd(isCall, K, T, F, sigma):\n",
    "    \"\"\" Black's pricing formula\n",
    "    \n",
    "    European option  forward price as a function of\n",
    "    the asset's forward.\n",
    "    \n",
    "    :param isCall: True for calls , False for Puts\n",
    "    :type isCall: Boolean\n",
    "    :param K: option strike\n",
    "    :param T: option expiry in years\n",
    "    :param F: forward of the options underlying asset\n",
    "    :param sigma: underlying's  volatility\n",
    "    :return: option's forward price\n",
    "    \"\"\"\n",
    "    \n",
    "    ds=np.maximum(epsilon,sigma*np.sqrt(T))\n",
    "    var=0.5*ds*ds\n",
    "    d2=(np.log(F/np.maximum(K,epsilon))-var)/ds\n",
    "    d1=d2+ds\n",
    "    if isCall:\n",
    "        opt= F*ndtr(d1) - K*ndtr(d2)\n",
    "    else:\n",
    "        opt= K*ndtr(-d2) - F*ndtr(-d1)\n",
    "    return opt\n",
    "\n"
   ]
  },
  {
   "attachments": {},
   "cell_type": "markdown",
   "id": "394d3093",
   "metadata": {
    "ExecuteTime": {
     "end_time": "2022-04-09T09:04:05.755849Z",
     "start_time": "2022-04-09T09:04:05.744459Z"
    }
   },
   "source": [
    "##### Implied Volatility Calculation\n",
    "\n",
    "<a id=\"implied-vol\"/>"
   ]
  },
  {
   "cell_type": "code",
   "execution_count": 10,
   "id": "8cece8b2",
   "metadata": {
    "ExecuteTime": {
     "end_time": "2022-04-25T20:54:41.224359Z",
     "start_time": "2022-04-25T20:54:41.217912Z"
    }
   },
   "outputs": [],
   "source": [
    "class BSPriceTarget:\n",
    "    def __init__(self,isCall,K,T,F,p):\n",
    "        self.isCall=isCall\n",
    "        self.K=K\n",
    "        self.T=T\n",
    "        self.F=F\n",
    "        self.p=p\n",
    "    def __call__(self,sigma):\n",
    "        return  bs_price_fwd(self.isCall,self.K,self.T,self.F,sigma)-self.p\n",
    "    \n",
    "\n",
    "def bs_implied_fwd(isCall, K, T, F, p, tol=1e-8,max_iter=1000, max_sigma=4):\n",
    "    \"\"\" Implied Blacks scholes volatility.\n",
    "    \n",
    "    European option implied volatility as a function of  forward option price and\n",
    "    underlying forward.\n",
    "    \n",
    "    :param isCall: True for calls , False for Puts\n",
    "    :type isCall: Boolean\n",
    "    :param K: option strike\n",
    "    :param T: option expiry in years\n",
    "    :param F: forward of the options underlying asset\n",
    "    :parm p: forward option price to expiry.\n",
    "    :param sigma: initial guess of the underlying's  volatility\n",
    "    :param tol: tolerance, the implied volatility returned by this function when used in :meth:`bs_price_fwd` function will match *p* with at most *tol* error.\n",
    "    :aram max_sigma: maximum level of volatility to attempt, defaults to 200%\n",
    "    :return: option's implied volatility\n",
    "    \"\"\"\n",
    "    func=BSPriceTarget(isCall,K,T,F,p)\n",
    "    sol=optimize.root_scalar(func,bracket=[0.0,max_sigma],x0=0.2,xtol=tol,maxiter=max_iter)\n",
    "    return sol.root"
   ]
  },
  {
   "attachments": {},
   "cell_type": "markdown",
   "id": "cea565b5",
   "metadata": {
    "ExecuteTime": {
     "end_time": "2022-04-09T11:05:28.734067Z",
     "start_time": "2022-04-09T11:05:28.721829Z"
    }
   },
   "source": [
    "#### European Option Payoff\n",
    "\n",
    "<a id=\"european-payof\"/>"
   ]
  },
  {
   "cell_type": "code",
   "execution_count": 11,
   "id": "82e65efc",
   "metadata": {
    "ExecuteTime": {
     "end_time": "2022-04-25T20:54:41.233894Z",
     "start_time": "2022-04-25T20:54:41.226316Z"
    }
   },
   "outputs": [],
   "source": [
    "class EuropeanOptionPayoff:\n",
    "    def __init__(self,is_call,strike,expiry,index=0):\n",
    "        if is_call: self.is_call= 1\n",
    "        else:       self.is_call=-1\n",
    "        self.strike=strike\n",
    "        self.expiry=expiry\n",
    "        self.step=None\n",
    "        self.index=index\n",
    "    def set_steps(self,ts):\n",
    "        self.step=np.searchsorted(ts,self.expiry)\n",
    "    def __call__(self,paths):\n",
    "        s=paths[self.step,self.index]\n",
    "        val=np.maximum(0.0,self.is_call*(s-self.strike))     \n",
    "        return val"
   ]
  },
  {
   "attachments": {},
   "cell_type": "markdown",
   "id": "51124ca3",
   "metadata": {
    "ExecuteTime": {
     "end_time": "2022-04-09T08:55:18.350702Z",
     "start_time": "2022-04-09T08:55:18.340936Z"
    }
   },
   "source": [
    "### Market Data Inputs\n",
    "\n",
    "<a id=\"market-data\"/>"
   ]
  },
  {
   "cell_type": "markdown",
   "id": "aa6d5915",
   "metadata": {
    "ExecuteTime": {
     "end_time": "2022-04-09T08:55:11.055931Z",
     "start_time": "2022-04-09T08:55:11.052605Z"
    }
   },
   "source": [
    "#### Forwards"
   ]
  },
  {
   "cell_type": "code",
   "execution_count": 12,
   "id": "1f1be5fc",
   "metadata": {
    "ExecuteTime": {
     "end_time": "2022-04-25T20:54:41.241739Z",
     "start_time": "2022-04-25T20:54:41.236375Z"
    }
   },
   "outputs": [],
   "source": [
    "Ts=np.array([0.25,1,2,5])\n",
    "S0=1.0\n",
    "rates=np.array([0.02,0.022,0.025,0.0375])\n",
    "div_rates=np.array([0.015,0.0175,0.02,0.025])\n",
    "\n",
    "fwds=[]\n",
    "\n",
    "# asset 1\n",
    "disc=Discount(Ts,rates)\n",
    "div=Discount(Ts,div_rates)\n",
    "fwds.append(Forward(S0,disc,div))\n",
    "\n",
    "# asset 2\n",
    "div=Discount(Ts,0*div_rates) # no dividends\n",
    "fwds.append(Forward(S0,disc,div))\n",
    "\n",
    "# asset 3\n",
    "div=Discount(Ts,4*div_rates) # large divident rate, falling forwards\n",
    "fwds.append(Forward(S0,disc,div))\n",
    "\n",
    "nassets=len(fwds)"
   ]
  },
  {
   "cell_type": "markdown",
   "id": "9f6bcbec",
   "metadata": {},
   "source": [
    "#### Volatilities"
   ]
  },
  {
   "cell_type": "code",
   "execution_count": 13,
   "id": "8750cc48",
   "metadata": {
    "ExecuteTime": {
     "end_time": "2022-04-25T20:54:41.253429Z",
     "start_time": "2022-04-25T20:54:41.243302Z"
    }
   },
   "outputs": [],
   "source": [
    "sig0s=np.array([0.16,0.16,0.16,0.16])\n",
    "as_=Ts* sig0s**2\n",
    "bs=np.sqrt(Ts)*np.array([0.05,0.05,0.05,0.05])\n",
    "rhos=np.array([-0.75,-0.75,-0.75,-0.75])\n",
    "ms=np.array([0.0,0.0,0.0,0.0])\n",
    "sigs=np.array([0.1,0.1,0.1,0.1])\n",
    "vols=[]\n",
    "vols.append(SVI(fwds[0],Ts,as_,bs,rhos,ms,sigs))\n",
    "vols.append(SVI(fwds[1],Ts,4*as_,0.5*bs,rhos,ms,sigs))\n",
    "vols.append(SVI(fwds[2],Ts,0.25*as_,2*bs,rhos,ms,sigs))"
   ]
  },
  {
   "cell_type": "markdown",
   "id": "c65593d9",
   "metadata": {
    "ExecuteTime": {
     "end_time": "2022-04-09T09:27:58.394401Z",
     "start_time": "2022-04-09T09:27:58.382709Z"
    }
   },
   "source": [
    "#### Correlation"
   ]
  },
  {
   "cell_type": "code",
   "execution_count": 14,
   "id": "28be8ef0",
   "metadata": {
    "ExecuteTime": {
     "end_time": "2022-04-25T20:54:41.259481Z",
     "start_time": "2022-04-25T20:54:41.255225Z"
    }
   },
   "outputs": [],
   "source": [
    "corr=np.array(\n",
    "    [ [ 1,  0.5, 0.25],\n",
    "      [0.5, 1.0, 0.75],\n",
    "      [0.25,0.75, 1.0]\n",
    "    ]\n",
    ")"
   ]
  },
  {
   "attachments": {},
   "cell_type": "markdown",
   "id": "140a3e20",
   "metadata": {},
   "source": [
    "## Problem 1: Antithetic Monte Carlo Paths"
   ]
  },
  {
   "attachments": {},
   "cell_type": "markdown",
   "id": "007ee117",
   "metadata": {},
   "source": [
    "### Problem 1.1 \n",
    "\n",
    "Using the market data inputs ([forwards, volatilities and correlations](#market-data)) defined previously in this notebook use Monte Carlo with the [Multivariate Local volatility process](#vol_process) to generate 1,000 paths  with daily time steps for one year and **regular Monte Carlo** sampling (like you did in last homework."
   ]
  },
  {
   "cell_type": "code",
   "execution_count": 15,
   "id": "e5ed209a",
   "metadata": {
    "ExecuteTime": {
     "end_time": "2022-04-25T20:54:41.269332Z",
     "start_time": "2022-04-25T20:54:41.261159Z"
    }
   },
   "outputs": [
    {
     "data": {
      "text/plain": [
       "<__main__.MVLocalVolProcess at 0x7f7255ceb070>"
      ]
     },
     "execution_count": 15,
     "metadata": {},
     "output_type": "execute_result"
    }
   ],
   "source": [
    "process=MVLocalVolProcess(fwds,vols,corr)\n",
    "process"
   ]
  },
  {
   "cell_type": "code",
   "execution_count": 16,
   "id": "c7d5547f",
   "metadata": {
    "ExecuteTime": {
     "end_time": "2022-04-25T20:54:41.277371Z",
     "start_time": "2022-04-25T20:54:41.271286Z"
    }
   },
   "outputs": [],
   "source": [
    "npaths=1_000"
   ]
  },
  {
   "cell_type": "code",
   "execution_count": 17,
   "id": "fbb144fd",
   "metadata": {
    "ExecuteTime": {
     "end_time": "2022-04-25T20:54:41.284488Z",
     "start_time": "2022-04-25T20:54:41.279432Z"
    }
   },
   "outputs": [],
   "source": [
    "mc_ts=np.linspace(0,1,366)"
   ]
  },
  {
   "cell_type": "code",
   "execution_count": 18,
   "id": "cc1828d5",
   "metadata": {
    "ExecuteTime": {
     "end_time": "2022-04-25T20:54:41.293387Z",
     "start_time": "2022-04-25T20:54:41.286995Z"
    }
   },
   "outputs": [
    {
     "data": {
      "text/plain": [
       "3"
      ]
     },
     "execution_count": 18,
     "metadata": {},
     "output_type": "execute_result"
    }
   ],
   "source": [
    "S0=np.array([1,1,1])\n",
    "nvars=len(S0)\n",
    "nvars"
   ]
  },
  {
   "cell_type": "code",
   "execution_count": 19,
   "id": "7856f024",
   "metadata": {
    "ExecuteTime": {
     "end_time": "2022-04-25T20:54:41.755094Z",
     "start_time": "2022-04-25T20:54:41.295428Z"
    }
   },
   "outputs": [],
   "source": [
    "paths=propagate(process,S0,mc_ts,rng,npaths)"
   ]
  },
  {
   "attachments": {},
   "cell_type": "markdown",
   "id": "e5f78993",
   "metadata": {
    "ExecuteTime": {
     "end_time": "2022-04-09T09:46:56.657143Z",
     "start_time": "2022-04-09T09:46:56.638576Z"
    }
   },
   "source": [
    "###  Problem 1.2 \n",
    "\n",
    "Implement a `propagate_antithetic` with signature:\n",
    "\n",
    "[HINT] Consult the lecture notes"
   ]
  },
  {
   "cell_type": "code",
   "execution_count": 20,
   "id": "45c2b53d",
   "metadata": {
    "ExecuteTime": {
     "end_time": "2022-04-25T20:54:41.759611Z",
     "start_time": "2022-04-25T20:54:41.757029Z"
    }
   },
   "outputs": [],
   "source": [
    "def propagate_antithetic(process,s0,ts,rgen,npaths):\n",
    "    pass"
   ]
  },
  {
   "cell_type": "code",
   "execution_count": 21,
   "id": "2fbc9313",
   "metadata": {
    "ExecuteTime": {
     "end_time": "2022-04-25T20:54:41.771997Z",
     "start_time": "2022-04-25T20:54:41.761593Z"
    }
   },
   "outputs": [],
   "source": [
    "def propagate_antithetic(process,s0,ts,rgen,npaths):\n",
    "    nsteps=len(ts)\n",
    "    nvars=len(s0)\n",
    "    S=np.empty((nsteps,nvars,npaths))\n",
    "    S[0]=s0[:,np.newaxis]\n",
    "    nfactors=process.nfactors()\n",
    "    for it,t in enumerate(ts[:-1]):\n",
    "        dt=ts[it+1]-t\n",
    "        dZ=rgen.standard_normal((nfactors,npaths//2))\n",
    "        S[it+1][:,::2]=process(S[it][:,::2],t,dt,dZ)\n",
    "        S[it+1][:,1::2]=process(S[it][:,1::2],t,dt,-dZ)\n",
    "    return S # (nsteps, nvars, npaths) array"
   ]
  },
  {
   "attachments": {},
   "cell_type": "markdown",
   "id": "1f9580c1",
   "metadata": {},
   "source": [
    "### Problem 1.3 \n",
    "\n",
    "\n",
    "Using the market data inputs ([forwards, volatilities and correlations](#market-data)) defined previously in this notebook use Monte Carlo with the [Multivariate Local volatility process](#vol_process) to generate 10,000 paths  with daily time steps for one year and **antithetic Monte Carlo** sampling (like you did in last homework."
   ]
  },
  {
   "cell_type": "code",
   "execution_count": 22,
   "id": "0dcf39df",
   "metadata": {
    "ExecuteTime": {
     "end_time": "2022-04-25T20:54:42.185448Z",
     "start_time": "2022-04-25T20:54:41.775256Z"
    }
   },
   "outputs": [
    {
     "data": {
      "text/plain": [
       "(366, 3, 1000)"
      ]
     },
     "execution_count": 22,
     "metadata": {},
     "output_type": "execute_result"
    }
   ],
   "source": [
    "antithetic_paths=propagate_antithetic(process,S0,mc_ts,rng,npaths)\n",
    "antithetic_paths.shape"
   ]
  },
  {
   "attachments": {},
   "cell_type": "markdown",
   "id": "5f140417",
   "metadata": {},
   "source": [
    "### Problem 1.4\n",
    "\n",
    "Implemented `std_antithetic` function to evaluate the MC sampling standard deviation\n",
    "of antithetic paths with signature:\n",
    "\n",
    "[HINT] Look at the lecture notes"
   ]
  },
  {
   "cell_type": "code",
   "execution_count": 23,
   "id": "c2926348",
   "metadata": {
    "ExecuteTime": {
     "end_time": "2022-04-25T20:54:42.189853Z",
     "start_time": "2022-04-25T20:54:42.187300Z"
    }
   },
   "outputs": [],
   "source": [
    "def std_antithetic(payoff):\n",
    "    pass"
   ]
  },
  {
   "cell_type": "code",
   "execution_count": 24,
   "id": "3e59342c",
   "metadata": {
    "ExecuteTime": {
     "end_time": "2022-04-25T20:54:42.198559Z",
     "start_time": "2022-04-25T20:54:42.191763Z"
    }
   },
   "outputs": [],
   "source": [
    "def std_antithetic(payoff):\n",
    "    used_payoff=(payoff[::2]+payoff[1::2])/2\n",
    "    return np.sqrt(used_payoff.var()/len(used_payoff))"
   ]
  },
  {
   "attachments": {},
   "cell_type": "markdown",
   "id": "e438a7fd",
   "metadata": {},
   "source": [
    "### Problem 1.5 \n",
    "\n",
    "Make two plots: \n",
    "1. The first plot showing the first 2 paths  regular  Monte Carlo for the first asset\n",
    "2. The Second plot should show the first 2 paths of antithetic Monte Carlo."
   ]
  },
  {
   "cell_type": "code",
   "execution_count": 25,
   "id": "19c0226f",
   "metadata": {
    "ExecuteTime": {
     "end_time": "2022-04-25T20:54:42.437810Z",
     "start_time": "2022-04-25T20:54:42.200588Z"
    }
   },
   "outputs": [
    {
     "data": {
      "text/plain": [
       "Text(0, 0.5, 'S')"
      ]
     },
     "execution_count": 25,
     "metadata": {},
     "output_type": "execute_result"
    },
    {
     "data": {
      "image/png": "[encoded data removed]",
      "text/plain": [
       "<Figure size 1200x500 with 2 Axes>"
      ]
     },
     "metadata": {},
     "output_type": "display_data"
    }
   ],
   "source": [
    "plt.figure(figsize=(12,5))\n",
    "plt.subplot(121)\n",
    "plt.title(\"Regular Monte Carlo\")\n",
    "plt.plot(mc_ts,paths[:,0,0])\n",
    "plt.plot(mc_ts,paths[:,0,1])\n",
    "plt.xlabel(\"T\")\n",
    "plt.ylabel(\"S\")\n",
    "\n",
    "plt.subplot(122)\n",
    "plt.title(\"Antithetic Monte Carlo\")\n",
    "plt.plot(mc_ts,antithetic_paths[:,0,0])\n",
    "plt.plot(mc_ts,antithetic_paths[:,0,1])\n",
    "plt.xlabel(\"T\")\n",
    "plt.ylabel(\"S\")\n"
   ]
  },
  {
   "attachments": {},
   "cell_type": "markdown",
   "id": "27747003",
   "metadata": {},
   "source": [
    "### Problem 1.6\n",
    "\n",
    "For each asset $\\alpha=1,2,3$ make a plot comparing the MC sampling error of plain  Monte Carlo and antithetic sampling for the estimation of \n",
    "$$\n",
    "    \\mathbb{E}[S_T]\n",
    "$$\n",
    "as a function of the expiry $T$\n",
    "\n"
   ]
  },
  {
   "cell_type": "code",
   "execution_count": 26,
   "id": "cffaa2da",
   "metadata": {
    "ExecuteTime": {
     "end_time": "2022-04-25T20:54:42.510924Z",
     "start_time": "2022-04-25T20:54:42.439798Z"
    }
   },
   "outputs": [
    {
     "name": "stdout",
     "output_type": "stream",
     "text": [
      "(366, 3)\n"
     ]
    }
   ],
   "source": [
    "std=np.sqrt(paths.var(axis=-1)/npaths)\n",
    "print(std.shape)\n",
    "std_a=np.empty_like(std)\n",
    "for t_idx,t in enumerate(mc_ts):\n",
    "    for alpha in range(3):\n",
    "        pay=antithetic_paths[t_idx,alpha]\n",
    "        std_a[t_idx,alpha]=std_antithetic(pay)"
   ]
  },
  {
   "cell_type": "code",
   "execution_count": 27,
   "id": "0a81f0a4",
   "metadata": {
    "ExecuteTime": {
     "end_time": "2022-04-25T20:54:42.901108Z",
     "start_time": "2022-04-25T20:54:42.512825Z"
    }
   },
   "outputs": [
    {
     "data": {
      "image/png": "[encoded data removed]",
      "text/plain": [
       "<Figure size 1800x500 with 3 Axes>"
      ]
     },
     "metadata": {},
     "output_type": "display_data"
    }
   ],
   "source": [
    "plt.figure(figsize=(18,5))\n",
    "for alpha in range(3):\n",
    "    plt.subplot(1,3,alpha+1)\n",
    "    plt.title(f\"Asset {alpha+1}\")\n",
    "    p=plt.plot(mc_ts,std[:,alpha],label=\"MC\")\n",
    "    color=p[0].get_color()\n",
    "    plt.plot(mc_ts,std_a[:,alpha],color=color,linestyle=\"dashed\",label=\"Antithetic\")\n",
    "    plt.xlabel(\"T\")\n",
    "    plt.ylabel(\"\\delta F\")\n",
    "    plt.legend()"
   ]
  },
  {
   "attachments": {},
   "cell_type": "markdown",
   "id": "1267ed74",
   "metadata": {
    "ExecuteTime": {
     "end_time": "2022-04-25T09:09:43.455900Z",
     "start_time": "2022-04-25T09:09:43.444291Z"
    }
   },
   "source": [
    "### Problem 1.7 \n",
    "\n",
    "For each asset $\\alpha=1,2,3$ make a plot comparing the MC sampling error of plain  Monte Carlo and antithetic sampling for the estimation of  for the At the Money Forward Call Option with payoff\n",
    "\n",
    "$$\n",
    "    \\max( S_{\\alpha,T} - F_{\\alpha,T},0)\n",
    "$$"
   ]
  },
  {
   "cell_type": "code",
   "execution_count": 28,
   "id": "732d3ee5",
   "metadata": {
    "ExecuteTime": {
     "end_time": "2022-04-25T20:54:43.001621Z",
     "start_time": "2022-04-25T20:54:42.903844Z"
    },
    "code_folding": []
   },
   "outputs": [],
   "source": [
    "std=np.empty((len(mc_ts),nvars))\n",
    "std_a=np.empty((len(mc_ts),nvars))\n",
    "for (t_idx,t) in enumerate(mc_ts):\n",
    "    for alpha in range(nvars):\n",
    "        F=fwds[alpha](t)\n",
    "        pay=np.maximum(paths[t_idx,alpha]-F,0)\n",
    "        pay_a=np.maximum(antithetic_paths[t_idx,alpha]-F,0)\n",
    "        std[t_idx,alpha]=np.sqrt(pay.var()/npaths)\n",
    "        std_a[t_idx,alpha]=std_antithetic(pay_a)"
   ]
  },
  {
   "cell_type": "code",
   "execution_count": 29,
   "id": "bc4a13f0",
   "metadata": {
    "ExecuteTime": {
     "end_time": "2022-04-25T20:54:43.392320Z",
     "start_time": "2022-04-25T20:54:43.003389Z"
    }
   },
   "outputs": [
    {
     "data": {
      "image/png": "[encoded data removed]",
      "text/plain": [
       "<Figure size 1800x500 with 3 Axes>"
      ]
     },
     "metadata": {},
     "output_type": "display_data"
    }
   ],
   "source": [
    "plt.figure(figsize=(18,5))\n",
    "for alpha in range(3):\n",
    "    plt.subplot(1,3,alpha+1)\n",
    "    plt.title(f\"Asset {alpha+1}\")\n",
    "    p=plt.plot(mc_ts,std[:,alpha],label=\"MC\")\n",
    "    color=p[0].get_color()\n",
    "    plt.plot(mc_ts,std_a[:,alpha],color=color,linestyle=\"dashed\",label=\"Antithetic\")\n",
    "    plt.xlabel(\"T\")\n",
    "    plt.ylabel(\"\\delta C\")\n",
    "    plt.legend()"
   ]
  },
  {
   "attachments": {},
   "cell_type": "markdown",
   "id": "791a3fbb",
   "metadata": {
    "ExecuteTime": {
     "end_time": "2022-04-25T09:16:38.152067Z",
     "start_time": "2022-04-25T09:16:38.138716Z"
    }
   },
   "source": [
    "### Problem 1.8\n",
    "\n",
    "For each asset $\\alpha=1,2,3$ make a plot comparing the MC sampling error of plain  Monte Carlo and antithetic sampling for the estimation of  for the At the Money Forward **straddle** Option with payoff\n",
    "\n",
    "$$\n",
    "    \\max( S_{\\alpha,T} - F_{\\alpha,T},0) + \\max(F_{\\alpha,T}- S_{\\alpha,T} -,0)\n",
    "$$\n",
    "\n",
    "(A straddle is the sum of a put and a call option with the same strike)"
   ]
  },
  {
   "cell_type": "code",
   "execution_count": 30,
   "id": "e60efd52",
   "metadata": {
    "ExecuteTime": {
     "end_time": "2022-04-25T20:54:43.518503Z",
     "start_time": "2022-04-25T20:54:43.396814Z"
    }
   },
   "outputs": [],
   "source": [
    "std=np.empty((len(mc_ts),nvars))\n",
    "std_a=np.empty((len(mc_ts),nvars))\n",
    "for (t_idx,t) in enumerate(mc_ts):\n",
    "    for alpha in range(nvars):\n",
    "        F=fwds[alpha](t)\n",
    "        pay=np.maximum(paths[t_idx,alpha]-F,0)+np.maximum(F-paths[t_idx,alpha],0)\n",
    "        pay_a=np.maximum(antithetic_paths[t_idx,alpha]-F,0)+np.maximum(F-antithetic_paths[t_idx,alpha],0)\n",
    "        std[t_idx,alpha]=np.sqrt(pay.var()/npaths)\n",
    "        std_a[t_idx,alpha]=std_antithetic(pay_a)"
   ]
  },
  {
   "cell_type": "code",
   "execution_count": 31,
   "id": "7f294f81",
   "metadata": {
    "ExecuteTime": {
     "end_time": "2022-04-25T20:54:43.853756Z",
     "start_time": "2022-04-25T20:54:43.520008Z"
    }
   },
   "outputs": [
    {
     "data": {
      "image/png": "[encoded data removed]",
      "text/plain": [
       "<Figure size 1800x500 with 3 Axes>"
      ]
     },
     "metadata": {},
     "output_type": "display_data"
    }
   ],
   "source": [
    "plt.figure(figsize=(18,5))\n",
    "for alpha in range(3):\n",
    "    plt.subplot(1,3,alpha+1)\n",
    "    plt.title(f\"Asset {alpha+1}\")\n",
    "    p=plt.plot(mc_ts,std[:,alpha],label=\"MC\")\n",
    "    color=p[0].get_color()\n",
    "    plt.plot(mc_ts,std_a[:,alpha],color=color,linestyle=\"dashed\",label=\"Antithetic\")\n",
    "    plt.xlabel(\"T\")\n",
    "    plt.ylabel(\"\\delta Str\")\n",
    "    plt.legend()"
   ]
  },
  {
   "attachments": {},
   "cell_type": "markdown",
   "id": "c5f4df42",
   "metadata": {},
   "source": [
    "### Problem 1.9 \n",
    "Comment on the different in results between the Call option (Problem 1.7) and the Straddle (Problem 1.8).\n",
    "Can you explain why?"
   ]
  },
  {
   "cell_type": "markdown",
   "id": "769f127d",
   "metadata": {
    "ExecuteTime": {
     "end_time": "2022-04-25T09:27:46.693727Z",
     "start_time": "2022-04-25T09:27:46.681660Z"
    }
   },
   "source": [
    "<div class=\"alert alert-block alert-success\"> \n",
    "    Antithetic sampling lowers variance for call options but <b>increases</b> it for the straddles.\n",
    "\n",
    "This is because the Call option is an increasing payoff, so there is a negative correlation\n",
    "between $f(\\text{d}W)$ and $-f(\\text{d}W)$. \n",
    "    \n",
    "The straddle payoff, however, is symmetric around the forward $F$\n",
    "and, therefore $f(\\text{d}W)$ and $-f(\\text{d}W)$ have positive correlation.\n",
    "</div>"
   ]
  },
  {
   "attachments": {},
   "cell_type": "markdown",
   "id": "a377c7db",
   "metadata": {},
   "source": [
    "## Problem 2: Call on Worst of Asians\n",
    "\n",
    "The payout of a worst of asian call is\n",
    "$$\n",
    "\\text{call} = \\max( W - K,0)\n",
    "$$\n",
    "where $W$ is the works of Asian averages\n",
    "$$\n",
    "        W = \\min_{\\alpha} A_\\alpha\n",
    "$$\n",
    "and  $A_\\alpha$ is the Asian average of asset $\\alpha$ \n",
    "$$\n",
    "    A_\\alpha = \\frac{1}{T}\\sum_{t<T} S_{\\alpha,t}\n",
    "$$\n",
    "### Problem 2.1\n",
    "\n",
    "Using the Monte Carlo paths already generated price a One year, At the money forward,  Call Option on the Worst of Asian Averages (your implemented this payoff on Problem 3 or last homework).\n",
    "\n",
    "Compare the Averages and Monte Carlo sampling errors for regular Monte Carlo and antithetic sampling.\n",
    "\n",
    "[HINT] By At the Money forward for the Basket use the Average of the three asset Forwards"
   ]
  },
  {
   "cell_type": "code",
   "execution_count": 32,
   "id": "2e59c505",
   "metadata": {
    "ExecuteTime": {
     "end_time": "2022-04-25T20:54:43.859672Z",
     "start_time": "2022-04-25T20:54:43.855440Z"
    }
   },
   "outputs": [],
   "source": [
    "class CallWorstofAsiansPayoff:\n",
    "    def __init__(self,strike,expiry):\n",
    "        self.strike=strike\n",
    "        self.expiry=expiry\n",
    "        self.step=None\n",
    "    def set_steps(self,ts):\n",
    "        self.step=np.searchsorted(ts,self.expiry)\n",
    "    def __call__(self,paths):\n",
    "        s=paths[:self.step] # restict observation up to expiry\n",
    "        m=s.mean(axis=0) # compute Asian mean for each asset\n",
    "        w=m.min(axis=0) # compute work of means\n",
    "        val=np.maximum(0.0,w-self.strike) # call on worst of means      \n",
    "        return val"
   ]
  },
  {
   "cell_type": "code",
   "execution_count": 33,
   "id": "9ca1e878",
   "metadata": {
    "ExecuteTime": {
     "end_time": "2022-04-25T20:54:43.871985Z",
     "start_time": "2022-04-25T20:54:43.861501Z"
    }
   },
   "outputs": [],
   "source": [
    "T=1\n",
    "F1=fwds[0](T)\n",
    "F2=fwds[1](T)\n",
    "F3=fwds[2](T)\n",
    "Fb=(F1+F2+F3)/3"
   ]
  },
  {
   "cell_type": "code",
   "execution_count": 34,
   "id": "2bd998d8",
   "metadata": {
    "ExecuteTime": {
     "end_time": "2022-04-25T20:54:43.878030Z",
     "start_time": "2022-04-25T20:54:43.874364Z"
    }
   },
   "outputs": [],
   "source": [
    "worstof =CallWorstofAsiansPayoff(Fb,T)\n",
    "worstof.set_steps(mc_ts)"
   ]
  },
  {
   "cell_type": "code",
   "execution_count": 35,
   "id": "33852d99",
   "metadata": {
    "ExecuteTime": {
     "end_time": "2022-04-25T20:54:43.889640Z",
     "start_time": "2022-04-25T20:54:43.879495Z"
    }
   },
   "outputs": [],
   "source": [
    "pay=worstof(paths)\n",
    "pay_a=worstof(antithetic_paths)"
   ]
  },
  {
   "cell_type": "code",
   "execution_count": 36,
   "id": "13e46658",
   "metadata": {
    "ExecuteTime": {
     "end_time": "2022-04-25T20:54:43.898429Z",
     "start_time": "2022-04-25T20:54:43.893421Z"
    }
   },
   "outputs": [
    {
     "name": "stdout",
     "output_type": "stream",
     "text": [
      "MC Price 0.01225276414579205\n",
      "Antithetics Price 0.01162107400882717\n"
     ]
    }
   ],
   "source": [
    "mc_price=pay.mean()\n",
    "amc_price=pay_a.mean()\n",
    "print(\"MC Price\",mc_price)\n",
    "print(\"Antithetics Price\",amc_price)"
   ]
  },
  {
   "cell_type": "code",
   "execution_count": 37,
   "id": "b1afa202",
   "metadata": {
    "ExecuteTime": {
     "end_time": "2022-04-25T20:54:43.909515Z",
     "start_time": "2022-04-25T20:54:43.900594Z"
    }
   },
   "outputs": [
    {
     "name": "stdout",
     "output_type": "stream",
     "text": [
      "MC std 0.0008933201510016745\n",
      "Antithetics std 0.0007183860530580858\n"
     ]
    }
   ],
   "source": [
    "mc_std=np.sqrt(pay.var()/npaths)\n",
    "amc_std=std_antithetic(pay_a)\n",
    "print(\"MC std\",mc_std)\n",
    "print(\"Antithetics std\",amc_std)"
   ]
  },
  {
   "attachments": {},
   "cell_type": "markdown",
   "id": "c3281d03",
   "metadata": {},
   "source": [
    "### Problem 2.2\n",
    "To approximate the exact value of the option, re-price the option using regular\n",
    "Monte Carlo Sampling and 100_000 samples.\n",
    "\n",
    "Are the MC mean and std error estimates you found in problem 2.1 consistent with this exact value? "
   ]
  },
  {
   "cell_type": "code",
   "execution_count": 38,
   "id": "905c0cc1",
   "metadata": {
    "ExecuteTime": {
     "end_time": "2022-04-25T20:54:52.828036Z",
     "start_time": "2022-04-25T20:54:43.911447Z"
    }
   },
   "outputs": [],
   "source": [
    "lpaths=propagate(process,S0,mc_ts,rng,100_000)"
   ]
  },
  {
   "cell_type": "code",
   "execution_count": 39,
   "id": "6a0b5975",
   "metadata": {
    "ExecuteTime": {
     "end_time": "2022-04-25T20:54:52.949464Z",
     "start_time": "2022-04-25T20:54:52.829557Z"
    }
   },
   "outputs": [
    {
     "data": {
      "text/plain": [
       "((0.01127791378879043,), 8.242674034420621e-05)"
      ]
     },
     "execution_count": 39,
     "metadata": {},
     "output_type": "execute_result"
    }
   ],
   "source": [
    "lpay=worstof(lpaths)\n",
    "eprice=lpay.mean(),\n",
    "eprice,np.sqrt(lpay.var()/100_000)"
   ]
  },
  {
   "cell_type": "code",
   "execution_count": 40,
   "id": "9a54e7b8",
   "metadata": {
    "ExecuteTime": {
     "end_time": "2022-04-25T20:54:52.956657Z",
     "start_time": "2022-04-25T20:54:52.951216Z"
    }
   },
   "outputs": [
    {
     "data": {
      "text/plain": [
       "array([1.0912665])"
      ]
     },
     "execution_count": 40,
     "metadata": {},
     "output_type": "execute_result"
    }
   ],
   "source": [
    "(mc_price-eprice)/mc_std"
   ]
  },
  {
   "cell_type": "code",
   "execution_count": 41,
   "id": "741cb91c",
   "metadata": {
    "ExecuteTime": {
     "end_time": "2022-04-25T20:54:52.966051Z",
     "start_time": "2022-04-25T20:54:52.958405Z"
    }
   },
   "outputs": [
    {
     "data": {
      "text/plain": [
       "array([0.38414024])"
      ]
     },
     "execution_count": 41,
     "metadata": {},
     "output_type": "execute_result"
    }
   ],
   "source": [
    "(amc_price-eprice)/mc_std"
   ]
  },
  {
   "cell_type": "markdown",
   "id": "fe5229d1",
   "metadata": {
    "ExecuteTime": {
     "end_time": "2022-04-25T09:55:14.698150Z",
     "start_time": "2022-04-25T09:55:14.694950Z"
    }
   },
   "source": [
    "<div class=\"alert alert-block alert-success\"> \n",
    "\n",
    "The distance between MC price and Exact price is within one standard deviation for or regular Monte Carlo and for Antithetic Sampling.\n",
    "\n",
    "Antithetic sampling has a slightly reduced (80%) variance\n",
    "\n",
    "</div>"
   ]
  },
  {
   "cell_type": "code",
   "execution_count": 42,
   "id": "fc7932a8",
   "metadata": {
    "ExecuteTime": {
     "end_time": "2022-04-25T20:54:52.973786Z",
     "start_time": "2022-04-25T20:54:52.968130Z"
    }
   },
   "outputs": [
    {
     "data": {
      "text/plain": [
       "0.8041753589153495"
      ]
     },
     "execution_count": 42,
     "metadata": {},
     "output_type": "execute_result"
    }
   ],
   "source": [
    "amc_std/mc_std"
   ]
  },
  {
   "attachments": {},
   "cell_type": "markdown",
   "id": "0ba27a3a",
   "metadata": {},
   "source": [
    "## Problem 3: Control Variates for Worst of Asian Call"
   ]
  },
  {
   "attachments": {},
   "cell_type": "markdown",
   "id": "ae013dcf",
   "metadata": {},
   "source": [
    "### Problem 3.1 \n",
    "\n",
    "Price again the  one year, At the money forward,  Call Option on the Worst of Asian Averages\n",
    "using some control variates (you should select what you think are the most promissing control variates)\n",
    "\n",
    "[HINT] There are many ways to perform a multivariate linear regression in python. For example, you could use [numpy.linalg.lstsq](https://numpy.org/doc/stable/reference/generated/numpy.linalg.lstsq.html), but feel free to use which ever method you like best."
   ]
  },
  {
   "cell_type": "code",
   "execution_count": 43,
   "id": "b2d379b1",
   "metadata": {
    "ExecuteTime": {
     "end_time": "2022-04-25T20:54:52.981334Z",
     "start_time": "2022-04-25T20:54:52.975610Z"
    }
   },
   "outputs": [],
   "source": [
    "F=np.empty(nvars)\n",
    "for alpha in range(nvars):\n",
    "    F[alpha]=fwds[alpha](1)"
   ]
  },
  {
   "cell_type": "code",
   "execution_count": 44,
   "id": "89891463",
   "metadata": {
    "ExecuteTime": {
     "end_time": "2022-04-25T20:54:52.989984Z",
     "start_time": "2022-04-25T20:54:52.982958Z"
    }
   },
   "outputs": [],
   "source": [
    "X=np.empty((npaths,nvars+1))"
   ]
  },
  {
   "cell_type": "code",
   "execution_count": 45,
   "id": "1f48fc66",
   "metadata": {
    "ExecuteTime": {
     "end_time": "2022-04-25T20:54:52.998503Z",
     "start_time": "2022-04-25T20:54:52.991415Z"
    }
   },
   "outputs": [],
   "source": [
    "X[:,0]=1\n",
    "for alpha in range(3):\n",
    "    X[:,alpha+1]=np.maximum(paths[-1,alpha,:]-F[alpha],0)"
   ]
  },
  {
   "cell_type": "code",
   "execution_count": 46,
   "id": "0e7fcef4",
   "metadata": {
    "ExecuteTime": {
     "end_time": "2022-04-25T20:54:53.007307Z",
     "start_time": "2022-04-25T20:54:53.000086Z"
    }
   },
   "outputs": [
    {
     "data": {
      "text/plain": [
       "(1000, 4)"
      ]
     },
     "execution_count": 46,
     "metadata": {},
     "output_type": "execute_result"
    }
   ],
   "source": [
    "X.shape"
   ]
  },
  {
   "cell_type": "code",
   "execution_count": 47,
   "id": "594c7cd4",
   "metadata": {
    "ExecuteTime": {
     "end_time": "2022-04-25T20:54:53.017871Z",
     "start_time": "2022-04-25T20:54:53.009012Z"
    }
   },
   "outputs": [
    {
     "data": {
      "text/plain": [
       "array([-0.00417432,  0.06148762,  0.02933621,  0.16391927])"
      ]
     },
     "execution_count": 47,
     "metadata": {},
     "output_type": "execute_result"
    }
   ],
   "source": [
    "fit=np.linalg.lstsq(X,pay,rcond=None)\n",
    "theta=fit[0]\n",
    "theta"
   ]
  },
  {
   "cell_type": "code",
   "execution_count": 48,
   "id": "60fabde3",
   "metadata": {
    "ExecuteTime": {
     "end_time": "2022-04-25T20:54:53.025461Z",
     "start_time": "2022-04-25T20:54:53.020493Z"
    }
   },
   "outputs": [],
   "source": [
    "prices=np.empty(nvars+1)\n",
    "prices[0]=1\n",
    "for alpha in range(nvars):\n",
    "    sig=vols[alpha](T,F[alpha])\n",
    "    prices[alpha+1]=bs_price_fwd(True,F[alpha],T,F[alpha],sig)"
   ]
  },
  {
   "cell_type": "code",
   "execution_count": 49,
   "id": "48ef8df6",
   "metadata": {
    "ExecuteTime": {
     "end_time": "2022-04-25T20:54:53.031906Z",
     "start_time": "2022-04-25T20:54:53.027726Z"
    }
   },
   "outputs": [
    {
     "name": "stdout",
     "output_type": "stream",
     "text": [
      "Control Variate Price 0.011965156113823518\n"
     ]
    }
   ],
   "source": [
    "cv_price=np.dot(prices,theta)\n",
    "print(\"Control Variate Price\",cv_price)"
   ]
  },
  {
   "attachments": {},
   "cell_type": "markdown",
   "id": "e2e42cf5",
   "metadata": {},
   "source": [
    "### Problem 3.2\n",
    "\n",
    "Estimate the sampling error of the control variate price. Is it lower or higher than \n",
    "the antithetic sampling estimate?"
   ]
  },
  {
   "cell_type": "code",
   "execution_count": 50,
   "id": "32540853",
   "metadata": {
    "ExecuteTime": {
     "end_time": "2022-04-25T20:54:53.037504Z",
     "start_time": "2022-04-25T20:54:53.034270Z"
    }
   },
   "outputs": [],
   "source": [
    "err=pay - np.dot(X,theta)"
   ]
  },
  {
   "cell_type": "code",
   "execution_count": 51,
   "id": "d753ced2",
   "metadata": {
    "ExecuteTime": {
     "end_time": "2022-04-25T20:54:53.047754Z",
     "start_time": "2022-04-25T20:54:53.039015Z"
    }
   },
   "outputs": [
    {
     "data": {
      "text/plain": [
       "4"
      ]
     },
     "execution_count": 51,
     "metadata": {},
     "output_type": "execute_result"
    }
   ],
   "source": [
    "D=X.shape[1]\n",
    "D"
   ]
  },
  {
   "cell_type": "code",
   "execution_count": 52,
   "id": "51fbbac6",
   "metadata": {
    "ExecuteTime": {
     "end_time": "2022-04-25T20:54:53.054823Z",
     "start_time": "2022-04-25T20:54:53.049655Z"
    }
   },
   "outputs": [
    {
     "name": "stdout",
     "output_type": "stream",
     "text": [
      "Control Variate Std 0.0006403609347653903\n"
     ]
    }
   ],
   "source": [
    "cv_std=np.sqrt(err.var()/(npaths-D))\n",
    "print(\"Control Variate Std\",cv_std)"
   ]
  },
  {
   "cell_type": "code",
   "execution_count": 53,
   "id": "ec181381",
   "metadata": {
    "ExecuteTime": {
     "end_time": "2022-04-25T20:54:53.066237Z",
     "start_time": "2022-04-25T20:54:53.056937Z"
    }
   },
   "outputs": [
    {
     "data": {
      "text/plain": [
       "array([1.07321088])"
      ]
     },
     "execution_count": 53,
     "metadata": {},
     "output_type": "execute_result"
    }
   ],
   "source": [
    "(cv_price-eprice)/cv_std"
   ]
  },
  {
   "cell_type": "markdown",
   "id": "7dfb102e",
   "metadata": {
    "ExecuteTime": {
     "end_time": "2022-04-25T11:16:59.766550Z",
     "start_time": "2022-04-25T11:16:59.762244Z"
    }
   },
   "source": [
    "<div class=\"alert alert-block alert-success\"> \n",
    "It has lower variance than the antithetic estimate.</div>"
   ]
  },
  {
   "attachments": {},
   "cell_type": "markdown",
   "id": "db36506b",
   "metadata": {},
   "source": [
    "## Problem 4:  Control Variates for Worst of Asian Straddle"
   ]
  },
  {
   "attachments": {},
   "cell_type": "markdown",
   "id": "69eb5553",
   "metadata": {},
   "source": [
    "### Problem 4.1 \n",
    "\n",
    "Implement an option payoff for a Worst of Asian **Straddle**:\n",
    "\n",
    "$$\n",
    "\\text{straddle} = \\max( W - K,0)+\\max(K-W,0)\n",
    "$$\n",
    "where $W$ is the works of Asian averages\n",
    "$$\n",
    "        W = \\min_{\\alpha} A_\\alpha\n",
    "$$\n",
    "and  $A_\\alpha$ is the Asian average of asset $\\alpha$ \n",
    "$$\n",
    "    A_\\alpha = \\frac{1}{T}\\sum_{t<T} S_{\\alpha,t}\n",
    "$$"
   ]
  },
  {
   "cell_type": "code",
   "execution_count": 54,
   "id": "42ac0540",
   "metadata": {
    "ExecuteTime": {
     "end_time": "2022-04-25T20:54:53.071786Z",
     "start_time": "2022-04-25T20:54:53.067690Z"
    }
   },
   "outputs": [],
   "source": [
    "class StraddleWorstofAsiansPayoff:\n",
    "    def __init__(self,strike,expiry):\n",
    "       pass\n",
    "    def set_steps(self,ts):\n",
    "        pass\n",
    "    def __call__(self,paths):\n",
    "        pass"
   ]
  },
  {
   "cell_type": "code",
   "execution_count": 55,
   "id": "efc91b2d",
   "metadata": {
    "ExecuteTime": {
     "end_time": "2022-04-25T20:54:53.080577Z",
     "start_time": "2022-04-25T20:54:53.074084Z"
    }
   },
   "outputs": [],
   "source": [
    "class StraddleWorstofAsiansPayoff:\n",
    "    def __init__(self,strike,expiry):\n",
    "        self.strike=strike\n",
    "        self.expiry=expiry\n",
    "        self.step=None\n",
    "    def set_steps(self,ts):\n",
    "        self.step=np.searchsorted(ts,self.expiry)\n",
    "    def __call__(self,paths):\n",
    "        s=paths[:self.step] # restict observation up to expiry\n",
    "        m=s.mean(axis=0) # compute Asian mean for each asset\n",
    "        w=m.min(axis=0) # compute worst of means\n",
    "        val=np.maximum(0.0,w-self.strike)+np.maximum(0.0,self.strike-w) # straddle on worst of means      \n",
    "        return val"
   ]
  },
  {
   "attachments": {},
   "cell_type": "markdown",
   "id": "dfc55b8a",
   "metadata": {},
   "source": [
    "### Problem 4.2\n",
    "\n",
    "Price again the  one year, At the money forward,  **straddle** on the Worst of Asian Averages\n",
    "using some control variates (you should select what you think are the most promissing control variates)\n",
    "\n",
    "Estimate the sampling error of the control variate price. Is it lower or higher than \n",
    "the antithetic sampling estimate?\n",
    "\n",
    "[HINT] The best control variates for a straddle are different that a call option."
   ]
  },
  {
   "cell_type": "code",
   "execution_count": 56,
   "id": "551cd319",
   "metadata": {
    "ExecuteTime": {
     "end_time": "2022-04-25T20:54:53.087402Z",
     "start_time": "2022-04-25T20:54:53.082381Z"
    }
   },
   "outputs": [],
   "source": [
    "straddle =StraddleWorstofAsiansPayoff(Fb,T)\n",
    "straddle.set_steps(mc_ts)"
   ]
  },
  {
   "cell_type": "code",
   "execution_count": 57,
   "id": "68e0e71e",
   "metadata": {
    "ExecuteTime": {
     "end_time": "2022-04-25T20:54:53.215622Z",
     "start_time": "2022-04-25T20:54:53.088876Z"
    }
   },
   "outputs": [
    {
     "data": {
      "text/plain": [
       "((0.10153949231261003,), 0.0003035276239129656)"
      ]
     },
     "execution_count": 57,
     "metadata": {},
     "output_type": "execute_result"
    }
   ],
   "source": [
    "lpay=straddle(lpaths)\n",
    "eprice=lpay.mean(),\n",
    "eprice,np.sqrt(lpay.var()/100_000)"
   ]
  },
  {
   "cell_type": "code",
   "execution_count": 58,
   "id": "15367b4d",
   "metadata": {
    "ExecuteTime": {
     "end_time": "2022-04-25T20:54:53.221282Z",
     "start_time": "2022-04-25T20:54:53.217591Z"
    }
   },
   "outputs": [],
   "source": [
    "pay=straddle(paths)"
   ]
  },
  {
   "cell_type": "code",
   "execution_count": 59,
   "id": "93d79b01",
   "metadata": {
    "ExecuteTime": {
     "end_time": "2022-04-25T20:54:53.230981Z",
     "start_time": "2022-04-25T20:54:53.223350Z"
    }
   },
   "outputs": [
    {
     "name": "stdout",
     "output_type": "stream",
     "text": [
      "MC price 0.09813033452953197\n",
      "MC std 0.0030340778017870643\n"
     ]
    }
   ],
   "source": [
    "price=pay.mean()\n",
    "std=np.sqrt(pay.var()/npaths)\n",
    "print(\"MC price\",price)\n",
    "print(\"MC std\",std)"
   ]
  },
  {
   "cell_type": "code",
   "execution_count": 60,
   "id": "29adfad1",
   "metadata": {
    "ExecuteTime": {
     "end_time": "2022-04-25T20:54:53.236511Z",
     "start_time": "2022-04-25T20:54:53.233324Z"
    }
   },
   "outputs": [],
   "source": [
    "X=np.empty((npaths,nvars+1))"
   ]
  },
  {
   "cell_type": "code",
   "execution_count": 61,
   "id": "0fdd2a42",
   "metadata": {
    "ExecuteTime": {
     "end_time": "2022-04-25T20:54:53.243557Z",
     "start_time": "2022-04-25T20:54:53.238803Z"
    }
   },
   "outputs": [],
   "source": [
    "X[:,0]=1\n",
    "for alpha in range(3):\n",
    "    X[:,alpha+1]=np.maximum(paths[-1,alpha,:]-F[alpha],0)+np.maximum(F[alpha]-paths[-1,alpha,:],0)"
   ]
  },
  {
   "cell_type": "code",
   "execution_count": 62,
   "id": "f64f665d",
   "metadata": {
    "ExecuteTime": {
     "end_time": "2022-04-25T20:54:53.252887Z",
     "start_time": "2022-04-25T20:54:53.246185Z"
    }
   },
   "outputs": [
    {
     "data": {
      "text/plain": [
       "array([0.03379231, 0.16312223, 0.02177118, 0.3748821 ])"
      ]
     },
     "execution_count": 62,
     "metadata": {},
     "output_type": "execute_result"
    }
   ],
   "source": [
    "fit=np.linalg.lstsq(X,pay,rcond=None)\n",
    "theta=fit[0]\n",
    "theta"
   ]
  },
  {
   "cell_type": "code",
   "execution_count": 63,
   "id": "1023d195",
   "metadata": {
    "ExecuteTime": {
     "end_time": "2022-04-25T20:54:53.263498Z",
     "start_time": "2022-04-25T20:54:53.255521Z"
    }
   },
   "outputs": [],
   "source": [
    "prices=np.empty(nvars+1)\n",
    "prices[0]=1\n",
    "for alpha in range(nvars):\n",
    "    sig=vols[alpha](T,F[alpha])\n",
    "    prices[alpha+1]=bs_price_fwd(True,F[alpha],T,F[alpha],sig)+bs_price_fwd(False,F[alpha],T,F[alpha],sig)"
   ]
  },
  {
   "cell_type": "code",
   "execution_count": 64,
   "id": "2075771c",
   "metadata": {
    "ExecuteTime": {
     "end_time": "2022-04-25T20:54:53.270639Z",
     "start_time": "2022-04-25T20:54:53.265714Z"
    }
   },
   "outputs": [
    {
     "name": "stdout",
     "output_type": "stream",
     "text": [
      "Control Variate Price 0.09884449410730496\n"
     ]
    }
   ],
   "source": [
    "cv_price=np.dot(prices,theta)\n",
    "print(\"Control Variate Price\",cv_price)"
   ]
  },
  {
   "cell_type": "code",
   "execution_count": 65,
   "id": "ab2c7a83",
   "metadata": {
    "ExecuteTime": {
     "end_time": "2022-04-25T20:54:53.277423Z",
     "start_time": "2022-04-25T20:54:53.273007Z"
    }
   },
   "outputs": [],
   "source": [
    "err=pay - np.dot(X,theta)"
   ]
  },
  {
   "cell_type": "code",
   "execution_count": 66,
   "id": "83aa9688",
   "metadata": {
    "ExecuteTime": {
     "end_time": "2022-04-25T20:54:53.285872Z",
     "start_time": "2022-04-25T20:54:53.280312Z"
    }
   },
   "outputs": [
    {
     "data": {
      "text/plain": [
       "4"
      ]
     },
     "execution_count": 66,
     "metadata": {},
     "output_type": "execute_result"
    }
   ],
   "source": [
    "D=X.shape[1]\n",
    "D"
   ]
  },
  {
   "cell_type": "code",
   "execution_count": 67,
   "id": "57f447c7",
   "metadata": {
    "ExecuteTime": {
     "end_time": "2022-04-25T20:54:53.292849Z",
     "start_time": "2022-04-25T20:54:53.288010Z"
    }
   },
   "outputs": [
    {
     "name": "stdout",
     "output_type": "stream",
     "text": [
      "Control Variate Std 0.0026263924817063783\n"
     ]
    }
   ],
   "source": [
    "cv_std=np.sqrt(err.var()/(npaths-D))\n",
    "print(\"Control Variate Std\",cv_std)"
   ]
  },
  {
   "cell_type": "code",
   "execution_count": 68,
   "id": "8808fdc1",
   "metadata": {
    "ExecuteTime": {
     "end_time": "2022-04-25T20:54:53.303276Z",
     "start_time": "2022-04-25T20:54:53.297291Z"
    }
   },
   "outputs": [
    {
     "data": {
      "text/plain": [
       "array([-1.02612166])"
      ]
     },
     "execution_count": 68,
     "metadata": {},
     "output_type": "execute_result"
    }
   ],
   "source": [
    "(cv_price-eprice)/cv_std"
   ]
  },
  {
   "cell_type": "markdown",
   "id": "09129e0d",
   "metadata": {},
   "source": [
    "<div class=\"alert alert-block alert-success\"> \n",
    "Control Variate estimate has lower variance than regular Monte Carlo.\n",
    "\n",
    "Finding good control variates is subtle and require a good understanding on the \n",
    "payoff distribution along paths.\n",
    ">\n",
    "For example, in this case is better to use both <b>calls</b> and <b>puts</b>\n",
    "as control variates instead of the stradle:\n",
    "</div>"
   ]
  },
  {
   "cell_type": "code",
   "execution_count": 69,
   "id": "bcfba5a3",
   "metadata": {
    "ExecuteTime": {
     "end_time": "2022-04-25T20:54:53.309699Z",
     "start_time": "2022-04-25T20:54:53.304937Z"
    }
   },
   "outputs": [],
   "source": [
    "X=np.empty((npaths,2*nvars+1))"
   ]
  },
  {
   "cell_type": "code",
   "execution_count": 70,
   "id": "1757da0a",
   "metadata": {
    "ExecuteTime": {
     "end_time": "2022-04-25T20:54:53.316633Z",
     "start_time": "2022-04-25T20:54:53.311872Z"
    }
   },
   "outputs": [],
   "source": [
    "X[:,0]=1\n",
    "for alpha in range(3):\n",
    "    X[:,2*alpha+1]=np.maximum(paths[-1,alpha,:]-F[alpha],0)\n",
    "    X[:,2*alpha+2]=np.maximum(F[alpha]-paths[-1,alpha,:],0)"
   ]
  },
  {
   "cell_type": "code",
   "execution_count": 71,
   "id": "b9079676",
   "metadata": {
    "ExecuteTime": {
     "end_time": "2022-04-25T20:54:53.324943Z",
     "start_time": "2022-04-25T20:54:53.318171Z"
    }
   },
   "outputs": [
    {
     "data": {
      "text/plain": [
       "array([0.02309561, 0.04827135, 0.23730566, 0.00984737, 0.26551234,\n",
       "       0.13565812, 0.31843632])"
      ]
     },
     "execution_count": 71,
     "metadata": {},
     "output_type": "execute_result"
    }
   ],
   "source": [
    "fit=np.linalg.lstsq(X,pay,rcond=None)\n",
    "theta=fit[0]\n",
    "theta"
   ]
  },
  {
   "cell_type": "code",
   "execution_count": 72,
   "id": "c90504e3",
   "metadata": {
    "ExecuteTime": {
     "end_time": "2022-04-25T20:54:53.334395Z",
     "start_time": "2022-04-25T20:54:53.328687Z"
    }
   },
   "outputs": [],
   "source": [
    "prices=np.empty(2*nvars+1)\n",
    "prices[0]=1\n",
    "for alpha in range(nvars):\n",
    "    sig=vols[alpha](T,F[alpha])\n",
    "    prices[2*alpha+1]=bs_price_fwd(True,F[alpha],T,F[alpha],sig)\n",
    "    prices[2*alpha+2]=bs_price_fwd(False,F[alpha],T,F[alpha],sig)"
   ]
  },
  {
   "cell_type": "code",
   "execution_count": 73,
   "id": "ca325840",
   "metadata": {
    "ExecuteTime": {
     "end_time": "2022-04-25T20:54:53.339517Z",
     "start_time": "2022-04-25T20:54:53.336518Z"
    }
   },
   "outputs": [
    {
     "name": "stdout",
     "output_type": "stream",
     "text": [
      "Control Variate Price 0.10139893223326576\n"
     ]
    }
   ],
   "source": [
    "cv_price=np.dot(prices,theta)\n",
    "print(\"Control Variate Price\",cv_price)"
   ]
  },
  {
   "cell_type": "code",
   "execution_count": 74,
   "id": "96f5ab2e",
   "metadata": {
    "ExecuteTime": {
     "end_time": "2022-04-25T20:54:53.346558Z",
     "start_time": "2022-04-25T20:54:53.341108Z"
    }
   },
   "outputs": [],
   "source": [
    "err=pay - np.dot(X,theta)"
   ]
  },
  {
   "cell_type": "code",
   "execution_count": 75,
   "id": "c0a271f0",
   "metadata": {
    "ExecuteTime": {
     "end_time": "2022-04-25T20:54:53.354223Z",
     "start_time": "2022-04-25T20:54:53.348413Z"
    }
   },
   "outputs": [
    {
     "data": {
      "text/plain": [
       "7"
      ]
     },
     "execution_count": 75,
     "metadata": {},
     "output_type": "execute_result"
    }
   ],
   "source": [
    "D=X.shape[1]\n",
    "D"
   ]
  },
  {
   "cell_type": "code",
   "execution_count": 76,
   "id": "ea47b347",
   "metadata": {
    "ExecuteTime": {
     "end_time": "2022-04-25T20:54:53.361418Z",
     "start_time": "2022-04-25T20:54:53.355781Z"
    }
   },
   "outputs": [
    {
     "name": "stdout",
     "output_type": "stream",
     "text": [
      "Control Variate Std 0.0018981352708265782\n"
     ]
    }
   ],
   "source": [
    "cv_std=np.sqrt(err.var()/(npaths-D))\n",
    "print(\"Control Variate Std\",cv_std)"
   ]
  },
  {
   "cell_type": "code",
   "execution_count": 77,
   "id": "a79e0c30",
   "metadata": {
    "ExecuteTime": {
     "end_time": "2022-04-25T20:54:53.368969Z",
     "start_time": "2022-04-25T20:54:53.363693Z"
    }
   },
   "outputs": [
    {
     "data": {
      "text/plain": [
       "array([-0.07405167])"
      ]
     },
     "execution_count": 77,
     "metadata": {},
     "output_type": "execute_result"
    }
   ],
   "source": [
    "(cv_price-eprice)/cv_std"
   ]
  },
  {
   "cell_type": "code",
   "execution_count": null,
   "id": "91d3c7f6",
   "metadata": {},
   "outputs": [],
   "source": []
  }
 ],
 "metadata": {
  "kernelspec": {
   "display_name": "Python 3 (ipykernel)",
   "language": "python",
   "name": "python3"
  },
  "language_info": {
   "codemirror_mode": {
    "name": "ipython",
    "version": 3
   },
   "file_extension": ".py",
   "mimetype": "text/x-python",
   "name": "python",
   "nbconvert_exporter": "python",
   "pygments_lexer": "ipython3",
   "version": "3.9.13"
  },
  "toc": {
   "base_numbering": 1,
   "nav_menu": {},
   "number_sections": true,
   "sideBar": true,
   "skip_h1_title": true,
   "title_cell": "Table of Contents",
   "title_sidebar": "Contents",
   "toc_cell": false,
   "toc_position": {},
   "toc_section_display": true,
   "toc_window_display": true
  }
 },
 "nbformat": 4,
 "nbformat_minor": 5
}
