{
 "cells": [
  {
   "cell_type": "markdown",
   "id": "9d54dbad",
   "metadata": {},
   "source": [
    "# HW: MCMC Bayesian Linear Regression"
   ]
  },
  {
   "cell_type": "markdown",
   "id": "036092d0",
   "metadata": {},
   "source": [
    "## Preliminarires\n",
    "\n",
    "### Imports "
   ]
  },
  {
   "cell_type": "code",
   "execution_count": 1,
   "id": "f1aab169",
   "metadata": {
    "ExecuteTime": {
     "end_time": "2022-05-01T17:23:03.371589Z",
     "start_time": "2022-05-01T17:23:02.481646Z"
    }
   },
   "outputs": [],
   "source": [
    "import numpy as np\n",
    "import pandas as pd\n",
    "import matplotlib.pyplot as plt\n",
    "\n",
    "import scipy.stats as stats\n",
    "from statsmodels.regression.linear_model import OLS\n",
    "from statsmodels.tools.tools import add_constant"
   ]
  },
  {
   "cell_type": "markdown",
   "id": "804c1ca7",
   "metadata": {},
   "source": [
    "### Random Number Generator\n",
    "\n",
    "<a id='rng'></a>"
   ]
  },
  {
   "cell_type": "code",
   "execution_count": 2,
   "id": "f7f3fafc",
   "metadata": {
    "ExecuteTime": {
     "end_time": "2022-05-01T17:23:03.375638Z",
     "start_time": "2022-05-01T17:23:03.373045Z"
    }
   },
   "outputs": [],
   "source": [
    "seed=396840\n",
    "rng=np.random.default_rng(seed)"
   ]
  },
  {
   "attachments": {},
   "cell_type": "markdown",
   "id": "e2a53045",
   "metadata": {},
   "source": [
    "###  Input Data Generation\n",
    "<a id='data'></a>"
   ]
  },
  {
   "cell_type": "code",
   "execution_count": 3,
   "id": "b5c95601",
   "metadata": {
    "ExecuteTime": {
     "end_time": "2022-05-01T17:23:03.388321Z",
     "start_time": "2022-05-01T17:23:03.377214Z"
    }
   },
   "outputs": [],
   "source": [
    "N=20\n",
    "X=rng.normal(0,1,size=N)\n",
    "alpha0=-1.5\n",
    "beta0=2.\n",
    "sigma0=2\n",
    "Y=alpha0+beta0*X+sigma0*rng.normal(0,1,size=N)"
   ]
  },
  {
   "cell_type": "code",
   "execution_count": 4,
   "id": "c82d11de",
   "metadata": {
    "ExecuteTime": {
     "end_time": "2022-05-01T17:23:03.540248Z",
     "start_time": "2022-05-01T17:23:03.390875Z"
    }
   },
   "outputs": [
    {
     "data": {
      "text/plain": [
       "Text(0, 0.5, 'Y')"
      ]
     },
     "execution_count": 4,
     "metadata": {},
     "output_type": "execute_result"
    },
    {
     "data": {
      "image/png": "[encoded data removed]",
      "text/plain": [
       "<Figure size 640x480 with 1 Axes>"
      ]
     },
     "metadata": {},
     "output_type": "display_data"
    }
   ],
   "source": [
    "plt.scatter(X,Y,color=\"k\",alpha=0.5)\n",
    "plt.xlabel(\"X\")\n",
    "plt.ylabel(\"Y\")"
   ]
  },
  {
   "attachments": {},
   "cell_type": "markdown",
   "id": "e07748a9",
   "metadata": {},
   "source": [
    "### Code\n",
    "\n",
    "### Metropolis Algorithm Step"
   ]
  },
  {
   "cell_type": "code",
   "execution_count": 5,
   "id": "556b03e2",
   "metadata": {
    "ExecuteTime": {
     "end_time": "2022-05-01T17:23:03.545687Z",
     "start_time": "2022-05-01T17:23:03.541963Z"
    }
   },
   "outputs": [],
   "source": [
    "def mc_step(loss,theta,gen,dtheta,*args):\n",
    "    D=len(theta)\n",
    "    l0=loss(theta,*args)\n",
    "    # dtheta is the jump proposal size\n",
    "    theta1=theta+dtheta*gen.normal(size=D)\n",
    "    l1=loss(theta1,*args)\n",
    "    alpha=np.exp( l0-l1)\n",
    "    u=gen.uniform() # u \\sim U[0,1]\n",
    "    if (u<alpha):\n",
    "        return theta1\n",
    "    else:\n",
    "        return theta"
   ]
  },
  {
   "attachments": {},
   "cell_type": "markdown",
   "id": "08e8fc06",
   "metadata": {},
   "source": [
    "#### Monte Carlo Chain"
   ]
  },
  {
   "cell_type": "code",
   "execution_count": 6,
   "id": "eff0349b",
   "metadata": {
    "ExecuteTime": {
     "end_time": "2022-05-01T17:23:03.558248Z",
     "start_time": "2022-05-01T17:23:03.547425Z"
    }
   },
   "outputs": [],
   "source": [
    "def mc_chain(T_warmup,T,loss,theta0,gen,dtheta,*args):\n",
    "    theta=theta0.copy()\n",
    "    for t in range(T_warmup): # skip warm up period \n",
    "        theta=mc_step(loss,theta,gen,dtheta,*args)\n",
    "    chain=[]\n",
    "    for t in range(T): # keep relaxed chain\n",
    "        chain.append(theta)\n",
    "        theta=mc_step(loss,theta,gen,dtheta,*args)\n",
    "    return np.array(chain).T # shape = (nvars , T)"
   ]
  },
  {
   "attachments": {},
   "cell_type": "markdown",
   "id": "438e3fdc",
   "metadata": {},
   "source": [
    "#### Mutiple chain MC Sampling"
   ]
  },
  {
   "cell_type": "code",
   "execution_count": 7,
   "id": "c74e485f",
   "metadata": {
    "ExecuteTime": {
     "end_time": "2022-05-01T17:23:03.565744Z",
     "start_time": "2022-05-01T17:23:03.559850Z"
    }
   },
   "outputs": [],
   "source": [
    "def mc_sample(n_chains,T_warmup,T,loss,dist_theta0,gen,dtheta,*args):\n",
    "    D=len(dist_theta0) # number of parameters\n",
    "    chains=np.empty((n_chains,D,T))\n",
    "    for n in range(n_chains):\n",
    "        theta0=np.empty(D)\n",
    "        for d in range(D\n",
    "                      ):\n",
    "            theta0[d]=dist_theta0[d].rvs(random_state=gen)\n",
    "        chains[n]=mc_chain(T_warmup,T,loss,theta0,gen,dtheta,*args)\n",
    "    return chains # shape (n_chains,D,T)"
   ]
  },
  {
   "attachments": {},
   "cell_type": "markdown",
   "id": "991c7c3e",
   "metadata": {},
   "source": [
    "#### Chain Convergence: $\\hat{R}$"
   ]
  },
  {
   "cell_type": "code",
   "execution_count": 8,
   "id": "dd5cf2e3",
   "metadata": {
    "ExecuteTime": {
     "end_time": "2022-05-01T17:23:03.573866Z",
     "start_time": "2022-05-01T17:23:03.567658Z"
    }
   },
   "outputs": [],
   "source": [
    "def R_hat(chains):\n",
    "    T_s=chains.shape[-1]//2\n",
    "    split_chains0=chains[:,:,:T_s]\n",
    "    split_chains1=chains[:,:,T_s:]\n",
    "    split_chains=np.concatenate([split_chains0,split_chains1])\n",
    "    chain_mean=split_chains.mean(axis=-1)\n",
    "    chain_mean_var=chain_mean.var(axis=0,ddof=1)\n",
    "    chain_var=split_chains.var(axis=-1,ddof=1)\n",
    "    in_chain_var=np.mean(chain_var,axis=0)\n",
    "    return np.sqrt((T_s-1)/T_s+chain_mean_var/in_chain_var)"
   ]
  },
  {
   "attachments": {},
   "cell_type": "markdown",
   "id": "9a686b5a",
   "metadata": {},
   "source": [
    "## Problem 1: Bayesian Regresion\n",
    "\n",
    "\n",
    "\n",
    "We would like to model\n",
    "$$\n",
    "    y\\sim \\hat{y} + \\mathcal{N}(0,\\sigma)\n",
    "$$\n",
    "where \n",
    "$$\n",
    "    \\hat{y} = \\alpha  + \\beta x\n",
    "$$\n",
    "\n",
    "###  Problem 1.1\n",
    "\n",
    "\n",
    "Write the **log likelihood** function:\n",
    "$$\n",
    "   L_{\\text{likelihood}}(\\theta;\\{x_i,y_i\\}))=\\sum_{i=1}^N  \\log p( y_i | x_i, \\theta)\n",
    "$$\n",
    "\n",
    "where \n",
    "$$\n",
    "    \\theta = (\\theta_1,\\theta_2,\\theta_3) = (\\alpha,\\beta, \\log \\sigma)\n",
    "$$\n",
    "and\n",
    "$$\n",
    "    p(y|x_i,\\theta)  = \\frac{1}{\\sqrt{2\\pi\\sigma^2}} \\exp \\left \\{-\\frac{(y-\\hat{y})^2}{2\\sigma^2}\\right\\}\n",
    "$$\n",
    "\n",
    "[HINTS] \n",
    "1. If you define the distrition in terms of [scipy.stats.norm](https://docs.scipy.org/doc/scipy/reference/generated/scipy.stats.norm.html),\n",
    "you can use the method `logpdf(z)` to compute $p(y|x,\\theta)$ without having to write\n",
    "explicit formulas for the normal distribution formula.\n",
    "2. Performance of the likelihood function will be better if you use the fact that $y_i -\\hat{y_i} \\sim \\mathcal{N}(0,\\sigma)$ which is the same distribution for all observations"
   ]
  },
  {
   "cell_type": "code",
   "execution_count": 9,
   "id": "e3dde9f5",
   "metadata": {
    "ExecuteTime": {
     "end_time": "2022-05-01T17:23:03.582533Z",
     "start_time": "2022-05-01T17:23:03.576254Z"
    }
   },
   "outputs": [],
   "source": [
    "def regression_likelihood(theta,X,Y):\n",
    "    pass"
   ]
  },
  {
   "cell_type": "code",
   "execution_count": 10,
   "id": "80e0b4c2",
   "metadata": {
    "ExecuteTime": {
     "end_time": "2022-05-01T17:23:03.632978Z",
     "start_time": "2022-05-01T17:23:03.584804Z"
    }
   },
   "outputs": [],
   "source": [
    "def regression_likelihood(theta,X,Y):\n",
    "    alpha=theta[0]\n",
    "    beta=theta[1]\n",
    "    sigma=np.exp(theta[2])\n",
    "    dist=stats.norm(0,sigma)\n",
    "    epsilon=(Y-alpha-beta*X)\n",
    "    lp=dist.logpdf(epsilon)\n",
    "    return np.sum(lp)"
   ]
  },
  {
   "attachments": {},
   "cell_type": "markdown",
   "id": "f6167115",
   "metadata": {},
   "source": [
    "### Problem 1.2\n",
    "\n",
    "Select one set of  guess values for $\\alpha$, $\\beta$ and $\\sigma$ and verify you can evaluate the likelihood for the [input data](#data) $X$,$Y$ of "
   ]
  },
  {
   "cell_type": "code",
   "execution_count": 11,
   "id": "94458d85",
   "metadata": {
    "ExecuteTime": {
     "end_time": "2022-05-01T17:23:03.640059Z",
     "start_time": "2022-05-01T17:23:03.634676Z"
    }
   },
   "outputs": [],
   "source": [
    "alpha0=0\n",
    "beta0=0\n",
    "sigma0=1"
   ]
  },
  {
   "cell_type": "code",
   "execution_count": 12,
   "id": "acb06867",
   "metadata": {
    "ExecuteTime": {
     "end_time": "2022-05-01T17:23:03.648820Z",
     "start_time": "2022-05-01T17:23:03.643809Z"
    }
   },
   "outputs": [],
   "source": [
    "theta0=np.array([alpha0,beta0,np.log(sigma0)])"
   ]
  },
  {
   "cell_type": "code",
   "execution_count": 13,
   "id": "af811537",
   "metadata": {
    "ExecuteTime": {
     "end_time": "2022-05-01T17:23:03.657855Z",
     "start_time": "2022-05-01T17:23:03.650342Z"
    }
   },
   "outputs": [
    {
     "data": {
      "text/plain": [
       "-131.12977386064745"
      ]
     },
     "execution_count": 13,
     "metadata": {},
     "output_type": "execute_result"
    }
   ],
   "source": [
    "regression_likelihood(theta0,X,Y)"
   ]
  },
  {
   "attachments": {},
   "cell_type": "markdown",
   "id": "59228c61",
   "metadata": {},
   "source": [
    "## Problem 2:  Prior Distribution\n",
    "\n",
    "\n",
    "\n",
    "We would like to assume that our **prior distribution** for $\\alpha$,$\\beta$ and $\\sigma$ are **independent** and given by:\n",
    "\\begin{align*}\n",
    "    \\alpha &\\sim \\mathcal{N}(0,1) \\\\\n",
    "    \\beta  & \\sim \\mathcal{N}(0,1) \\\\\n",
    "    \\log \\sigma & \\sim \\mathcal{N}(0,1) \n",
    "\\end{align*}\n"
   ]
  },
  {
   "attachments": {},
   "cell_type": "markdown",
   "id": "e0944871",
   "metadata": {},
   "source": [
    "### Problem 2.1\n",
    "\n",
    "\n",
    "Write the regression **prior log probability** function\n",
    "$$\n",
    "    L_{\\text{prior}}(\\theta)=\\log p_0(\\theta)\n",
    "$$\n",
    "where\n",
    "$$\n",
    "    p_0(\\theta) = \\phi(\\theta_1)\\phi(\\theta_2)\\phi(\\theta_3)\n",
    "$$\n",
    "and\n",
    "$$\n",
    "    \\phi(z) = \\frac{1}{\\sqrt{2\\pi}}e^{-\\frac{1}{2}z^2}\n",
    "$$\n",
    "and, as before, $\\theta_1=\\alpha$, $\\theta_2\\beta$ and $\\theta_3=\\log \\sigma$\n"
   ]
  },
  {
   "cell_type": "code",
   "execution_count": 14,
   "id": "598dde3a",
   "metadata": {
    "ExecuteTime": {
     "end_time": "2022-05-01T17:23:03.663770Z",
     "start_time": "2022-05-01T17:23:03.659952Z"
    }
   },
   "outputs": [],
   "source": [
    "def regression_prior(theta):\n",
    "    pass"
   ]
  },
  {
   "cell_type": "code",
   "execution_count": 15,
   "id": "e9b9c28a",
   "metadata": {
    "ExecuteTime": {
     "end_time": "2022-05-01T17:23:03.670726Z",
     "start_time": "2022-05-01T17:23:03.665644Z"
    }
   },
   "outputs": [],
   "source": [
    "def regression_prior(theta):\n",
    "    alpha=theta[0]\n",
    "    beta=theta[1]\n",
    "    lsigma=theta[2]\n",
    "    alpha_dist=stats.norm(0,1)  # hyper parameters\n",
    "    beta_dist=stats.norm(0,1)   # \n",
    "    lsigma_dist=stats.norm(0,1) # \n",
    "    return (alpha_dist.logpdf(alpha)+beta_dist.logpdf(beta)+lsigma_dist.logpdf(lsigma)) "
   ]
  },
  {
   "attachments": {},
   "cell_type": "markdown",
   "id": "22d4b52f",
   "metadata": {},
   "source": [
    "### Problem 2.2\n",
    "\n",
    "Reusing the guess values for $\\alpha$, $\\beta$ and $\\sigma$ from problem 2.1 verify that you can evaluate the log prior for the [input data](#data) $X$,$Y$"
   ]
  },
  {
   "cell_type": "code",
   "execution_count": 16,
   "id": "1b52e953",
   "metadata": {
    "ExecuteTime": {
     "end_time": "2022-05-01T17:23:03.683260Z",
     "start_time": "2022-05-01T17:23:03.672689Z"
    }
   },
   "outputs": [
    {
     "data": {
      "text/plain": [
       "-2.756815599614018"
      ]
     },
     "execution_count": 16,
     "metadata": {},
     "output_type": "execute_result"
    }
   ],
   "source": [
    "regression_prior(theta0)"
   ]
  },
  {
   "attachments": {},
   "cell_type": "markdown",
   "id": "abbc0747",
   "metadata": {},
   "source": [
    "## Problem 3: Bayesian Loss\n",
    "\n",
    "### Problem 3.1\n",
    "\n",
    "Write the Bayesian regression loss function\n",
    "$$\n",
    "    L(\\theta ; \\{ x_i, y_i\\}) = - L_{\\text{likelihood}}(\\theta;\\{x_i,y_i\\})) - L_{\\text{prior}}(\\theta)\n",
    "$$"
   ]
  },
  {
   "cell_type": "code",
   "execution_count": 17,
   "id": "32923654",
   "metadata": {
    "ExecuteTime": {
     "end_time": "2022-05-01T17:23:03.693116Z",
     "start_time": "2022-05-01T17:23:03.685746Z"
    }
   },
   "outputs": [],
   "source": [
    "def regression_loss(theta,X,Y):\n",
    "    pass"
   ]
  },
  {
   "cell_type": "code",
   "execution_count": 18,
   "id": "7ca40da2",
   "metadata": {
    "ExecuteTime": {
     "end_time": "2022-05-01T17:23:03.699789Z",
     "start_time": "2022-05-01T17:23:03.695257Z"
    }
   },
   "outputs": [],
   "source": [
    "def regression_loss(theta,X,Y):\n",
    "    return -regression_likelihood(theta,X,Y)-regression_prior(theta)"
   ]
  },
  {
   "attachments": {},
   "cell_type": "markdown",
   "id": "b2348e94",
   "metadata": {},
   "source": [
    "### Problem 3.2\n",
    "\n",
    "Reusing the guess values for $\\alpha$, $\\beta$ and $\\sigma$ from problem 2.1 verify that you can evaluate the Bayesian regression loss for the [input data](#data) $X$,$Y$"
   ]
  },
  {
   "cell_type": "code",
   "execution_count": 19,
   "id": "ec7e5267",
   "metadata": {
    "ExecuteTime": {
     "end_time": "2022-05-01T17:23:03.714254Z",
     "start_time": "2022-05-01T17:23:03.701631Z"
    }
   },
   "outputs": [
    {
     "data": {
      "text/plain": [
       "133.88658946026146"
      ]
     },
     "execution_count": 19,
     "metadata": {},
     "output_type": "execute_result"
    }
   ],
   "source": [
    "regression_loss(theta0,X,Y)"
   ]
  },
  {
   "attachments": {},
   "cell_type": "markdown",
   "id": "641cc34e",
   "metadata": {},
   "source": [
    "## Problem 4: MCMC Chains"
   ]
  },
  {
   "attachments": {},
   "cell_type": "markdown",
   "id": "1e555b31",
   "metadata": {
    "ExecuteTime": {
     "end_time": "2022-05-01T13:55:10.288324Z",
     "start_time": "2022-05-01T13:55:10.282428Z"
    }
   },
   "source": [
    "### Problem 4.1 \n",
    "\n",
    "Select a jump size $\\delta \\theta$\n",
    "and, starting from your initial parameter guess use the function `mc_step` to perform **one Metropolis algorithm step**\n",
    "\n",
    "[HINTS]\n",
    "\n",
    "The `gen` parameter of `mc_step` is the random number generator defined in [section 2](#rng)"
   ]
  },
  {
   "cell_type": "code",
   "execution_count": 20,
   "id": "c0c35514",
   "metadata": {
    "ExecuteTime": {
     "end_time": "2022-05-01T17:23:03.720571Z",
     "start_time": "2022-05-01T17:23:03.716372Z"
    }
   },
   "outputs": [],
   "source": [
    "dtheta=0.2"
   ]
  },
  {
   "cell_type": "code",
   "execution_count": 21,
   "id": "e794697a",
   "metadata": {
    "ExecuteTime": {
     "end_time": "2022-05-01T17:23:03.740431Z",
     "start_time": "2022-05-01T17:23:03.722201Z"
    }
   },
   "outputs": [
    {
     "data": {
      "text/plain": [
       "array([ 0.47855573, -0.14376451,  0.18973977])"
      ]
     },
     "execution_count": 21,
     "metadata": {},
     "output_type": "execute_result"
    }
   ],
   "source": [
    "theta1=mc_step(regression_loss,theta0,rng,dtheta,X,Y)\n",
    "theta1"
   ]
  },
  {
   "attachments": {},
   "cell_type": "markdown",
   "id": "e9f5e4d1",
   "metadata": {
    "ExecuteTime": {
     "end_time": "2022-05-01T14:04:44.119356Z",
     "start_time": "2022-05-01T14:04:44.105773Z"
    }
   },
   "source": [
    "### Problem 4.2\n",
    "\n",
    "Was the metropolis update accepted?  How can you tell?"
   ]
  },
  {
   "cell_type": "code",
   "execution_count": 22,
   "id": "a0ea0dc5",
   "metadata": {
    "ExecuteTime": {
     "end_time": "2022-05-01T17:23:03.747931Z",
     "start_time": "2022-05-01T17:23:03.742548Z"
    }
   },
   "outputs": [
    {
     "data": {
      "text/plain": [
       "array([False, False, False])"
      ]
     },
     "execution_count": 22,
     "metadata": {},
     "output_type": "execute_result"
    }
   ],
   "source": [
    "theta1==theta0"
   ]
  },
  {
   "cell_type": "markdown",
   "id": "1a8abced",
   "metadata": {},
   "source": [
    "<div class=\"alert alert-block alert-success\"> \n",
    "If all the updated parameters before and after the update, that means it was rejected\n",
    "</div>"
   ]
  },
  {
   "attachments": {},
   "cell_type": "markdown",
   "id": "ae97b5a5",
   "metadata": {},
   "source": [
    "### Problem 4.3\n",
    "\n",
    "Using `mc_chain` generate a single chain with no warm up ($T_{\\text{warmup}}=0$)\n",
    "and a length of 1,000 Monte Carlo steps ($T=1,000$).\n"
   ]
  },
  {
   "cell_type": "code",
   "execution_count": 23,
   "id": "7c2160b9",
   "metadata": {
    "ExecuteTime": {
     "end_time": "2022-05-01T17:23:08.858841Z",
     "start_time": "2022-05-01T17:23:03.750025Z"
    }
   },
   "outputs": [],
   "source": [
    "chain=mc_chain(0,1000,regression_loss,theta0,rng,dtheta,X,Y)"
   ]
  },
  {
   "attachments": {},
   "cell_type": "markdown",
   "id": "1e0e6ea7",
   "metadata": {
    "ExecuteTime": {
     "end_time": "2022-05-01T15:11:05.160714Z",
     "start_time": "2022-05-01T15:11:05.145213Z"
    }
   },
   "source": [
    "### Problem 4.4 \n",
    "\n",
    "Make a graph plotting the chain $\\theta_t$ for $\\alpha$, $\\beta$ and $\\sigma$.\n"
   ]
  },
  {
   "cell_type": "code",
   "execution_count": 24,
   "id": "93977293",
   "metadata": {
    "ExecuteTime": {
     "end_time": "2022-05-01T17:23:09.155814Z",
     "start_time": "2022-05-01T17:23:08.860276Z"
    }
   },
   "outputs": [
    {
     "data": {
      "text/plain": [
       "[<matplotlib.lines.Line2D at 0x7f7dff07b550>]"
      ]
     },
     "execution_count": 24,
     "metadata": {},
     "output_type": "execute_result"
    },
    {
     "data": {
      "image/png": "[encoded data removed]",
      "text/plain": [
       "<Figure size 1800x600 with 3 Axes>"
      ]
     },
     "metadata": {},
     "output_type": "display_data"
    }
   ],
   "source": [
    "plt.figure(figsize=(18,6))\n",
    "plt.subplot(1,3,1)\n",
    "plt.plot(chain[0])\n",
    "\n",
    "plt.subplot(1,3,2)\n",
    "plt.plot(chain[1])\n",
    "\n",
    "plt.subplot(1,3,3)\n",
    "plt.plot(chain[2])"
   ]
  },
  {
   "attachments": {},
   "cell_type": "markdown",
   "id": "cc3fd511",
   "metadata": {},
   "source": [
    "### Problem 4.5\n",
    "\n",
    "Use the graph to decide on values of $T_{\\text{warmup}}$ and $\\delta \\theta$ so that the chains equilibrate relatively quickly"
   ]
  },
  {
   "attachments": {},
   "cell_type": "markdown",
   "id": "b988ec5a",
   "metadata": {},
   "source": [
    "\n",
    "\n",
    "It seems $\\delta \\theta = 0.2$ relaxes relatively quickly.\n",
    "\n",
    "It seems $T_\\text{warmup}=200$ is more than enough.\n"
   ]
  },
  {
   "attachments": {},
   "cell_type": "markdown",
   "id": "83e623ff",
   "metadata": {},
   "source": [
    "### Problem 4.6 \n",
    "\n",
    "Generate a list of [scipy.stats](https://docs.scipy.org/doc/scipy/reference/stats.html) distributions\n",
    "to generate the initial guesses for $\\alpha$,$\\beta$ and $\\log \\theta$.\n",
    "\n",
    "Remember their prior distributions are independent and \n",
    "\\begin{align*}\n",
    "    \\alpha &\\sim \\mathcal{N}(0,1) \\\\\n",
    "    \\beta  & \\sim \\mathcal{N}(0,1) \\\\\n",
    "    \\log \\sigma & \\sim \\mathcal{N}(0,1) \n",
    "\\end{align*}\n",
    "\n",
    "[HINT] Look at slide 34 of lecture notes for an example."
   ]
  },
  {
   "cell_type": "code",
   "execution_count": 25,
   "id": "d52ab071",
   "metadata": {
    "ExecuteTime": {
     "end_time": "2022-05-01T17:23:09.162264Z",
     "start_time": "2022-05-01T17:23:09.157238Z"
    }
   },
   "outputs": [],
   "source": [
    "dist_alpha0=stats.norm(0,1)\n",
    "dist_beta0=stats.norm(0,1)\n",
    "dist_lsigma0=stats.norm(0,1)\n",
    "dist_theta0=[dist_alpha0,dist_beta0,dist_lsigma0]"
   ]
  },
  {
   "attachments": {},
   "cell_type": "markdown",
   "id": "76a6ac8c",
   "metadata": {
    "ExecuteTime": {
     "end_time": "2022-05-01T16:15:37.221155Z",
     "start_time": "2022-05-01T16:15:37.208972Z"
    }
   },
   "source": [
    "### Problem 4.6\n",
    "\n",
    "Use the function `mc_sample` to generate 4 chains with the $T=1,000$, and the $T_\\text{warmup}$ and $\\delta \\theta$ \n",
    "that you have selected."
   ]
  },
  {
   "cell_type": "code",
   "execution_count": 26,
   "id": "dbf213c9",
   "metadata": {
    "ExecuteTime": {
     "end_time": "2022-05-01T17:23:09.174925Z",
     "start_time": "2022-05-01T17:23:09.163897Z"
    }
   },
   "outputs": [],
   "source": [
    "n_chains=4\n",
    "T_warmup=200\n",
    "T=1_000"
   ]
  },
  {
   "cell_type": "code",
   "execution_count": 27,
   "id": "1734e22a",
   "metadata": {
    "ExecuteTime": {
     "end_time": "2022-05-01T17:23:32.723062Z",
     "start_time": "2022-05-01T17:23:09.176527Z"
    }
   },
   "outputs": [
    {
     "data": {
      "text/plain": [
       "(4, 3, 1000)"
      ]
     },
     "execution_count": 27,
     "metadata": {},
     "output_type": "execute_result"
    }
   ],
   "source": [
    "chains=mc_sample(n_chains,T_warmup,T,regression_loss,\n",
    "                      dist_theta0,rng,dtheta,X,Y)\n",
    "chains.shape"
   ]
  },
  {
   "attachments": {},
   "cell_type": "markdown",
   "id": "a3ce50fe",
   "metadata": {},
   "source": [
    "### Problem 4.7\n",
    "\n",
    "Compute $\\hat{R}$ for the chains you just generated.\n",
    "\n",
    "Adjust $T_\\text{warmup}$ and $\\delta \\theta$ until you get $\\hat{R}<1.05$ for all parameters"
   ]
  },
  {
   "cell_type": "code",
   "execution_count": 28,
   "id": "86670736",
   "metadata": {
    "ExecuteTime": {
     "end_time": "2022-05-01T17:23:32.735039Z",
     "start_time": "2022-05-01T17:23:32.730239Z"
    }
   },
   "outputs": [
    {
     "data": {
      "text/plain": [
       "array([1.02761833, 1.01862288, 1.01330654])"
      ]
     },
     "execution_count": 28,
     "metadata": {},
     "output_type": "execute_result"
    }
   ],
   "source": [
    "R_hat(chains)"
   ]
  },
  {
   "attachments": {},
   "cell_type": "markdown",
   "id": "df821d5f",
   "metadata": {},
   "source": [
    "### Problem 4.8\n",
    "\n",
    "Make 3  histograms, on for each one of the MCMC posterior distribution samples of the parameters $\\alpha$,$\\beta$ and $\\sigma$.\n",
    "\n",
    "In each graph, include the plot of the pdf of the prior distributio for the parameter $\\alpha$,$\\beta$ or $\\sigma$."
   ]
  },
  {
   "cell_type": "code",
   "execution_count": 29,
   "id": "b6b23a83",
   "metadata": {
    "ExecuteTime": {
     "end_time": "2022-05-01T17:23:33.495294Z",
     "start_time": "2022-05-01T17:23:32.738112Z"
    }
   },
   "outputs": [
    {
     "data": {
      "text/plain": [
       "Text(0.5, 0, '$\\\\sigma$')"
      ]
     },
     "execution_count": 29,
     "metadata": {},
     "output_type": "execute_result"
    },
    {
     "data": {
      "image/png": "[encoded data removed]",
      "text/plain": [
       "<Figure size 1800x500 with 3 Axes>"
      ]
     },
     "metadata": {},
     "output_type": "display_data"
    }
   ],
   "source": [
    "fig=plt.figure(figsize=(18,5))\n",
    "\n",
    "plt.subplot(1,3,1)\n",
    "plt.title(r\"Posterior Distribution of $\\alpha$\")\n",
    "plt.hist(chains[:,0,:].flatten(),density=True,bins=25,alpha=0.25,label=\"MCMC Posterior\")\n",
    "alphas=np.linspace(-1.5,1,201)\n",
    "plt.plot(alphas,dist_alpha0.pdf(alphas),label=\"prior\",color=\"g\",linestyle=\"--\")\n",
    "plt.legend()\n",
    "plt.xlabel(r\"$\\alpha$\")\n",
    "\n",
    "plt.subplot(1,3,2)\n",
    "plt.title(r\"Posterior Distribution of $\\beta$\")\n",
    "plt.hist(chains[:,1,:].flatten(),density=True,bins=25,alpha=0.25,label=\"MCMC Posterior\")\n",
    "betas=np.linspace(-0.5,1.75,201)\n",
    "plt.plot(betas,dist_beta0.pdf(betas),label=\"prior\",color=\"g\",linestyle=\"--\")\n",
    "plt.legend()\n",
    "plt.xlabel(r\"$\\beta$\")\n",
    "\n",
    "plt.subplot(1,3,3)\n",
    "plt.title(r\"Distribution of $\\sigma$\")\n",
    "plt.hist(np.exp(chains[:,2,:].flatten()),density=True,bins=25,alpha=0.25,label=\"MCMC Posterior\")\n",
    "lsigmas=np.linspace(-2,1,201)\n",
    "plt.plot(np.exp(lsigmas),dist_lsigma0.pdf(lsigmas),label=\"prior\",color=\"g\",linestyle=\"--\")\n",
    "plt.legend()\n",
    "plt.xlabel(r\"$\\sigma$\")"
   ]
  },
  {
   "attachments": {},
   "cell_type": "markdown",
   "id": "8d08e0f8",
   "metadata": {},
   "source": [
    "## Problem 5: Comparison with (Frequentitst) Linear Regression\n",
    "\n",
    "### Problem 5.1\n",
    "\n",
    "Compute the Posterior mean of $\\alpha$, $\\beta$ and $\\sigma$ using the MCMC change you generated"
   ]
  },
  {
   "cell_type": "code",
   "execution_count": 30,
   "id": "33d2b6bb",
   "metadata": {
    "ExecuteTime": {
     "end_time": "2022-05-01T17:23:33.501606Z",
     "start_time": "2022-05-01T17:23:33.496868Z"
    }
   },
   "outputs": [
    {
     "data": {
      "text/plain": [
       "(-1.2122549347189775, 1.8488055762881759, 1.9864063869569737)"
      ]
     },
     "execution_count": 30,
     "metadata": {},
     "output_type": "execute_result"
    }
   ],
   "source": [
    "alpha_mean=chains[:,0,:].mean()\n",
    "beta_mean=chains[:,1,:].mean()\n",
    "sigma_mean=np.exp(chains[:,2,:]).mean()\n",
    "alpha_mean,beta_mean,sigma_mean"
   ]
  },
  {
   "attachments": {},
   "cell_type": "markdown",
   "id": "effe46d0",
   "metadata": {
    "ExecuteTime": {
     "end_time": "2022-05-01T16:38:01.727625Z",
     "start_time": "2022-05-01T16:38:01.716804Z"
    }
   },
   "source": [
    "### Problem 5.2 \n",
    "\n",
    "Compute the Posterior standard deviation of $\\alpha$, $\\beta$ and $\\sigma$ using the MCMC change you generated"
   ]
  },
  {
   "cell_type": "code",
   "execution_count": 31,
   "id": "9ad90104",
   "metadata": {
    "ExecuteTime": {
     "end_time": "2022-05-01T17:23:33.515343Z",
     "start_time": "2022-05-01T17:23:33.503430Z"
    }
   },
   "outputs": [
    {
     "data": {
      "text/plain": [
       "(0.42758175140890686, 0.41963425481331595, 0.3511060222835384)"
      ]
     },
     "execution_count": 31,
     "metadata": {},
     "output_type": "execute_result"
    }
   ],
   "source": [
    "alpha_std=chains[:,0,:].std()\n",
    "beta_std=chains[:,1,:].std()\n",
    "sigma_std=np.exp(chains[:,2,:]).std()\n",
    "alpha_std,beta_std,sigma_std"
   ]
  },
  {
   "attachments": {},
   "cell_type": "markdown",
   "id": "ca9bf845",
   "metadata": {
    "ExecuteTime": {
     "end_time": "2022-05-01T16:50:57.279280Z",
     "start_time": "2022-05-01T16:50:57.262175Z"
    }
   },
   "source": [
    "### Problem 5.3 \n",
    "\n",
    "Use [statmodels.OLS](https://www.statsmodels.org/stable/examples/notebooks/generated/ols.html)\n",
    "to perform an **Ordinary Least Square** regression.\n",
    "\n",
    "Compare the mean and standard deviation of the Bayesian estimates of $\\alpha$ and $\\beta$ to the  regression coeffients obtained by ordinary least squares.\n",
    "\n",
    "Can you explain the differences?"
   ]
  },
  {
   "cell_type": "code",
   "execution_count": 32,
   "id": "dfd2e61f",
   "metadata": {
    "ExecuteTime": {
     "end_time": "2022-05-01T17:23:33.537843Z",
     "start_time": "2022-05-01T17:23:33.517296Z"
    }
   },
   "outputs": [
    {
     "data": {
      "text/html": [
       "<table class=\"simpletable\">\n",
       "<caption>OLS Regression Results</caption>\n",
       "<tr>\n",
       "  <th>Dep. Variable:</th>            <td>y</td>        <th>  R-squared:         </th> <td>   0.632</td>\n",
       "</tr>\n",
       "<tr>\n",
       "  <th>Model:</th>                   <td>OLS</td>       <th>  Adj. R-squared:    </th> <td>   0.611</td>\n",
       "</tr>\n",
       "<tr>\n",
       "  <th>Method:</th>             <td>Least Squares</td>  <th>  F-statistic:       </th> <td>   30.87</td>\n",
       "</tr>\n",
       "<tr>\n",
       "  <th>Date:</th>             <td>Sun, 30 Apr 2023</td> <th>  Prob (F-statistic):</th> <td>2.83e-05</td>\n",
       "</tr>\n",
       "<tr>\n",
       "  <th>Time:</th>                 <td>08:25:54</td>     <th>  Log-Likelihood:    </th> <td> -40.265</td>\n",
       "</tr>\n",
       "<tr>\n",
       "  <th>No. Observations:</th>      <td>    20</td>      <th>  AIC:               </th> <td>   84.53</td>\n",
       "</tr>\n",
       "<tr>\n",
       "  <th>Df Residuals:</th>          <td>    18</td>      <th>  BIC:               </th> <td>   86.52</td>\n",
       "</tr>\n",
       "<tr>\n",
       "  <th>Df Model:</th>              <td>     1</td>      <th>                     </th>     <td> </td>   \n",
       "</tr>\n",
       "<tr>\n",
       "  <th>Covariance Type:</th>      <td>nonrobust</td>    <th>                     </th>     <td> </td>   \n",
       "</tr>\n",
       "</table>\n",
       "<table class=\"simpletable\">\n",
       "<tr>\n",
       "    <td></td>       <th>coef</th>     <th>std err</th>      <th>t</th>      <th>P>|t|</th>  <th>[0.025</th>    <th>0.975]</th>  \n",
       "</tr>\n",
       "<tr>\n",
       "  <th>const</th> <td>   -1.4303</td> <td>    0.427</td> <td>   -3.346</td> <td> 0.004</td> <td>   -2.328</td> <td>   -0.532</td>\n",
       "</tr>\n",
       "<tr>\n",
       "  <th>x1</th>    <td>    2.1403</td> <td>    0.385</td> <td>    5.556</td> <td> 0.000</td> <td>    1.331</td> <td>    2.950</td>\n",
       "</tr>\n",
       "</table>\n",
       "<table class=\"simpletable\">\n",
       "<tr>\n",
       "  <th>Omnibus:</th>       <td> 1.011</td> <th>  Durbin-Watson:     </th> <td>   2.930</td>\n",
       "</tr>\n",
       "<tr>\n",
       "  <th>Prob(Omnibus):</th> <td> 0.603</td> <th>  Jarque-Bera (JB):  </th> <td>   0.882</td>\n",
       "</tr>\n",
       "<tr>\n",
       "  <th>Skew:</th>          <td>-0.285</td> <th>  Prob(JB):          </th> <td>   0.643</td>\n",
       "</tr>\n",
       "<tr>\n",
       "  <th>Kurtosis:</th>      <td> 2.144</td> <th>  Cond. No.          </th> <td>    1.12</td>\n",
       "</tr>\n",
       "</table><br/><br/>Notes:<br/>[1] Standard Errors assume that the covariance matrix of the errors is correctly specified."
      ],
      "text/plain": [
       "<class 'statsmodels.iolib.summary.Summary'>\n",
       "\"\"\"\n",
       "                            OLS Regression Results                            \n",
       "==============================================================================\n",
       "Dep. Variable:                      y   R-squared:                       0.632\n",
       "Model:                            OLS   Adj. R-squared:                  0.611\n",
       "Method:                 Least Squares   F-statistic:                     30.87\n",
       "Date:                Sun, 30 Apr 2023   Prob (F-statistic):           2.83e-05\n",
       "Time:                        08:25:54   Log-Likelihood:                -40.265\n",
       "No. Observations:                  20   AIC:                             84.53\n",
       "Df Residuals:                      18   BIC:                             86.52\n",
       "Df Model:                           1                                         \n",
       "Covariance Type:            nonrobust                                         \n",
       "==============================================================================\n",
       "                 coef    std err          t      P>|t|      [0.025      0.975]\n",
       "------------------------------------------------------------------------------\n",
       "const         -1.4303      0.427     -3.346      0.004      -2.328      -0.532\n",
       "x1             2.1403      0.385      5.556      0.000       1.331       2.950\n",
       "==============================================================================\n",
       "Omnibus:                        1.011   Durbin-Watson:                   2.930\n",
       "Prob(Omnibus):                  0.603   Jarque-Bera (JB):                0.882\n",
       "Skew:                          -0.285   Prob(JB):                        0.643\n",
       "Kurtosis:                       2.144   Cond. No.                         1.12\n",
       "==============================================================================\n",
       "\n",
       "Notes:\n",
       "[1] Standard Errors assume that the covariance matrix of the errors is correctly specified.\n",
       "\"\"\""
      ]
     },
     "execution_count": 32,
     "metadata": {},
     "output_type": "execute_result"
    }
   ],
   "source": [
    "model=OLS(Y,add_constant(X))\n",
    "res=model.fit()\n",
    "res.summary()"
   ]
  },
  {
   "cell_type": "code",
   "execution_count": 33,
   "id": "a6f0ebd0",
   "metadata": {
    "ExecuteTime": {
     "end_time": "2022-05-01T17:23:33.544423Z",
     "start_time": "2022-05-01T17:23:33.540838Z"
    }
   },
   "outputs": [
    {
     "data": {
      "text/plain": [
       "array([-1.43030994,  2.14033734])"
      ]
     },
     "execution_count": 33,
     "metadata": {},
     "output_type": "execute_result"
    }
   ],
   "source": [
    "res.params"
   ]
  },
  {
   "cell_type": "code",
   "execution_count": 34,
   "id": "692b5672",
   "metadata": {
    "ExecuteTime": {
     "end_time": "2022-05-01T17:23:33.551860Z",
     "start_time": "2022-05-01T17:23:33.545981Z"
    }
   },
   "outputs": [
    {
     "data": {
      "text/plain": [
       "(-1.2122549347189775, 1.8488055762881759)"
      ]
     },
     "execution_count": 34,
     "metadata": {},
     "output_type": "execute_result"
    }
   ],
   "source": [
    "alpha_mean,beta_mean"
   ]
  },
  {
   "cell_type": "markdown",
   "id": "d1e9dcf3",
   "metadata": {},
   "source": [
    "<div class=\"alert alert-block alert-success\">\n",
    "    \n",
    "Because the number of data points $N=20$ is small the Bayesian results are **shrunk** towards the priors (we assume $\\alpha\\sim\\mathcal{N}(0,1)$ and $\\beta\\sim\\mathcal{N}(0,1)$).\n",
    "\n",
    "When the data is small, the expected value of parameters in a Bayesian estimates interpolates between the prior expected value and the frequentist estimate derived purely from the data.\n",
    "    \n",
    " The standard deviations are comparable in both methods.\n",
    "</div>"
   ]
  },
  {
   "attachments": {},
   "cell_type": "markdown",
   "id": "86aa7a19",
   "metadata": {},
   "source": [
    "## Problem 6: Posterior Distribution"
   ]
  },
  {
   "attachments": {},
   "cell_type": "markdown",
   "id": "22b86095",
   "metadata": {},
   "source": [
    "### Problem 6.1 \n",
    "\n",
    "Using the example from slide 41 of the lecture notes write a function to sample \n",
    "the **predictive posterior distribution** of $y$ given a value of $x$"
   ]
  },
  {
   "cell_type": "code",
   "execution_count": 35,
   "id": "ab7b2a1d",
   "metadata": {
    "ExecuteTime": {
     "end_time": "2022-05-01T17:23:33.565941Z",
     "start_time": "2022-05-01T17:23:33.556666Z"
    }
   },
   "outputs": [],
   "source": [
    "def sample_posterior(x,chains,gen,nsamples):\n",
    "    pass"
   ]
  },
  {
   "cell_type": "code",
   "execution_count": 36,
   "id": "3e878299",
   "metadata": {
    "ExecuteTime": {
     "end_time": "2022-05-01T17:23:33.573810Z",
     "start_time": "2022-05-01T17:23:33.567875Z"
    }
   },
   "outputs": [],
   "source": [
    "def sample_posterior(x,chains,gen,nsamples):\n",
    "    # (chain, parameter, sample) -> (parameter,sample) \n",
    "    used_chains=chains.transpose([0,2,1]).reshape(-1,3)\n",
    "    theta_samples=gen.choice(used_chains,nsamples)\n",
    "    alpha=theta_samples[:,0] #  nsample means\n",
    "    beta=theta_samples[:,1]\n",
    "    sigma=np.exp(theta_samples[:,2]) # nsample stdevs\n",
    "    y_hat= alpha+beta*x\n",
    "    y=gen.normal(loc=y_hat,scale=sigma)\n",
    "    return y"
   ]
  },
  {
   "attachments": {},
   "cell_type": "markdown",
   "id": "380cc920",
   "metadata": {
    "ExecuteTime": {
     "end_time": "2022-05-01T17:04:54.884693Z",
     "start_time": "2022-05-01T17:04:54.871208Z"
    }
   },
   "source": [
    "### Problem 6.2 \n",
    "\n",
    "Generate 1,000 samples of the posterior predictive  distribution of $y$ when $x=1.0$ and plot them in a histogram:"
   ]
  },
  {
   "cell_type": "code",
   "execution_count": 37,
   "id": "05a318c1",
   "metadata": {
    "ExecuteTime": {
     "end_time": "2022-05-01T17:23:33.584294Z",
     "start_time": "2022-05-01T17:23:33.575942Z"
    }
   },
   "outputs": [],
   "source": [
    "nsamples=1_000"
   ]
  },
  {
   "cell_type": "code",
   "execution_count": 38,
   "id": "d5b6d675",
   "metadata": {
    "ExecuteTime": {
     "end_time": "2022-05-01T17:23:33.594845Z",
     "start_time": "2022-05-01T17:23:33.585729Z"
    }
   },
   "outputs": [
    {
     "data": {
      "text/plain": [
       "(1000,)"
      ]
     },
     "execution_count": 38,
     "metadata": {},
     "output_type": "execute_result"
    }
   ],
   "source": [
    "y_post=sample_posterior(1.0,chains,rng,nsamples)\n",
    "y_post.shape"
   ]
  },
  {
   "cell_type": "code",
   "execution_count": 39,
   "id": "756ba0ee",
   "metadata": {
    "ExecuteTime": {
     "end_time": "2022-05-01T17:23:33.750493Z",
     "start_time": "2022-05-01T17:23:33.597104Z"
    }
   },
   "outputs": [
    {
     "data": {
      "image/png": "[encoded data removed]",
      "text/plain": [
       "<Figure size 640x480 with 1 Axes>"
      ]
     },
     "metadata": {},
     "output_type": "display_data"
    }
   ],
   "source": [
    "h=plt.hist(y_post,bins=25,alpha=0.25,density=True)"
   ]
  },
  {
   "attachments": {},
   "cell_type": "markdown",
   "id": "45ce5669",
   "metadata": {
    "ExecuteTime": {
     "end_time": "2022-05-01T17:09:58.340404Z",
     "start_time": "2022-05-01T17:09:58.326476Z"
    }
   },
   "source": [
    "### Problem 6.3\n",
    "\n",
    "For $x$ values= $-5, -5.1, \\dots 2.9,3$  \n",
    "Generate 1,000 samples of the posterior predictive  distribution of $y$ for each $x$ and compute \n",
    "the mean and standard deviation of $y$ for each value of $x$.\n",
    "\n",
    "Generate two arrays, one for the mean and one for the std deviation of the posterior distribution of $y$."
   ]
  },
  {
   "cell_type": "code",
   "execution_count": 40,
   "id": "7a85c9c2",
   "metadata": {
    "ExecuteTime": {
     "end_time": "2022-05-01T17:23:33.757055Z",
     "start_time": "2022-05-01T17:23:33.752300Z"
    }
   },
   "outputs": [
    {
     "data": {
      "text/plain": [
       "array([-5. , -4.9, -4.8, -4.7, -4.6, -4.5, -4.4, -4.3, -4.2, -4.1, -4. ,\n",
       "       -3.9, -3.8, -3.7, -3.6, -3.5, -3.4, -3.3, -3.2, -3.1, -3. , -2.9,\n",
       "       -2.8, -2.7, -2.6, -2.5, -2.4, -2.3, -2.2, -2.1, -2. , -1.9, -1.8,\n",
       "       -1.7, -1.6, -1.5, -1.4, -1.3, -1.2, -1.1, -1. , -0.9, -0.8, -0.7,\n",
       "       -0.6, -0.5, -0.4, -0.3, -0.2, -0.1,  0. ,  0.1,  0.2,  0.3,  0.4,\n",
       "        0.5,  0.6,  0.7,  0.8,  0.9,  1. ,  1.1,  1.2,  1.3,  1.4,  1.5,\n",
       "        1.6,  1.7,  1.8,  1.9,  2. ,  2.1,  2.2,  2.3,  2.4,  2.5,  2.6,\n",
       "        2.7,  2.8,  2.9,  3. ,  3.1,  3.2,  3.3,  3.4,  3.5,  3.6,  3.7,\n",
       "        3.8,  3.9,  4. ,  4.1,  4.2,  4.3,  4.4,  4.5,  4.6,  4.7,  4.8,\n",
       "        4.9,  5. ])"
      ]
     },
     "execution_count": 40,
     "metadata": {},
     "output_type": "execute_result"
    }
   ],
   "source": [
    "xs=np.linspace(-5,5,101)\n",
    "xs"
   ]
  },
  {
   "cell_type": "code",
   "execution_count": 41,
   "id": "81a3bee3",
   "metadata": {
    "ExecuteTime": {
     "end_time": "2022-05-01T17:23:33.781802Z",
     "start_time": "2022-05-01T17:23:33.758583Z"
    }
   },
   "outputs": [],
   "source": [
    "y_means=[]\n",
    "y_stds=[]\n",
    "for x in xs:\n",
    "    y_post=sample_posterior(x,chains,rng,nsamples)\n",
    "    y_mean=y_post.mean()\n",
    "    y_std=y_post.std()\n",
    "    y_means.append(y_mean)\n",
    "    y_stds.append(y_std)\n",
    "y_means=np.array(y_means)\n",
    "y_stds=np.array(y_stds)"
   ]
  },
  {
   "cell_type": "code",
   "execution_count": 42,
   "id": "2ce9e90b",
   "metadata": {
    "ExecuteTime": {
     "end_time": "2022-05-01T17:23:33.786918Z",
     "start_time": "2022-05-01T17:23:33.783426Z"
    }
   },
   "outputs": [
    {
     "data": {
      "text/plain": [
       "(101, 101, 101)"
      ]
     },
     "execution_count": 42,
     "metadata": {},
     "output_type": "execute_result"
    }
   ],
   "source": [
    "len(xs),len(y_means),len(y_stds)"
   ]
  },
  {
   "attachments": {},
   "cell_type": "markdown",
   "id": "daaa7fe2",
   "metadata": {
    "ExecuteTime": {
     "end_time": "2022-05-01T17:23:33.792818Z",
     "start_time": "2022-05-01T17:23:33.788568Z"
    }
   },
   "source": [
    "### Problem 6.4\n",
    "\n",
    "Make a $X,Y$ plot showing:\n",
    "1. The original $X$, $Y$ data points.\n",
    "2. The mean of the posterior distribution of $y$ for each value of $x$.\n",
    "3. The 1 and 2 standard deviation regions around the mean value of the standard deviation of $y$."
   ]
  },
  {
   "cell_type": "code",
   "execution_count": 43,
   "id": "40487532",
   "metadata": {
    "ExecuteTime": {
     "end_time": "2022-05-01T17:24:00.259123Z",
     "start_time": "2022-05-01T17:24:00.071799Z"
    }
   },
   "outputs": [
    {
     "data": {
      "text/plain": [
       "Text(0, 0.5, 'Y')"
      ]
     },
     "execution_count": 43,
     "metadata": {},
     "output_type": "execute_result"
    },
    {
     "data": {
      "image/png": "[encoded data removed]",
      "text/plain": [
       "<Figure size 640x480 with 1 Axes>"
      ]
     },
     "metadata": {},
     "output_type": "display_data"
    }
   ],
   "source": [
    "plt.scatter(X,Y)\n",
    "plt.plot(xs,y_means,\"k\")\n",
    "plt.fill_between(xs,y_means-y_stds,y_means+y_stds,color=\"black\",alpha=0.25)\n",
    "plt.fill_between(xs,y_means-2*y_stds,y_means+2*y_stds,color=\"black\",alpha=0.25)\n",
    "plt.xlabel(\"X\")\n",
    "plt.ylabel(\"Y\")"
   ]
  },
  {
   "attachments": {},
   "cell_type": "markdown",
   "id": "1faa7b91",
   "metadata": {},
   "source": [
    "## Problem 7: PYMC\n",
    "\n",
    "We need to install `pymc` and `arviz` for next class.\n",
    "\n",
    "This are the installation instructions, you must **get it installed before next class**.\n",
    "\n",
    "\n",
    "\n",
    "### Problem 7.1\n",
    "\n",
    "We will be using `pymc3` and `arviz` next week to fit more sofisticated Bayesian Statistical Models.\n",
    "\n",
    "You should **install `pymc3` and `arviz`** using the following command:\n",
    "    \n",
    "    conda install -c conda-forge pymc arviz\n",
    " \n",
    "\n",
    "If you want to get better performance you can also install the c and fortran compilers following the following instructions:\n",
    "\n",
    "Windows:\n",
    "    conda install -c conda-forge mw2\n",
    " \n",
    "If you do not use Anaconda, you will need to follow the [pymc installaction instructions](https://docs.pymc.io/en/v3/).\n",
    "\n",
    "\n",
    "Warning about not finding `g77`, `f77` etc are fine."
   ]
  },
  {
   "cell_type": "code",
   "execution_count": 44,
   "id": "3a709f24",
   "metadata": {
    "ExecuteTime": {
     "end_time": "2022-05-02T09:49:24.037486Z",
     "start_time": "2022-05-02T09:49:24.029086Z"
    }
   },
   "outputs": [],
   "source": [
    "import pymc as pm \n",
    "import arviz as az"
   ]
  },
  {
   "attachments": {},
   "cell_type": "markdown",
   "id": "b03e6597",
   "metadata": {
    "ExecuteTime": {
     "end_time": "2022-05-02T09:37:32.681003Z",
     "start_time": "2022-05-02T09:37:32.669518Z"
    }
   },
   "source": [
    "### Problem 7.2 </div>\n",
    "\n",
    "Make sure the following cells run to completition without errors"
   ]
  },
  {
   "cell_type": "code",
   "execution_count": 45,
   "id": "49e08cc5",
   "metadata": {
    "ExecuteTime": {
     "end_time": "2022-05-02T09:22:50.560010Z",
     "start_time": "2022-05-02T09:22:50.142113Z"
    }
   },
   "outputs": [],
   "source": [
    "with pm.Model() as mod:\n",
    "    alpha=pm.Normal(\"alpha\",mu=0,sigma=1)\n",
    "    beta=pm.Normal(\"beta\",mu=0,sigma=1)\n",
    "    sig=pm.Lognormal(\"sigma\",mu=1,sigma=1)\n",
    "    y_hat=pm.Deterministic(\"y_hat\",alpha+beta*X)\n",
    "    y=pm.Normal(\"y\",mu=y_hat,sigma=sig,observed=Y)"
   ]
  },
  {
   "cell_type": "code",
   "execution_count": 46,
   "id": "5be7def7",
   "metadata": {
    "ExecuteTime": {
     "end_time": "2022-05-02T09:49:52.018429Z",
     "start_time": "2022-05-02T09:49:49.004908Z"
    }
   },
   "outputs": [
    {
     "name": "stderr",
     "output_type": "stream",
     "text": [
      "Auto-assigning NUTS sampler...\n",
      "Initializing NUTS using jitter+adapt_diag...\n",
      "Multiprocess sampling (4 chains in 4 jobs)\n",
      "NUTS: [alpha, beta, sigma]\n"
     ]
    },
    {
     "name": "stderr",
     "output_type": "stream",
     "text": [
      "Sampling 4 chains for 500 tune and 1_000 draw iterations (2_000 + 4_000 draws total) took 3 seconds.\n"
     ]
    }
   ],
   "source": [
    "with mod:\n",
    "    trace = pm.sample(1000, tune=500,return_inferencedata=True)"
   ]
  },
  {
   "cell_type": "code",
   "execution_count": 47,
   "id": "554833a9",
   "metadata": {
    "ExecuteTime": {
     "end_time": "2022-05-02T09:49:53.186858Z",
     "start_time": "2022-05-02T09:49:53.146302Z"
    }
   },
   "outputs": [
    {
     "data": {
      "text/html": [
       "<div>\n",
       "<style scoped>\n",
       "    .dataframe tbody tr th:only-of-type {\n",
       "        vertical-align: middle;\n",
       "    }\n",
       "\n",
       "    .dataframe tbody tr th {\n",
       "        vertical-align: top;\n",
       "    }\n",
       "\n",
       "    .dataframe thead th {\n",
       "        text-align: right;\n",
       "    }\n",
       "</style>\n",
       "<table border=\"1\" class=\"dataframe\">\n",
       "  <thead>\n",
       "    <tr style=\"text-align: right;\">\n",
       "      <th></th>\n",
       "      <th>mean</th>\n",
       "      <th>sd</th>\n",
       "      <th>hdi_3%</th>\n",
       "      <th>hdi_97%</th>\n",
       "      <th>mcse_mean</th>\n",
       "      <th>mcse_sd</th>\n",
       "      <th>ess_bulk</th>\n",
       "      <th>ess_tail</th>\n",
       "      <th>r_hat</th>\n",
       "    </tr>\n",
       "  </thead>\n",
       "  <tbody>\n",
       "    <tr>\n",
       "      <th>alpha</th>\n",
       "      <td>-1.19</td>\n",
       "      <td>0.43</td>\n",
       "      <td>-2.04</td>\n",
       "      <td>-0.42</td>\n",
       "      <td>0.01</td>\n",
       "      <td>0.01</td>\n",
       "      <td>3802.70</td>\n",
       "      <td>2636.84</td>\n",
       "      <td>1.0</td>\n",
       "    </tr>\n",
       "    <tr>\n",
       "      <th>beta</th>\n",
       "      <td>1.85</td>\n",
       "      <td>0.40</td>\n",
       "      <td>1.05</td>\n",
       "      <td>2.59</td>\n",
       "      <td>0.01</td>\n",
       "      <td>0.00</td>\n",
       "      <td>4057.16</td>\n",
       "      <td>2696.63</td>\n",
       "      <td>1.0</td>\n",
       "    </tr>\n",
       "    <tr>\n",
       "      <th>sigma</th>\n",
       "      <td>2.04</td>\n",
       "      <td>0.37</td>\n",
       "      <td>1.42</td>\n",
       "      <td>2.72</td>\n",
       "      <td>0.01</td>\n",
       "      <td>0.01</td>\n",
       "      <td>2927.25</td>\n",
       "      <td>2591.08</td>\n",
       "      <td>1.0</td>\n",
       "    </tr>\n",
       "  </tbody>\n",
       "</table>\n",
       "</div>"
      ],
      "text/plain": [
       "       mean    sd  hdi_3%  hdi_97%  mcse_mean  mcse_sd  ess_bulk  ess_tail  \\\n",
       "alpha -1.19  0.43   -2.04    -0.42       0.01     0.01   3802.70   2636.84   \n",
       "beta   1.85  0.40    1.05     2.59       0.01     0.00   4057.16   2696.63   \n",
       "sigma  2.04  0.37    1.42     2.72       0.01     0.01   2927.25   2591.08   \n",
       "\n",
       "       r_hat  \n",
       "alpha    1.0  \n",
       "beta     1.0  \n",
       "sigma    1.0  "
      ]
     },
     "execution_count": 47,
     "metadata": {},
     "output_type": "execute_result"
    }
   ],
   "source": [
    "with mod:\n",
    "    summary=az.summary(trace, var_names=[\"alpha\",\"beta\",\"sigma\"], fmt=\"wide\",round_to=2)\n",
    "summary"
   ]
  },
  {
   "cell_type": "code",
   "execution_count": null,
   "id": "145da66e",
   "metadata": {},
   "outputs": [],
   "source": []
  }
 ],
 "metadata": {
  "kernelspec": {
   "display_name": "Python 3 (ipykernel)",
   "language": "python",
   "name": "python3"
  },
  "language_info": {
   "codemirror_mode": {
    "name": "ipython",
    "version": 3
   },
   "file_extension": ".py",
   "mimetype": "text/x-python",
   "name": "python",
   "nbconvert_exporter": "python",
   "pygments_lexer": "ipython3",
   "version": "3.9.13"
  },
  "toc": {
   "base_numbering": 1,
   "nav_menu": {},
   "number_sections": true,
   "sideBar": true,
   "skip_h1_title": true,
   "title_cell": "Table of Contents",
   "title_sidebar": "Contents",
   "toc_cell": false,
   "toc_position": {},
   "toc_section_display": true,
   "toc_window_display": true
  }
 },
 "nbformat": 4,
 "nbformat_minor": 5
}
