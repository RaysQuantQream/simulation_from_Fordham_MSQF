{
 "cells": [
  {
   "attachments": {},
   "cell_type": "markdown",
   "id": "a2f5efce",
   "metadata": {},
   "source": [
    "# HW10: Multi Variate Local Volatility MC Models\n",
    "\n",
    "## Preliminaries\n",
    "\n",
    "### Imports"
   ]
  },
  {
   "cell_type": "code",
   "execution_count": 1,
   "id": "ee2630e3",
   "metadata": {
    "ExecuteTime": {
     "end_time": "2022-04-11T11:03:08.639159Z",
     "start_time": "2022-04-11T11:03:07.887799Z"
    }
   },
   "outputs": [],
   "source": [
    "import numpy as np\n",
    "import pandas as pd\n",
    "import matplotlib.pyplot as plt\n",
    "\n",
    "import scipy.stats as stats\n",
    "import scipy.optimize as optimize"
   ]
  },
  {
   "attachments": {},
   "cell_type": "markdown",
   "id": "18a50d96",
   "metadata": {},
   "source": [
    "### Random Seed"
   ]
  },
  {
   "cell_type": "code",
   "execution_count": 2,
   "id": "001ad328",
   "metadata": {
    "ExecuteTime": {
     "end_time": "2022-04-11T11:03:08.643794Z",
     "start_time": "2022-04-11T11:03:08.640709Z"
    }
   },
   "outputs": [],
   "source": [
    "seed=734903\n",
    "rng=np.random.default_rng(seed)"
   ]
  },
  {
   "attachments": {},
   "cell_type": "markdown",
   "id": "4a33b721",
   "metadata": {},
   "source": [
    "### Code\n",
    "\n",
    "#### Discount"
   ]
  },
  {
   "cell_type": "code",
   "execution_count": 3,
   "id": "bd63211c",
   "metadata": {
    "ExecuteTime": {
     "end_time": "2022-04-11T11:03:08.652421Z",
     "start_time": "2022-04-11T11:03:08.645937Z"
    }
   },
   "outputs": [],
   "source": [
    "class Discount:\n",
    "    def __init__(self,ts,rates):\n",
    "        self.ts=ts\n",
    "        self.rates=rates\n",
    "    def __call__(self,T):\n",
    "        r=np.interp(T,self.ts,self.rates)\n",
    "        return np.exp(-r*T)\n",
    " \n"
   ]
  },
  {
   "attachments": {},
   "cell_type": "markdown",
   "id": "d7ef8405",
   "metadata": {},
   "source": [
    "####  Forward"
   ]
  },
  {
   "cell_type": "code",
   "execution_count": null,
   "id": "6f964922",
   "metadata": {},
   "outputs": [],
   "source": [
    "class Forward:\n",
    "    def __init__(self,spot,discount,dividends):\n",
    "        self.spot=spot\n",
    "        self.discount=discount\n",
    "        self.dividends=dividends\n",
    "    def __call__(self,T):\n",
    "        Df_r=self.discount(T)\n",
    "        Df_d=self.dividends(T)\n",
    "        return self.spot*Df_d/Df_r"
   ]
  },
  {
   "cell_type": "markdown",
   "id": "ec3b9fd7",
   "metadata": {
    "ExecuteTime": {
     "end_time": "2022-04-09T09:01:06.016554Z",
     "start_time": "2022-04-09T09:01:06.011506Z"
    }
   },
   "source": [
    "#### SVI Volatility Surface\n",
    "<a id=\"svi\"/>"
   ]
  },
  {
   "cell_type": "code",
   "execution_count": 4,
   "id": "2f210d14",
   "metadata": {
    "ExecuteTime": {
     "end_time": "2022-04-11T11:03:08.667569Z",
     "start_time": "2022-04-11T11:03:08.654849Z"
    }
   },
   "outputs": [],
   "source": [
    "        \n",
    "\n",
    "class SVI:\n",
    "    def __init__(self,ref_fwd,ts,a,b,rho,m,sigma):\n",
    "        self.ref_fwd=ref_fwd\n",
    "        self.ts=np.insert(ts,[0],[0])\n",
    "        self.as_=np.insert(a,[0],[0])\n",
    "        self.bs=np.insert(b,[0],[0])\n",
    "        self.rhos=np.insert(rho,[0],[rho[0]])\n",
    "        self.ms=np.insert(m,[0],m[[0]])\n",
    "        self.sigmas=np.insert(sigma,[0],[sigma[0]])\n",
    "\n",
    "    def var(self,T,K):\n",
    "        ref_F=self.ref_fwd(T)\n",
    "        ref_k=np.log(K/ref_F)\n",
    "        return self.var0(T,ref_k)\n",
    "    def var0(self,T,ref_k):\n",
    "        a=np.interp(T,self.ts,self.as_)\n",
    "        b=np.interp(T,self.ts,self.bs)\n",
    "        rho=np.interp(T,self.ts,self.rhos)\n",
    "        m=np.interp(T,self.ts,self.ms)\n",
    "        sigma=np.interp(T,self.ts,self.sigmas)\n",
    "        return a + b*(rho*(ref_k-m)+np.sqrt((ref_k-m)**2+sigma**2))\n",
    "    def dvar(self,T,K):\n",
    "        ref_F=self.ref_fwd(T)\n",
    "        ref_k=np.log(K/ref_F)\n",
    "        a=np.interp(T,self.ts,self.as_)\n",
    "        b=np.interp(T,self.ts,self.bs)\n",
    "        rho=np.interp(T,self.ts,self.rhos)\n",
    "        m=np.interp(T,self.ts,self.ms)\n",
    "        sigma=np.interp(T,self.ts,self.sigmas)\n",
    "        Delta=np.sqrt((ref_k-m)**2+sigma**2)\n",
    "        w=a + b*(rho*(ref_k-m)+Delta)     \n",
    "        dw_dk=b*(rho+(ref_k-m)/Delta)\n",
    "        d2w_dk2=b/Delta*(1-((m-ref_k)/Delta)**2)\n",
    "        return ref_k,w,dw_dk,d2w_dk2\n",
    "    def local_vol(self,T,K,F,dT=1/365):\n",
    "        T=np.maximum(T,1e-6)\n",
    "        k=np.log(K/F)\n",
    "        ref_k,w,dw_dk,d2w_dk2=self.dvar(T,K)\n",
    "        w1=self.var0(T+dT,ref_k)\n",
    "        dw_dt=(w1-w)/dT\n",
    "        var= dw_dt/(1-k/w*dw_dk+1/4*(-1/4-1/w+(k/w)**2)*dw_dk**2+1/2*d2w_dk2)\n",
    "        return np.sqrt(var)\n",
    "    def __call__(self,T,K):\n",
    "        \"SVI Implied volatility as a funtion of expiry T (in years) and strike K\"\n",
    "        T=np.maximum(T,epsilon) # do not devide by zero when T=0\n",
    "        return np.sqrt(self.var(T,K)/T)"
   ]
  },
  {
   "attachments": {},
   "cell_type": "markdown",
   "id": "d2a6d0cc",
   "metadata": {},
   "source": [
    "#### Multi Variate  Local Volatility Process Definition\n",
    "\n",
    "<a id=\"vol_process\"/>"
   ]
  },
  {
   "cell_type": "code",
   "execution_count": 5,
   "id": "e575db9d",
   "metadata": {
    "ExecuteTime": {
     "end_time": "2022-04-11T11:03:08.677911Z",
     "start_time": "2022-04-11T11:03:08.669448Z"
    }
   },
   "outputs": [],
   "source": [
    "class MVLocalVolProcess:\n",
    "    def __init__(self,fwds,vols,corr):\n",
    "        self.fwds=fwds\n",
    "        self.vol=vols\n",
    "        self.L=np.linalg.cholesky(corr)\n",
    "        self.df=np.empty(len(fwds))\n",
    "    def nfactors(self):\n",
    "        return len(self.fwds)\n",
    "    def __call__(self,s,t,dt,dZ):\n",
    "        var=np.empty((len(self.df),dZ.shape[1]))\n",
    "        for i in range(self.nfactors()):\n",
    "            F=self.fwds[i](t)\n",
    "            self.df[i]=self.fwds[i](t+dt)/F\n",
    "            var[i]=self.vol[i].local_vol(t,s[i],F)**2*dt\n",
    "        dW=np.dot(self.L,dZ) # correlate\n",
    "        dW=np.sqrt(var)*dW # scale by variance\n",
    "        s1=s*self.df[:,np.newaxis]*np.exp(-var/2+dW)\n",
    "        return s1\n",
    "        "
   ]
  },
  {
   "cell_type": "markdown",
   "id": "eee10919",
   "metadata": {},
   "source": [
    "#### Monte Carlo Propagation"
   ]
  },
  {
   "cell_type": "code",
   "execution_count": 6,
   "id": "80020116",
   "metadata": {
    "ExecuteTime": {
     "end_time": "2022-04-11T11:03:08.687232Z",
     "start_time": "2022-04-11T11:03:08.679219Z"
    }
   },
   "outputs": [],
   "source": [
    "def propagate(process,s0,ts,rgen,npaths):\n",
    "    nsteps=len(ts)\n",
    "    nvars=len(s0)\n",
    "    S=np.empty((nsteps,nvars,npaths))\n",
    "    S[0]=s0[:,np.newaxis]\n",
    "    nfactors=process.nfactors()\n",
    "    for it,t in enumerate(ts[:-1]):\n",
    "        dt=ts[it+1]-t\n",
    "        dW=rgen.standard_normal((nfactors,npaths))\n",
    "        S[it+1]=process(S[it],t,dt,dW)\n",
    "    return S"
   ]
  },
  {
   "attachments": {},
   "cell_type": "markdown",
   "id": "cba487f8",
   "metadata": {},
   "source": [
    "#### Black-Scholes Option Price\n",
    "\n",
    "#### Forward Option Price\n",
    "<a id=\"black-scholes\"/>"
   ]
  },
  {
   "cell_type": "code",
   "execution_count": 7,
   "id": "2df3e7b7",
   "metadata": {
    "ExecuteTime": {
     "end_time": "2022-04-11T11:03:08.697317Z",
     "start_time": "2022-04-11T11:03:08.688669Z"
    }
   },
   "outputs": [],
   "source": [
    "ndtr=stats.norm.cdf\n",
    "epsilon=1e-6\n",
    "\n",
    "def bs_price_fwd(isCall, K, T, F, sigma):\n",
    "    \"\"\" Black's pricing formula\n",
    "    \n",
    "    European option  forward price as a function of\n",
    "    the asset's forward.\n",
    "    \n",
    "    :param isCall: True for calls , False for Puts\n",
    "    :type isCall: Boolean\n",
    "    :param K: option strike\n",
    "    :param T: option expiry in years\n",
    "    :param F: forward of the options underlying asset\n",
    "    :param sigma: underlying's  volatility\n",
    "    :return: option's forward price\n",
    "    \"\"\"\n",
    "    \n",
    "    ds=np.maximum(epsilon,sigma*np.sqrt(T))\n",
    "    var=0.5*ds*ds\n",
    "    d2=(np.log(F/np.maximum(K,epsilon))-var)/ds\n",
    "    d1=d2+ds\n",
    "    if isCall:\n",
    "        opt= F*ndtr(d1) - K*ndtr(d2)\n",
    "    else:\n",
    "        opt= K*ndtr(-d2) - F*ndtr(-d1)\n",
    "    return opt\n",
    "\n"
   ]
  },
  {
   "cell_type": "markdown",
   "id": "394d3093",
   "metadata": {
    "ExecuteTime": {
     "end_time": "2022-04-09T09:04:05.755849Z",
     "start_time": "2022-04-09T09:04:05.744459Z"
    }
   },
   "source": [
    "#### Implied Volatility Calculation\n",
    "\n",
    "<a id=\"implied-vol\"/>"
   ]
  },
  {
   "cell_type": "code",
   "execution_count": 8,
   "id": "8cece8b2",
   "metadata": {
    "ExecuteTime": {
     "end_time": "2022-04-11T11:03:08.704345Z",
     "start_time": "2022-04-11T11:03:08.698692Z"
    }
   },
   "outputs": [],
   "source": [
    "class BSPriceTarget:\n",
    "    def __init__(self,isCall,K,T,F,p):\n",
    "        self.isCall=isCall\n",
    "        self.K=K\n",
    "        self.T=T\n",
    "        self.F=F\n",
    "        self.p=p\n",
    "    def __call__(self,sigma):\n",
    "        return  bs_price_fwd(self.isCall,self.K,self.T,self.F,sigma)-self.p\n",
    "    \n",
    "\n",
    "def bs_implied_fwd(isCall, K, T, F, p, tol=1e-8,max_iter=1000, max_sigma=4):\n",
    "    \"\"\" Implied Blacks scholes volatility.\n",
    "    \n",
    "    European option implied volatility as a function of  forward option price and\n",
    "    underlying forward.\n",
    "    \n",
    "    :param isCall: True for calls , False for Puts\n",
    "    :type isCall: Boolean\n",
    "    :param K: option strike\n",
    "    :param T: option expiry in years\n",
    "    :param F: forward of the options underlying asset\n",
    "    :parm p: forward option price to expiry.\n",
    "    :param sigma: initial guess of the underlying's  volatility\n",
    "    :param tol: tolerance, the implied volatility returned by this function when used in :meth:`bs_price_fwd` function will match *p* with at most *tol* error.\n",
    "    :aram max_sigma: maximum level of volatility to attempt, defaults to 200%\n",
    "    :return: option's implied volatility\n",
    "    \"\"\"\n",
    "    func=BSPriceTarget(isCall,K,T,F,p)\n",
    "    sol=optimize.root_scalar(func,bracket=[0.0,max_sigma],x0=0.2,xtol=tol,maxiter=max_iter)\n",
    "    return sol.root"
   ]
  },
  {
   "attachments": {},
   "cell_type": "markdown",
   "id": "cea565b5",
   "metadata": {
    "ExecuteTime": {
     "end_time": "2022-04-09T11:05:28.734067Z",
     "start_time": "2022-04-09T11:05:28.721829Z"
    }
   },
   "source": [
    "#### Europen Option Payoff\n",
    "\n",
    "<a id=\"european-payof\"/>"
   ]
  },
  {
   "cell_type": "code",
   "execution_count": 9,
   "id": "82e65efc",
   "metadata": {
    "ExecuteTime": {
     "end_time": "2022-04-11T11:03:08.715806Z",
     "start_time": "2022-04-11T11:03:08.705580Z"
    }
   },
   "outputs": [],
   "source": [
    "class EuropeanOptionPayoff:\n",
    "    def __init__(self,is_call,strike,expiry,index=0):\n",
    "        if is_call: self.is_call= 1\n",
    "        else:       self.is_call=-1\n",
    "        self.strike=strike\n",
    "        self.expiry=expiry\n",
    "        self.step=None\n",
    "        self.index=index\n",
    "    def set_steps(self,ts):\n",
    "        self.step=np.searchsorted(ts,self.expiry)\n",
    "    def __call__(self,paths):\n",
    "        s=paths[self.step,self.index]\n",
    "        val=np.maximum(0.0,self.is_call*(s-self.strike))     \n",
    "        return val"
   ]
  },
  {
   "cell_type": "markdown",
   "id": "51124ca3",
   "metadata": {
    "ExecuteTime": {
     "end_time": "2022-04-09T08:55:18.350702Z",
     "start_time": "2022-04-09T08:55:18.340936Z"
    }
   },
   "source": [
    "## Market Data\n",
    "\n",
    "### Market Inputs\n",
    "<a id=\"market-data\"/>"
   ]
  },
  {
   "cell_type": "markdown",
   "id": "aa6d5915",
   "metadata": {
    "ExecuteTime": {
     "end_time": "2022-04-09T08:55:11.055931Z",
     "start_time": "2022-04-09T08:55:11.052605Z"
    }
   },
   "source": [
    "#### Forwards"
   ]
  },
  {
   "cell_type": "code",
   "execution_count": 10,
   "id": "1f1be5fc",
   "metadata": {
    "ExecuteTime": {
     "end_time": "2022-04-11T11:03:08.722954Z",
     "start_time": "2022-04-11T11:03:08.718036Z"
    }
   },
   "outputs": [],
   "source": [
    "Ts=np.array([0.25,1,2,5])\n",
    "S0=1.0\n",
    "rates=np.array([0.02,0.022,0.025,0.0375])\n",
    "div_rates=np.array([0.015,0.0175,0.02,0.025])\n",
    "\n",
    "fwds=[]\n",
    "\n",
    "# asset 1\n",
    "disc=Discount(Ts,rates)\n",
    "div=Discount(Ts,div_rates)\n",
    "fwds.append(Forward(S0,disc,div))\n",
    "\n",
    "# asset 2\n",
    "div=Discount(Ts,0*div_rates) # no dividends\n",
    "fwds.append(Forward(S0,disc,div))\n",
    "\n",
    "# asset 3\n",
    "div=Discount(Ts,4*div_rates) # large divident rate, falling forwards\n",
    "fwds.append(Forward(S0,disc,div))\n",
    "\n",
    "nassets=len(fwds)"
   ]
  },
  {
   "cell_type": "markdown",
   "id": "9f6bcbec",
   "metadata": {},
   "source": [
    "#### Volatilities"
   ]
  },
  {
   "cell_type": "code",
   "execution_count": 11,
   "id": "8750cc48",
   "metadata": {
    "ExecuteTime": {
     "end_time": "2022-04-11T11:03:08.732358Z",
     "start_time": "2022-04-11T11:03:08.723928Z"
    }
   },
   "outputs": [],
   "source": [
    "sig0s=np.array([0.16,0.16,0.16,0.16])\n",
    "as_=Ts* sig0s**2\n",
    "bs=np.sqrt(Ts)*np.array([0.05,0.05,0.05,0.05])\n",
    "rhos=np.array([-0.75,-0.75,-0.75,-0.75])\n",
    "ms=np.array([0.0,0.0,0.0,0.0])\n",
    "sigs=np.array([0.1,0.1,0.1,0.1])\n",
    "vols=[]\n",
    "vols.append(SVI(fwds[0],Ts,as_,bs,rhos,ms,sigs))\n",
    "vols.append(SVI(fwds[1],Ts,4*as_,0.5*bs,rhos,ms,sigs))\n",
    "vols.append(SVI(fwds[2],Ts,0.25*as_,2*bs,rhos,ms,sigs))"
   ]
  },
  {
   "cell_type": "markdown",
   "id": "c65593d9",
   "metadata": {
    "ExecuteTime": {
     "end_time": "2022-04-09T09:27:58.394401Z",
     "start_time": "2022-04-09T09:27:58.382709Z"
    }
   },
   "source": [
    "#### Correlation"
   ]
  },
  {
   "cell_type": "code",
   "execution_count": 12,
   "id": "28be8ef0",
   "metadata": {
    "ExecuteTime": {
     "end_time": "2022-04-11T11:03:08.738490Z",
     "start_time": "2022-04-11T11:03:08.733830Z"
    }
   },
   "outputs": [],
   "source": [
    "corr=np.array(\n",
    "    [ [ 1,  0.5, 0.25],\n",
    "      [0.5, 1.0, 0.75],\n",
    "      [0.25,0.75, 1.0]\n",
    "    ]\n",
    ")"
   ]
  },
  {
   "attachments": {},
   "cell_type": "markdown",
   "id": "bd31ccf0",
   "metadata": {},
   "source": [
    "## Problem1:  Data Visualization"
   ]
  },
  {
   "attachments": {},
   "cell_type": "markdown",
   "id": "90840b63",
   "metadata": {},
   "source": [
    "### Problem 1.1 \n",
    "\n",
    "Make a plot of the forwards for assets 1,2 and 3 as a function of expiry for times up to 1 year."
   ]
  },
  {
   "cell_type": "code",
   "execution_count": 13,
   "id": "de118f45",
   "metadata": {
    "ExecuteTime": {
     "end_time": "2022-04-11T11:03:08.942150Z",
     "start_time": "2022-04-11T11:03:08.739884Z"
    }
   },
   "outputs": [
    {
     "data": {
      "text/plain": [
       "Text(0, 0.5, 'Forward')"
      ]
     },
     "execution_count": 13,
     "metadata": {},
     "output_type": "execute_result"
    },
    {
     "data": {
      "image/png": "[encoded data removed]",
      "text/plain": [
       "<Figure size 432x288 with 1 Axes>"
      ]
     },
     "metadata": {
      "needs_background": "light"
     },
     "output_type": "display_data"
    }
   ],
   "source": [
    "ts=np.linspace(0,1,201)\n",
    "for i in range(nassets):\n",
    "    plt.plot(ts,fwds[i](ts),label=f\"asset {i}\")\n",
    "plt.legend()\n",
    "plt.xlabel(\"T\")\n",
    "plt.ylabel(\"Forward\")"
   ]
  },
  {
   "attachments": {},
   "cell_type": "markdown",
   "id": "875cb5fc",
   "metadata": {
    "ExecuteTime": {
     "end_time": "2022-04-09T09:01:39.131246Z",
     "start_time": "2022-04-09T09:01:39.117853Z"
    }
   },
   "source": [
    "### Problem 1.2: \n",
    "\n",
    "\n",
    "Make a plot of the *At the money forward* volatilities for the three assets.\n",
    "\n",
    "[HINT] The ATM volatility for a expiry $T$ is the implied volatility at strike $K=F_t$:\n",
    "\n",
    "$$\n",
    "    \\sigma_\\text{ATM}(T) = \\sigma_I(T,F_t)\n",
    "$$"
   ]
  },
  {
   "cell_type": "code",
   "execution_count": 14,
   "id": "c360d97a",
   "metadata": {
    "ExecuteTime": {
     "end_time": "2022-04-11T11:03:09.358579Z",
     "start_time": "2022-04-11T11:03:08.943484Z"
    },
    "scrolled": false
   },
   "outputs": [
    {
     "data": {
      "text/plain": [
       "Text(0, 0.5, '$\\\\sigma_{ATM}$')"
      ]
     },
     "execution_count": 14,
     "metadata": {},
     "output_type": "execute_result"
    },
    {
     "data": {
      "image/png": "[encoded data removed]",
      "text/plain": [
       "<Figure size 432x288 with 1 Axes>"
      ]
     },
     "metadata": {
      "needs_background": "light"
     },
     "output_type": "display_data"
    }
   ],
   "source": [
    "ts=np.linspace(0,1,201)\n",
    "for i in range(nassets):\n",
    "    plt.plot(ts,vols[i](ts,fwds[i](ts)),label=f\"asset {i}\")\n",
    "plt.legend()\n",
    "plt.xlabel(\"T\")\n",
    "plt.ylabel(r\"$\\sigma_{ATM}$\") "
   ]
  },
  {
   "attachments": {},
   "cell_type": "markdown",
   "id": "801e4c40",
   "metadata": {},
   "source": [
    "### Problem 1.3\n",
    "\n",
    "Plot the implied volatility for all asset at the one year expiry and  for strikes in range $K\\in [0.5,2]$"
   ]
  },
  {
   "cell_type": "code",
   "execution_count": 15,
   "id": "def8e875",
   "metadata": {
    "ExecuteTime": {
     "end_time": "2022-04-11T11:03:09.531111Z",
     "start_time": "2022-04-11T11:03:09.360248Z"
    }
   },
   "outputs": [
    {
     "data": {
      "text/plain": [
       "Text(0, 0.5, '$\\\\sigma_I(1,K)$')"
      ]
     },
     "execution_count": 15,
     "metadata": {},
     "output_type": "execute_result"
    },
    {
     "data": {
      "image/png": "[encoded data removed]",
      "text/plain": [
       "<Figure size 432x288 with 1 Axes>"
      ]
     },
     "metadata": {
      "needs_background": "light"
     },
     "output_type": "display_data"
    }
   ],
   "source": [
    "T=1\n",
    "Ks=np.linspace(0.2,2,201)\n",
    "for i in range(nassets):\n",
    "    plt.plot(Ks,vols[i](T,Ks),label=f\"asset {i}\")\n",
    "plt.legend()\n",
    "plt.xlabel(\"K\")\n",
    "plt.ylabel(r\"$\\sigma_I(1,K)$\") "
   ]
  },
  {
   "attachments": {},
   "cell_type": "markdown",
   "id": "72606247",
   "metadata": {
    "ExecuteTime": {
     "end_time": "2022-04-09T09:16:30.446184Z",
     "start_time": "2022-04-09T09:16:30.433166Z"
    }
   },
   "source": [
    "### Problem 1.4 \n",
    "\n",
    "Plot the local volatility  for all asset at the one year expiry and  for strikes in range $K\\in [0.5,2]$"
   ]
  },
  {
   "cell_type": "code",
   "execution_count": 16,
   "id": "b2fb4fea",
   "metadata": {
    "ExecuteTime": {
     "end_time": "2022-04-11T11:03:09.677285Z",
     "start_time": "2022-04-11T11:03:09.532294Z"
    }
   },
   "outputs": [
    {
     "data": {
      "text/plain": [
       "Text(0, 0.5, '$\\\\sigma(1,K)$')"
      ]
     },
     "execution_count": 16,
     "metadata": {},
     "output_type": "execute_result"
    },
    {
     "data": {
      "image/png": "[encoded data removed]",
      "text/plain": [
       "<Figure size 432x288 with 1 Axes>"
      ]
     },
     "metadata": {
      "needs_background": "light"
     },
     "output_type": "display_data"
    }
   ],
   "source": [
    "for i in range(nassets):\n",
    "    F=fwds[i](T)\n",
    "    plt.plot(Ks,vols[i].local_vol(T,Ks,F),label=f\"asset {i}\")\n",
    "plt.legend()\n",
    "plt.xlabel(\"K\")\n",
    "plt.ylabel(r\"$\\sigma(1,K)$\") "
   ]
  },
  {
   "attachments": {},
   "cell_type": "markdown",
   "id": "140a3e20",
   "metadata": {},
   "source": [
    "## Problem 2: Monte Carlo Paths"
   ]
  },
  {
   "attachments": {},
   "cell_type": "markdown",
   "id": "007ee117",
   "metadata": {},
   "source": [
    "### Problem 2.1 \n",
    "\n",
    "Using the market data inputs ([forwards, volatilities and correlations](#market-data)) defined previously in this notebook use Monte Carlo with the [Multivariate Local volatility process](#vol_process) to generate 10,000 paths  with daily time steps for one year."
   ]
  },
  {
   "cell_type": "code",
   "execution_count": 17,
   "id": "e5ed209a",
   "metadata": {
    "ExecuteTime": {
     "end_time": "2022-04-11T11:03:09.683230Z",
     "start_time": "2022-04-11T11:03:09.679222Z"
    }
   },
   "outputs": [
    {
     "data": {
      "text/plain": [
       "<__main__.MVLocalVolProcess at 0x7efeb3625d90>"
      ]
     },
     "execution_count": 17,
     "metadata": {},
     "output_type": "execute_result"
    }
   ],
   "source": [
    "process=MVLocalVolProcess(fwds,vols,corr)\n",
    "process"
   ]
  },
  {
   "cell_type": "code",
   "execution_count": 18,
   "id": "c7d5547f",
   "metadata": {
    "ExecuteTime": {
     "end_time": "2022-04-11T11:03:09.690726Z",
     "start_time": "2022-04-11T11:03:09.684999Z"
    }
   },
   "outputs": [],
   "source": [
    "npaths=10_000"
   ]
  },
  {
   "cell_type": "code",
   "execution_count": 19,
   "id": "fbb144fd",
   "metadata": {
    "ExecuteTime": {
     "end_time": "2022-04-11T11:03:09.697417Z",
     "start_time": "2022-04-11T11:03:09.691840Z"
    }
   },
   "outputs": [],
   "source": [
    "mc_ts=np.linspace(0,1,366)"
   ]
  },
  {
   "cell_type": "code",
   "execution_count": 20,
   "id": "cc1828d5",
   "metadata": {
    "ExecuteTime": {
     "end_time": "2022-04-11T11:03:09.705747Z",
     "start_time": "2022-04-11T11:03:09.700045Z"
    }
   },
   "outputs": [
    {
     "data": {
      "text/plain": [
       "3"
      ]
     },
     "execution_count": 20,
     "metadata": {},
     "output_type": "execute_result"
    }
   ],
   "source": [
    "S0=np.array([1,1,1])\n",
    "nvars=len(S0)\n",
    "nvars"
   ]
  },
  {
   "cell_type": "code",
   "execution_count": 21,
   "id": "7856f024",
   "metadata": {
    "ExecuteTime": {
     "end_time": "2022-04-11T11:03:10.688744Z",
     "start_time": "2022-04-11T11:03:09.707873Z"
    }
   },
   "outputs": [],
   "source": [
    "paths=propagate(process,S0,mc_ts,rng,npaths)"
   ]
  },
  {
   "attachments": {},
   "cell_type": "markdown",
   "id": "e5f78993",
   "metadata": {
    "ExecuteTime": {
     "end_time": "2022-04-09T09:46:56.657143Z",
     "start_time": "2022-04-09T09:46:56.638576Z"
    }
   },
   "source": [
    "### Problem 2.2 \n",
    "\n",
    "What is the shape of the Monte Carlo Path array? what dimensions correspond to time step, asset and path sample?"
   ]
  },
  {
   "cell_type": "code",
   "execution_count": 22,
   "id": "2fbc9313",
   "metadata": {
    "ExecuteTime": {
     "end_time": "2022-04-11T11:03:10.693436Z",
     "start_time": "2022-04-11T11:03:10.689912Z"
    }
   },
   "outputs": [
    {
     "data": {
      "text/plain": [
       "(366, 3, 10000)"
      ]
     },
     "execution_count": 22,
     "metadata": {},
     "output_type": "execute_result"
    }
   ],
   "source": [
    "paths.shape"
   ]
  },
  {
   "cell_type": "markdown",
   "id": "690a2c1c",
   "metadata": {
    "ExecuteTime": {
     "end_time": "2022-04-09T09:48:08.908479Z",
     "start_time": "2022-04-09T09:48:08.893758Z"
    }
   },
   "source": [
    "<div class=\"alert alert-block alert-success\"> \n",
    "\n",
    "1. First dimension is time step\n",
    "2. Second Dimension is asset\n",
    "3. Third dimension is path sample\n",
    "\n",
    "</div>"
   ]
  },
  {
   "attachments": {},
   "cell_type": "markdown",
   "id": "1f9580c1",
   "metadata": {},
   "source": [
    "### Problem 2.3 \n",
    "\n",
    "Compute the MC sampled forwards for each one of the assets at for each time step\n",
    "\n",
    "[HINT] You just need to compute the average over the paths dimension of the array:\n",
    "$$\n",
    "    F_{\\alpha,T} = \\frac{1}{\\text{npaths}} \\sum_{p=1}^\\text{npaths} S_{\\alpha,T}\n",
    "$$"
   ]
  },
  {
   "cell_type": "code",
   "execution_count": 23,
   "id": "0dcf39df",
   "metadata": {
    "ExecuteTime": {
     "end_time": "2022-04-11T11:03:10.713748Z",
     "start_time": "2022-04-11T11:03:10.695230Z"
    }
   },
   "outputs": [
    {
     "data": {
      "text/plain": [
       "(366, 3)"
      ]
     },
     "execution_count": 23,
     "metadata": {},
     "output_type": "execute_result"
    }
   ],
   "source": [
    "mc_fwd=paths.mean(axis=-1)\n",
    "mc_fwd.shape"
   ]
  },
  {
   "attachments": {},
   "cell_type": "markdown",
   "id": "5f140417",
   "metadata": {},
   "source": [
    "### Problem 2.4 \n",
    "\n",
    "Compute the MC estimated standard deviation of forwards for each one of the assets at for each time step\n",
    "\n",
    "\n",
    "[HINT] The MC standard deviation is given by\n",
    "\n",
    "$$\n",
    "    \\delta F_{\\alpha,T} = \\sqrt{ \\frac{\\text{Var}(S_{\\alpha,T})}{\\text{npaths}}}\n",
    "$$"
   ]
  },
  {
   "cell_type": "code",
   "execution_count": 24,
   "id": "c2926348",
   "metadata": {
    "ExecuteTime": {
     "end_time": "2022-04-11T11:03:10.765893Z",
     "start_time": "2022-04-11T11:03:10.715930Z"
    }
   },
   "outputs": [
    {
     "data": {
      "text/plain": [
       "(366, 3)"
      ]
     },
     "execution_count": 24,
     "metadata": {},
     "output_type": "execute_result"
    }
   ],
   "source": [
    "mc_std=np.sqrt(paths.var(axis=-1)/npaths)\n",
    "mc_std.shape"
   ]
  },
  {
   "attachments": {},
   "cell_type": "markdown",
   "id": "27747003",
   "metadata": {},
   "source": [
    "### Problem 2.5 \n",
    "\n",
    "Make a plot comparing the market forwards (as defined in [notebook inputs](#market-data)) to the Monte Carlo sampled forwards.\n",
    "\n",
    "Share an area of $\\pm 2$ standard deviations around the MC forward.\n",
    "\n",
    "[HINT] Use [matplotlib.fill_between](https://matplotlib.org/stable/api/_as_gen/matplotlib.pyplot.fill_between.html) function to plot the shaded area"
   ]
  },
  {
   "cell_type": "code",
   "execution_count": 25,
   "id": "cffaa2da",
   "metadata": {
    "ExecuteTime": {
     "end_time": "2022-04-11T11:03:10.988545Z",
     "start_time": "2022-04-11T11:03:10.767537Z"
    }
   },
   "outputs": [
    {
     "data": {
      "text/plain": [
       "Text(0, 0.5, 'Forward')"
      ]
     },
     "execution_count": 25,
     "metadata": {},
     "output_type": "execute_result"
    },
    {
     "data": {
      "image/png": "[encoded data removed]",
      "text/plain": [
       "<Figure size 432x288 with 1 Axes>"
      ]
     },
     "metadata": {
      "needs_background": "light"
     },
     "output_type": "display_data"
    }
   ],
   "source": [
    "ts=np.linspace(0,1,201)\n",
    "for i in range(nassets):\n",
    "    p=plt.plot(ts,fwds[i](ts),label=f\"market {i}\")\n",
    "    color=p[0].get_color()\n",
    "    plt.plot(mc_ts,mc_fwd[:,i],linestyle=\"dashed\",color=color,label=f\"mc {i}\")\n",
    "    plt.fill_between(mc_ts,mc_fwd[:,i]-2*mc_std[:,i],mc_fwd[:,i]+2*mc_std[:,i],color=color,alpha=0.25)\n",
    "plt.legend()\n",
    "plt.xlabel(\"T\")\n",
    "plt.ylabel(\"Forward\")"
   ]
  },
  {
   "attachments": {},
   "cell_type": "markdown",
   "id": "001ab16b",
   "metadata": {
    "ExecuteTime": {
     "end_time": "2022-04-09T12:00:55.743781Z",
     "start_time": "2022-04-09T12:00:55.734899Z"
    }
   },
   "source": [
    "\n",
    "\n",
    "### Problem 2.6 </div>\n",
    "\n",
    "#### At The Money Forward Volatilities\n",
    "\n",
    "For every asset $i=1,2,3$ and every time step $t_k$ for $k=1,\\dots,${365}$ compute the MC estimated  value of **at the money forward call option** with expiry $T=t_k$, and strike $K=F_{T}$, an its standard deviation.\n",
    "\n",
    "[HINTS]  \n",
    "1. Skip $t_0=0$ expiry (there is no optionality if the expiry is $T=0$).\n",
    "2. You should end up with a $365 \\times 3$ array of option values and a similar array of the standard deviation.\n",
    "3. Do not fell like you have  to do anything too fancy numpy calculations. An implementation suing two  nested python loops for $i$ and $t_k$ is fine."
   ]
  },
  {
   "cell_type": "code",
   "execution_count": 26,
   "id": "57ce5816",
   "metadata": {
    "ExecuteTime": {
     "end_time": "2022-04-11T11:03:11.147000Z",
     "start_time": "2022-04-11T11:03:10.989790Z"
    }
   },
   "outputs": [
    {
     "data": {
      "text/plain": [
       "((365, 3), (365, 3))"
      ]
     },
     "execution_count": 26,
     "metadata": {},
     "output_type": "execute_result"
    }
   ],
   "source": [
    "opts=np.zeros((len(mc_ts)-1,nassets)) # 366, first empty will be zero\n",
    "dopts=np.zeros((len(mc_ts)-1,nassets))\n",
    "is_call= True\n",
    "for i in range(nassets):\n",
    "    for idx,T,in enumerate(mc_ts[1:]):\n",
    "        payout=EuropeanOptionPayoff(is_call,mc_fwd[idx+1,i],T,index=i)\n",
    "        payout.set_steps(mc_ts)\n",
    "        val=payout(paths)\n",
    "        opts[idx,i]=np.mean(val)\n",
    "        dopts[idx,i]=np.sqrt(np.var(val)/npaths) \n",
    "opts.shape,dopts.shape"
   ]
  },
  {
   "attachments": {},
   "cell_type": "markdown",
   "id": "a339dc9a",
   "metadata": {
    "ExecuteTime": {
     "end_time": "2022-04-09T14:30:24.825149Z",
     "start_time": "2022-04-09T14:30:24.793956Z"
    }
   },
   "source": [
    "### Problem 2.7 \n",
    "\n",
    "For every asset $i=1,2,3$ and every time step $t_k$ for $k=1,\\dots,365$ compute the **market price** of the same ATM call options of Problem 2.6   using \n",
    "Black-Scholes and the [market inputs](#market-data).  \n",
    "    \n",
    "    \n",
    "[HINTS]  \n",
    "1. Skip again $t_0=0$ expiry (there is no optionality if the expiry is $T=0$).\n",
    "2. You should end up with a $365 \\times 3$ array of market option values.\n",
    "3. Do not fell like you have  to do anything too fancy numpy calculations. An implementation suing two  nested python loops for $i$ and $t_k$ is fine.\n",
    "4. For any asset $i=1,2,3$ and any expiry $T=t_k$, you need first to compute the market forward $F_T$, and the ATM volatility $\\sigma_I(T,F_T)$ before you can apply Black-Scholes."
   ]
  },
  {
   "cell_type": "code",
   "execution_count": 27,
   "id": "7d7731c3",
   "metadata": {
    "ExecuteTime": {
     "end_time": "2022-04-11T11:03:11.153062Z",
     "start_time": "2022-04-11T11:03:11.148409Z"
    }
   },
   "outputs": [
    {
     "data": {
      "text/plain": [
       "(366, 3)"
      ]
     },
     "execution_count": 27,
     "metadata": {},
     "output_type": "execute_result"
    }
   ],
   "source": [
    "market_fwds=np.empty((len(mc_ts),nassets))\n",
    "for i in range(nassets):\n",
    "    market_fwds[:,i]=fwds[i](mc_ts)\n",
    "market_fwds.shape"
   ]
  },
  {
   "cell_type": "code",
   "execution_count": 28,
   "id": "a612b747",
   "metadata": {
    "ExecuteTime": {
     "end_time": "2022-04-11T11:03:11.162775Z",
     "start_time": "2022-04-11T11:03:11.157387Z"
    }
   },
   "outputs": [
    {
     "data": {
      "text/plain": [
       "(366, 3)"
      ]
     },
     "execution_count": 28,
     "metadata": {},
     "output_type": "execute_result"
    }
   ],
   "source": [
    "market_vols=np.empty((len(mc_ts),nassets))\n",
    "for i in range(nassets):\n",
    "    market_vols[:,i]=vols[i](mc_ts,market_fwds[:,i])\n",
    "market_vols.shape"
   ]
  },
  {
   "cell_type": "code",
   "execution_count": 29,
   "id": "1e0e51e3",
   "metadata": {
    "ExecuteTime": {
     "end_time": "2022-04-11T11:03:11.169556Z",
     "start_time": "2022-04-11T11:03:11.163966Z"
    }
   },
   "outputs": [
    {
     "data": {
      "text/plain": [
       "(365, 3)"
      ]
     },
     "execution_count": 29,
     "metadata": {},
     "output_type": "execute_result"
    }
   ],
   "source": [
    "market_prices=bs_price_fwd(True,market_fwds[1:],mc_ts[1:,np.newaxis],market_fwds[1:],market_vols[1:])\n",
    "market_prices.shape"
   ]
  },
  {
   "cell_type": "code",
   "execution_count": 30,
   "id": "73d9f682",
   "metadata": {
    "ExecuteTime": {
     "end_time": "2022-04-11T11:03:11.343320Z",
     "start_time": "2022-04-11T11:03:11.170908Z"
    }
   },
   "outputs": [
    {
     "data": {
      "text/plain": [
       "Text(0, 0.5, 'Option Price')"
      ]
     },
     "execution_count": 30,
     "metadata": {},
     "output_type": "execute_result"
    },
    {
     "data": {
      "image/png": "[encoded data removed]",
      "text/plain": [
       "<Figure size 432x288 with 1 Axes>"
      ]
     },
     "metadata": {
      "needs_background": "light"
     },
     "output_type": "display_data"
    }
   ],
   "source": [
    "for i in range(nassets):\n",
    "    p=plt.plot(mc_ts[1:],market_prices[:,i],label=f\"market {i}\")\n",
    "    color=p[0].get_color()\n",
    "    plt.plot(mc_ts[1:],opts[:,i],linestyle=\"dashed\",color=color,label=f\"mc {i}\")\n",
    "    plt.fill_between(mc_ts[1:],opts[:,i]-2*dopts[:,i],opts[:,i]+2*dopts[:,i],color=color,alpha=0.25)\n",
    "plt.legend()\n",
    "plt.xlabel(\"T\")\n",
    "plt.ylabel(\"Option Price\")"
   ]
  },
  {
   "attachments": {},
   "cell_type": "markdown",
   "id": "d86be3e8",
   "metadata": {},
   "source": [
    "### Problem 2.8 \n",
    "\n",
    "For every asset $i=1,2,3$ and every time step $t_k$ for $k=1,\\dots,365$ compute the **implied volatility** of the montecarlo estimated prices and compare it to the market implied probabilities.\n",
    "    \n",
    "    \n",
    "[HINTS]  Use [bs_implied_fwd](#implied-vol) to convert the Monte Carlo prices into implied volatilities.\n"
   ]
  },
  {
   "cell_type": "code",
   "execution_count": 31,
   "id": "dd8c53be",
   "metadata": {
    "ExecuteTime": {
     "end_time": "2022-04-11T11:03:14.683602Z",
     "start_time": "2022-04-11T11:03:11.344419Z"
    }
   },
   "outputs": [],
   "source": [
    "ivols=np.empty((len(mc_ts)-1,nassets))\n",
    "ivols0=np.empty((len(mc_ts)-1,nassets))\n",
    "ivols1=np.empty((len(mc_ts)-1,nassets))\n",
    "for i in range(nassets):\n",
    "    for idx,T in enumerate(mc_ts[1:]):\n",
    "        F=mc_fwd[idx,i]\n",
    "        p=opts[idx,i]\n",
    "        dp=dopts[idx,i]\n",
    "        ivols[idx,i]=bs_implied_fwd(True,F,T,F,p)\n",
    "        ivols0[idx,i]=bs_implied_fwd(True,F,T,F,np.maximum(p-2*dp,epsilon))\n",
    "        ivols1[idx,i]=bs_implied_fwd(True,F,T,F,p+2*dp)"
   ]
  },
  {
   "cell_type": "code",
   "execution_count": 32,
   "id": "55763e67",
   "metadata": {
    "ExecuteTime": {
     "end_time": "2022-04-11T11:03:14.864048Z",
     "start_time": "2022-04-11T11:03:14.684774Z"
    }
   },
   "outputs": [
    {
     "data": {
      "text/plain": [
       "Text(0, 0.5, 'Implied Volatility')"
      ]
     },
     "execution_count": 32,
     "metadata": {},
     "output_type": "execute_result"
    },
    {
     "data": {
      "image/png": "[encoded data removed]",
      "text/plain": [
       "<Figure size 432x288 with 1 Axes>"
      ]
     },
     "metadata": {
      "needs_background": "light"
     },
     "output_type": "display_data"
    }
   ],
   "source": [
    "for i in range(nassets):\n",
    "    p=plt.plot(mc_ts[1:],market_vols[1:,i],label=f\"market {i}\")\n",
    "    color=p[0].get_color()\n",
    "    plt.plot(mc_ts[1:],ivols[:,i],linestyle=\"dashed\",color=color,label=f\"mc {i}\")\n",
    "    plt.fill_between(mc_ts[1:],ivols0[:,i],ivols1[:,i],color=color,alpha=0.25)\n",
    "plt.legend()\n",
    "plt.xlabel(\"T\")\n",
    "plt.ylabel(\"Implied Volatility\")"
   ]
  },
  {
   "attachments": {},
   "cell_type": "markdown",
   "id": "4b52cf27",
   "metadata": {
    "ExecuteTime": {
     "end_time": "2022-04-09T12:11:30.372368Z",
     "start_time": "2022-04-09T12:11:30.343799Z"
    }
   },
   "source": [
    "### Problem 2.8:  Volatility Skew\n",
    "\n",
    "\n",
    "\n",
    "For every asset $i=1,2,3$ and evently spaced strikes $K$ between 0.75 and 1.5 compute the MC estimated  value of  call option one year expiry $T=1$, an its standard deviation.\n"
   ]
  },
  {
   "cell_type": "code",
   "execution_count": 33,
   "id": "5833a471",
   "metadata": {
    "ExecuteTime": {
     "end_time": "2022-04-11T11:03:14.948501Z",
     "start_time": "2022-04-11T11:03:14.865380Z"
    }
   },
   "outputs": [
    {
     "data": {
      "text/plain": [
       "((201, 3), (201, 3))"
      ]
     },
     "execution_count": 33,
     "metadata": {},
     "output_type": "execute_result"
    }
   ],
   "source": [
    "T=1\n",
    "Ks=np.linspace(0.75,1.5,201)\n",
    "opts=np.zeros((len(Ks),nassets)) # 366, first empty will be zero\n",
    "dopts=np.zeros((len(Ks),nassets))\n",
    "is_call= True\n",
    "for i in range(nassets):\n",
    "    for idx,K,in enumerate(Ks):\n",
    "        payout=EuropeanOptionPayoff(is_call,K,T,index=i)\n",
    "        payout.set_steps(mc_ts)\n",
    "        val=payout(paths)\n",
    "        opts[idx,i]=np.mean(val)\n",
    "        dopts[idx,i]=np.sqrt(np.var(val)/npaths) \n",
    "opts.shape,dopts.shape"
   ]
  },
  {
   "attachments": {},
   "cell_type": "markdown",
   "id": "5c98214c",
   "metadata": {
    "ExecuteTime": {
     "end_time": "2022-04-09T21:27:43.784753Z",
     "start_time": "2022-04-09T21:27:43.764597Z"
    }
   },
   "source": [
    "### Problem 2.10\n",
    "\n",
    "For every asset $i=1,2,3$ and evently spaced strikes $K$ between 0.75 and 1.5 compute the **market price** of the same call option one year expiry $T=1$ using \n",
    "Black-Scholes and the [market inputs](#market-data). \n",
    "    \n",
    "    "
   ]
  },
  {
   "cell_type": "code",
   "execution_count": 34,
   "id": "34977e15",
   "metadata": {
    "ExecuteTime": {
     "end_time": "2022-04-11T11:03:14.957091Z",
     "start_time": "2022-04-11T11:03:14.949699Z"
    }
   },
   "outputs": [
    {
     "data": {
      "text/plain": [
       "(201, 3)"
      ]
     },
     "execution_count": 34,
     "metadata": {},
     "output_type": "execute_result"
    }
   ],
   "source": [
    "market_vols=np.empty((len(Ks),nassets))\n",
    "for i in range(nassets):\n",
    "    market_vols[:,i]=vols[i](T,Ks)\n",
    "market_vols.shape"
   ]
  },
  {
   "cell_type": "code",
   "execution_count": 35,
   "id": "835f5fbd",
   "metadata": {
    "ExecuteTime": {
     "end_time": "2022-04-11T11:03:14.963412Z",
     "start_time": "2022-04-11T11:03:14.958485Z"
    }
   },
   "outputs": [],
   "source": [
    "Fs=np.empty(nassets)\n",
    "for i in range(nassets):\n",
    "    Fs[i]=fwds[i](T)"
   ]
  },
  {
   "cell_type": "code",
   "execution_count": 36,
   "id": "af02d3db",
   "metadata": {
    "ExecuteTime": {
     "end_time": "2022-04-11T11:03:14.973490Z",
     "start_time": "2022-04-11T11:03:14.965029Z"
    }
   },
   "outputs": [
    {
     "data": {
      "text/plain": [
       "(201, 3)"
      ]
     },
     "execution_count": 36,
     "metadata": {},
     "output_type": "execute_result"
    }
   ],
   "source": [
    "market_prices=bs_price_fwd(True,Ks[:,np.newaxis],T,Fs[np.newaxis,:],market_vols)\n",
    "market_prices.shape"
   ]
  },
  {
   "cell_type": "code",
   "execution_count": 37,
   "id": "6d34baa6",
   "metadata": {
    "ExecuteTime": {
     "end_time": "2022-04-11T11:03:15.189040Z",
     "start_time": "2022-04-11T11:03:14.975591Z"
    }
   },
   "outputs": [
    {
     "data": {
      "text/plain": [
       "Text(0, 0.5, 'Option Price')"
      ]
     },
     "execution_count": 37,
     "metadata": {},
     "output_type": "execute_result"
    },
    {
     "data": {
      "image/png": "[encoded data removed]",
      "text/plain": [
       "<Figure size 432x288 with 1 Axes>"
      ]
     },
     "metadata": {
      "needs_background": "light"
     },
     "output_type": "display_data"
    }
   ],
   "source": [
    "for i in range(nassets):\n",
    "    p=plt.plot(Ks,market_prices[:,i],label=f\"market {i}\")\n",
    "    color=p[0].get_color()\n",
    "    plt.plot(Ks,opts[:,i],linestyle=\"dashed\",color=color,label=f\"mc {i}\")\n",
    "    plt.fill_between(Ks,opts[:,i]-2*dopts[:,i],opts[:,i]+2*dopts[:,i],color=color,alpha=0.25)\n",
    "plt.legend()\n",
    "plt.xlabel(\"K\")\n",
    "plt.ylabel(\"Option Price\")"
   ]
  },
  {
   "attachments": {},
   "cell_type": "markdown",
   "id": "8eb5b4b4",
   "metadata": {},
   "source": [
    "### Problem 2.11\n",
    "\n",
    "For every asset  𝑖=1,2,3  and evently spaced strikes  𝐾  between 0.75 and 1.5 compute **implied volatility** of the Monte Carlo prices of the same call option with one year expiry  𝑇=1.  \n",
    "    \n",
    "[HINTS]  Use [bs_implied_fwd](#implied-vol) to convert the Monte Carlo prices into implied volatilities.\n"
   ]
  },
  {
   "cell_type": "code",
   "execution_count": 38,
   "id": "62d1b1a7",
   "metadata": {
    "ExecuteTime": {
     "end_time": "2022-04-11T11:03:18.531542Z",
     "start_time": "2022-04-11T11:03:15.190281Z"
    }
   },
   "outputs": [],
   "source": [
    "ivols=np.empty((len(Ks),nassets))\n",
    "ivols0=np.empty((len(Ks),nassets))\n",
    "ivols1=np.empty((len(Ks),nassets))\n",
    "for i in range(nassets):\n",
    "    for idx,K in enumerate(Ks):\n",
    "        F=Fs[i]\n",
    "        p=opts[idx,i]\n",
    "        dp=dopts[idx,i]\n",
    "        ivols[idx,i]=bs_implied_fwd(True,K,T,F,p)\n",
    "        ivols1[idx,i]=bs_implied_fwd(True,K,T,F,p+2*dp)\n",
    "        intrinsic=np.maximum(F-K,0.0)+epsilon\n",
    "        ivols0[idx,i]=bs_implied_fwd(True,K,T,F,np.maximum(p-2*dp,intrinsic),tol=epsilon)\n",
    "        \n",
    "       "
   ]
  },
  {
   "cell_type": "code",
   "execution_count": 39,
   "id": "7bf449ae",
   "metadata": {
    "ExecuteTime": {
     "end_time": "2022-04-11T11:03:18.696705Z",
     "start_time": "2022-04-11T11:03:18.532783Z"
    }
   },
   "outputs": [
    {
     "data": {
      "text/plain": [
       "Text(0, 0.5, 'Implied Volatility')"
      ]
     },
     "execution_count": 39,
     "metadata": {},
     "output_type": "execute_result"
    },
    {
     "data": {
      "image/png": "[encoded data removed]",
      "text/plain": [
       "<Figure size 432x288 with 1 Axes>"
      ]
     },
     "metadata": {
      "needs_background": "light"
     },
     "output_type": "display_data"
    }
   ],
   "source": [
    "for i in range(nassets):\n",
    "    p=plt.plot(Ks,market_vols[:,i],label=f\"market {i}\")\n",
    "    color=p[0].get_color()\n",
    "    plt.plot(Ks,ivols[:,i],linestyle=\"dashed\",color=color,label=f\"mc {i}\")\n",
    "    plt.fill_between(Ks,ivols0[:,i],ivols1[:,i],color=color,alpha=0.25)\n",
    "plt.legend(loc=\"upper right\")\n",
    "plt.xlabel(\"K\")\n",
    "plt.ylabel(\"Implied Volatility\")"
   ]
  },
  {
   "attachments": {},
   "cell_type": "markdown",
   "id": "cca221d8",
   "metadata": {},
   "source": [
    "## Problem 3: Call on the Worst Asian Average\n",
    "\n",
    "### Problem 3.1 \n",
    "\n",
    "Fill in the payoff class payoff below to implement a **call option on the worst of the Asian averages** of the assets:\n",
    "\n",
    "\\begin{align*}\n",
    "  A_\\alpha &= \\frac{1}{N} \\sum_{t < T}^{T} S_{\\alpha,t} \\\\\n",
    "    W &= \\min_\\alpha A_\\alpha \\\\\n",
    "    \\text{payoff} &= \\max(0, W - K)\n",
    "\\end{align*}\n",
    "\n",
    "where $N$ is the number of observations lest of equal to the expiry $T$"
   ]
  },
  {
   "cell_type": "code",
   "execution_count": 40,
   "id": "a5ca756c",
   "metadata": {
    "ExecuteTime": {
     "end_time": "2022-04-11T11:03:18.705144Z",
     "start_time": "2022-04-11T11:03:18.701541Z"
    }
   },
   "outputs": [],
   "source": [
    "class CallWorstofAsiansPayoff:\n",
    "    def __init__(self,strike,expiry):\n",
    "        pass\n",
    "    def set_steps(self,ts):\n",
    "        pass\n",
    "    def __call__(self,paths):\n",
    "        pass"
   ]
  },
  {
   "cell_type": "code",
   "execution_count": 41,
   "id": "8af87027",
   "metadata": {
    "ExecuteTime": {
     "end_time": "2022-04-11T11:03:18.713193Z",
     "start_time": "2022-04-11T11:03:18.706894Z"
    }
   },
   "outputs": [],
   "source": [
    "class CallWorstofAsiansPayoff:\n",
    "    def __init__(self,strike,expiry):\n",
    "        self.strike=strike\n",
    "        self.expiry=expiry\n",
    "        self.step=None\n",
    "    def set_steps(self,ts):\n",
    "        self.step=np.searchsorted(ts,self.expiry)\n",
    "    def __call__(self,paths):\n",
    "        s=paths[:self.step] # restict observation up to expiry\n",
    "        m=s.mean(axis=0) # compute Asian mean for each asset\n",
    "        w=m.min(axis=0) # compute work of means\n",
    "        val=np.maximum(0.0,w-self.strike) # call on worst of means      \n",
    "        return val"
   ]
  },
  {
   "attachments": {},
   "cell_type": "markdown",
   "id": "f728e427",
   "metadata": {},
   "source": [
    "### Problem 3.2\n",
    "\n",
    "Use the `CallWorstofAsiansPayoff` and MC paths we generated previously to price call options on the worst of the Asian averages with strike $K=1$ and expiries $T=\\frac{1}{4},\\frac{1}{2}$,and $1$.\n",
    "\n",
    "Make sure to estimate also the MC estimate standard deviation."
   ]
  },
  {
   "cell_type": "code",
   "execution_count": 42,
   "id": "4088017a",
   "metadata": {
    "ExecuteTime": {
     "end_time": "2022-04-11T11:03:18.739819Z",
     "start_time": "2022-04-11T11:03:18.714481Z"
    }
   },
   "outputs": [
    {
     "name": "stdout",
     "output_type": "stream",
     "text": [
      "0.25 0.006622247326091324 0.00014932116835664083\n",
      "0.5 0.008581717182439825 0.0001955337284369659\n",
      "1 0.009674091277298845 0.00023886925724571708\n"
     ]
    }
   ],
   "source": [
    "for T in [0.25,0.5,1]:\n",
    "    payoff=CallWorstofAsiansPayoff(1,T)\n",
    "    payoff.set_steps(mc_ts)\n",
    "    values=payoff(paths)\n",
    "    opt=values.mean()\n",
    "    dopt=np.sqrt(values.var()/npaths)\n",
    "    print(T,opt,dopt)"
   ]
  },
  {
   "attachments": {},
   "cell_type": "markdown",
   "id": "cfd913d7",
   "metadata": {},
   "source": [
    "### Problem 3.3: Call on Asian average of the  worst asset\n",
    "\n",
    "\n",
    "\n",
    "Fill in the payoff class payoff below to implement a **call option on the Asian average of worst of the three assets**:\n",
    "\n",
    "\\begin{align*}\n",
    "    W_t &= \\min_\\alpha S_{\\alpha,t} \\\\\n",
    "    A &= \\frac{1}{N} \\sum_{t < T}^{T} M_{t} \\\\\n",
    "    \\text{payoff} &= \\max(0, A - K)\n",
    "\\end{align*}\n",
    "\n",
    "where $N$ is the number of observations lest of equal to the expiry $T$"
   ]
  },
  {
   "cell_type": "code",
   "execution_count": 43,
   "id": "4b76f577",
   "metadata": {
    "ExecuteTime": {
     "end_time": "2022-04-11T11:03:18.746248Z",
     "start_time": "2022-04-11T11:03:18.742088Z"
    }
   },
   "outputs": [],
   "source": [
    "class CallAsianofWorstPayoff:\n",
    "    def __init__(self,strike,expiry):\n",
    "        pass\n",
    "    def set_steps(self,ts):\n",
    "        pass\n",
    "    def __call__(self,paths):\n",
    "        pass"
   ]
  },
  {
   "cell_type": "code",
   "execution_count": 44,
   "id": "2f11e3e3",
   "metadata": {
    "ExecuteTime": {
     "end_time": "2022-04-11T11:03:18.753146Z",
     "start_time": "2022-04-11T11:03:18.748006Z"
    }
   },
   "outputs": [],
   "source": [
    "class CallAsianofWorstPayoff:\n",
    "    def __init__(self,strike,expiry):\n",
    "        self.strike=strike\n",
    "        self.expiry=expiry\n",
    "        self.step=None\n",
    "    def set_steps(self,ts):\n",
    "        self.step=np.searchsorted(ts,self.expiry)\n",
    "    def __call__(self,paths):\n",
    "        s=paths[:self.step] # restict observation up to expiry\n",
    "        w=s.min(axis=1) # compute worst performing asset on each time step\n",
    "        m=w.mean(axis=0) # compute asian mean of wort of assets\n",
    "        val=np.maximum(0.0,m-self.strike) # call on the work of means\n",
    "        return val"
   ]
  },
  {
   "attachments": {},
   "cell_type": "markdown",
   "id": "56498b95",
   "metadata": {},
   "source": [
    "### Problem 3.4 \n",
    "\n",
    "Use the `CallAsianofWorstPayoff` and MC paths we generate previous to price call options on the Asian average of the  worst of the assets with strike $K=1$ and expiries $T=\\frac{1}{4},\\frac{1}{2}$,and $1$.\n",
    "\n",
    "Make sure to estimate also the MC estimate standard deviation."
   ]
  },
  {
   "cell_type": "code",
   "execution_count": 45,
   "id": "3b8e3c05",
   "metadata": {
    "ExecuteTime": {
     "end_time": "2022-04-11T11:03:18.845882Z",
     "start_time": "2022-04-11T11:03:18.754441Z"
    }
   },
   "outputs": [
    {
     "name": "stdout",
     "output_type": "stream",
     "text": [
      "0.25 0.005022514996659015 0.00012863709524671389\n",
      "0.5 0.006437118424523874 0.00016879546936764142\n",
      "1 0.007070930482686338 0.00020367069106230643\n"
     ]
    }
   ],
   "source": [
    "for T in [0.25,0.5,1]:\n",
    "    payoff=CallAsianofWorstPayoff(1,T)\n",
    "    payoff.set_steps(mc_ts)\n",
    "    values=payoff(paths)\n",
    "    opt=values.mean()\n",
    "    dopt=np.sqrt(values.var()/npaths)\n",
    "    print(T,opt,dopt)"
   ]
  },
  {
   "attachments": {},
   "cell_type": "markdown",
   "id": "19608343",
   "metadata": {
    "ExecuteTime": {
     "end_time": "2022-04-09T23:45:11.423514Z",
     "start_time": "2022-04-09T23:45:11.413521Z"
    }
   },
   "source": [
    "### Problem 3.5 \n",
    "\n",
    "With one is a cheaper option, the Worst of Asians or the Asian of the Worst ?\n",
    "\n",
    "Can you explain why?"
   ]
  },
  {
   "cell_type": "markdown",
   "id": "321df65b",
   "metadata": {
    "ExecuteTime": {
     "end_time": "2022-04-09T23:50:23.359781Z",
     "start_time": "2022-04-09T23:50:23.339152Z"
    }
   },
   "source": [
    "<div class=\"alert alert-block alert-success\"> \n",
    "\n",
    "The call on the Asian average of the worst asset is cheaper than the call on the Worst of the Asian averages.\n",
    "\n",
    "The Asian on the worst asset will always be lower than either of the three assets Asians,\n",
    "because at each time the worst asset is lower than each one of them. \n",
    "\n",
    "$$\n",
    "    W_t  \\le S_{\\alpha,t} \\ \\ \\ \\text{for}\\ \\  \\alpha=1,2,3\n",
    "$$    \n",
    "therefore \n",
    "$$\n",
    "    M = \\frac{1}{N} \\sum_{t<T}^T W_t \\le  \\frac{1}{N} \\sum_{t<T}^T S_{\\alpha,t} = A_\\alpha \\ \\ \\ \\text{for}\\ \\  \\alpha=1,2,3\n",
    "$$\n",
    "and, thus\n",
    "\n",
    "$$\n",
    "    M \\le \\min_\\alpha A_\\alpha = W.\n",
    "$$\n",
    "  \n",
    "Now, because $M\\le W$ a call on $M$ will aways be less than a call on $W$ with the same strike.\n",
    "\n",
    "</div>"
   ]
  },
  {
   "cell_type": "code",
   "execution_count": null,
   "id": "4c312485",
   "metadata": {},
   "outputs": [],
   "source": []
  }
 ],
 "metadata": {
  "kernelspec": {
   "display_name": "Python 3 (ipykernel)",
   "language": "python",
   "name": "python3"
  },
  "language_info": {
   "codemirror_mode": {
    "name": "ipython",
    "version": 3
   },
   "file_extension": ".py",
   "mimetype": "text/x-python",
   "name": "python",
   "nbconvert_exporter": "python",
   "pygments_lexer": "ipython3",
   "version": "3.9.7"
  },
  "toc": {
   "base_numbering": 1,
   "nav_menu": {},
   "number_sections": true,
   "sideBar": true,
   "skip_h1_title": true,
   "title_cell": "Table of Contents",
   "title_sidebar": "Contents",
   "toc_cell": false,
   "toc_position": {},
   "toc_section_display": true,
   "toc_window_display": true
  }
 },
 "nbformat": 4,
 "nbformat_minor": 5
}
