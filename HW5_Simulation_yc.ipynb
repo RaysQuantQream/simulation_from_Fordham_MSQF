{
 "cells": [
  {
   "cell_type": "markdown",
   "metadata": {},
   "source": [
    "# HW 5: Monte Carlo and Integration\n",
    "\n",
    "## Preliminaries\n",
    "\n",
    "### Imports"
   ]
  },
  {
   "cell_type": "code",
   "execution_count": 1,
   "metadata": {},
   "outputs": [],
   "source": [
    "import numpy as np\n",
    "import pandas as pd\n",
    "import matplotlib.pyplot as plt\n",
    "\n",
    "import scipy.stats as stats\n",
    "import scipy.integrate as integrate\n",
    "import scipy.special as special\n",
    "import scipy.optimize as optimize"
   ]
  },
  {
   "attachments": {},
   "cell_type": "markdown",
   "metadata": {},
   "source": [
    "## Random Seed"
   ]
  },
  {
   "cell_type": "code",
   "execution_count": 2,
   "metadata": {},
   "outputs": [],
   "source": [
    "seed=58392\n",
    "gen=np.random.default_rng()"
   ]
  },
  {
   "attachments": {},
   "cell_type": "markdown",
   "metadata": {},
   "source": [
    "### Code\n",
    "\n",
    "#### Mid Point Rule"
   ]
  },
  {
   "cell_type": "code",
   "execution_count": 3,
   "metadata": {},
   "outputs": [],
   "source": [
    "def mid_point_rule(func, a, b, N):\n",
    "    dx=(b-a)/(N+1)\n",
    "    x=np.linspace(a+dx/2,b-dx/2,N)\n",
    "    y=func(x)\n",
    "    return dx*np.sum(y)"
   ]
  },
  {
   "attachments": {},
   "cell_type": "markdown",
   "metadata": {},
   "source": [
    "#### Midpoint Rule 2D"
   ]
  },
  {
   "cell_type": "code",
   "execution_count": 4,
   "metadata": {},
   "outputs": [],
   "source": [
    "def mid_point_rule_2d(func, a1, b1, a2,b2, N):\n",
    "    dx1=(b1-a1)/(N+1)\n",
    "    dx2=(b2-a2)/(N+1)\n",
    "    x1=np.linspace(a1+dx1/2,b1-dx1/2,N)\n",
    "    x2=np.linspace(a2+dx2/2,b2-dx2/2,N)   \n",
    "    y=func(x1[:,np.newaxis],x2[np.newaxis,:]) \n",
    "    I= np.sum(y)  \n",
    "    return dx1*dx2*I"
   ]
  },
  {
   "attachments": {},
   "cell_type": "markdown",
   "metadata": {},
   "source": [
    "#### Transform Integral Domain"
   ]
  },
  {
   "cell_type": "code",
   "execution_count": 5,
   "metadata": {},
   "outputs": [],
   "source": [
    "def integrate_transform(f_tilde,icdf,N):\n",
    "\t# t=icdf(u) is the inverse of u(t)\n",
    "\treturn mid_point_rule(lambda u: f_tilde(icdf(u)),0,1,N)\n",
    "    "
   ]
  },
  {
   "attachments": {},
   "cell_type": "markdown",
   "metadata": {},
   "source": [
    "#### Black-Scholes Formula"
   ]
  },
  {
   "cell_type": "code",
   "execution_count": 6,
   "metadata": {},
   "outputs": [],
   "source": [
    "ndtr=stats.norm.cdf\n",
    "epsilon=1e-12\n",
    "\n",
    "def bs_price_fwd(isCall, K, T, F, sigma):\n",
    "    \"\"\" Black's pricing formula\n",
    "    \n",
    "    European option  forward price as a function of\n",
    "    the asset's forward.\n",
    "    \n",
    "    :param isCall: True for calls , False for Puts\n",
    "    :type isCall: Boolean\n",
    "    :param K: option strike\n",
    "    :param T: option expiry in years\n",
    "    :param F: forward of the options underlying asset\n",
    "    :param sigma: underlying's  volatility\n",
    "    :return: option's forward price\n",
    "    \"\"\"\n",
    "    ds=np.maximum(0.000001,sigma*np.sqrt(T))\n",
    "    dsig=0.5*ds*ds\n",
    "    d2=(np.log(F/np.maximum(K,epsilon))-dsig)/ds\n",
    "    d1=d2+ds\n",
    "    if isCall:\n",
    "        opt= F*ndtr(d1) - K*ndtr(d2)\n",
    "    else:\n",
    "        opt= K*ndtr(-d2) - F*ndtr(-d1)\n",
    "    return opt"
   ]
  },
  {
   "attachments": {},
   "cell_type": "markdown",
   "metadata": {},
   "source": [
    "#### SVI Vol Curve Paremeterization"
   ]
  },
  {
   "cell_type": "code",
   "execution_count": 7,
   "metadata": {},
   "outputs": [],
   "source": [
    "class SVICurve:\n",
    "    def __init__(self,T,F,vol_ATM,b,rho,m,sigma):\n",
    "        self.T=T\n",
    "        self.F=F\n",
    "        self.a=vol_ATM**2*T-b*(-rho*m+np.sqrt(m**2+sigma**2)) \n",
    "        self.b=b\n",
    "        self.rho=rho\n",
    "        self.m=m\n",
    "        self.sigma=sigma        \n",
    "    def __call__(self,K):\n",
    "        k=np.log(K/self.F)\n",
    "        var=self.a + self.b*(self.rho*(k-self.m)+np.sqrt((k-self.m)**2+self.sigma**2))\n",
    "        return np.sqrt(var/self.T)"
   ]
  },
  {
   "attachments": {},
   "cell_type": "markdown",
   "metadata": {},
   "source": [
    "#### Risk Neutral Distribution"
   ]
  },
  {
   "cell_type": "code",
   "execution_count": 8,
   "metadata": {},
   "outputs": [],
   "source": [
    "class RiskNeutral:\n",
    "    def __init__(self,T,F,vol):\n",
    "        self.T=T\n",
    "        self.F=F\n",
    "        self.vol=vol\n",
    "    def cdf(self,K,dk=0.001):\n",
    "        dK=K*dk\n",
    "        K0=K-dK\n",
    "        sig0=self.vol(K0)\n",
    "        p0=bs_price_fwd(False,K0,self.T,self.F,sig0)\n",
    "        K1=K+dK\n",
    "        sig1=self.vol(K1)\n",
    "        p1=bs_price_fwd(False,K1,self.T,self.F,sig1)\n",
    "        return  (p1-p0)/dK/2.0\n",
    "    def pdf(self,K,dk=0.001):\n",
    "        dK=K*dk\n",
    "        return (self.cdf(K)-self.cdf(K-dK))/dK       \n",
    "    def ppf(self,u,tol=1e-4,max_iter=21): # inverse cdf\n",
    "        T=self.T\n",
    "        F=self.F\n",
    "        sigma=self.vol(F)\n",
    "        var=sigma**2*T\n",
    "        std=np.sqrt(var)\n",
    "        S=np.empty_like(u.ravel())\n",
    "        \n",
    "        S0=F*np.exp(-15*std)\n",
    "        cdf0=self.cdf(S0)\n",
    "        pdf0=self.pdf(S0)\n",
    "        u1=u.ravel() #linearize into one long vector\n",
    "        idx=u1.argsort() # we will visit them in increasing order\n",
    "        for i1 in range(len(idx)):\n",
    "            U=u1[idx[i1]]\n",
    "            # solve equation  \n",
    "            #    cdf(S)=u\n",
    "            # using brent's method\n",
    "            iter=0\n",
    "            while np.abs(cdf0-U)/cdf0>tol:\n",
    "                S1=S0+(U-cdf0)/pdf0\n",
    "                cdf1=self.cdf(S1)\n",
    "                pdf0=(cdf1-cdf0)/(S1-S0)\n",
    "                cdf0=cdf1\n",
    "                S0=S1\n",
    "                iter+=1\n",
    "                if (iter>=max_iter):\n",
    "                    break\n",
    "            S[idx[i1]]=S0\n",
    "                    \n",
    "        return S.reshape(u.shape)\n",
    "    def rvs(self,gen,size,tol=1e-4,max_iter=21):\n",
    "        u=gen.uniform(size=size)\n",
    "        return self.ppf(u,tol,max_iter)"
   ]
  },
  {
   "attachments": {},
   "cell_type": "markdown",
   "metadata": {},
   "source": [
    "## Problem 1: Monte Carlo Integration\n",
    "\n",
    "### Problem 1.1:\n",
    "\n",
    "Whe unit  sphere is defined by equation:\n",
    "$$\n",
    "S^2 = \\{ (u_1,u_2,u_3) \\mid u_1^2 + u_2^2 + u_3^2 < 1 \\}\n",
    "$$\n",
    "\n",
    "Define the sphere *indicator function* $\\text{I}(u_1,u_2,u_3)$   that returns 1 if point $(u_1,u_2,u_3)$ is inside the sphere, and 0 otherwise."
   ]
  },
  {
   "cell_type": "code",
   "execution_count": 9,
   "metadata": {},
   "outputs": [],
   "source": [
    "def I_sphere(u1,u2,u3):\n",
    "    pass"
   ]
  },
  {
   "cell_type": "code",
   "execution_count": 10,
   "metadata": {},
   "outputs": [],
   "source": [
    "def I_sphere(u1,u2,u3):\n",
    "    return (u1**2+u2**2+u3**2)<1\n"
   ]
  },
  {
   "attachments": {},
   "cell_type": "markdown",
   "metadata": {},
   "source": [
    "### Problem 1.2\n",
    "\n",
    "Using $N=10,00$ Monte Carlo samples estimate the fraction of the *unit cube* $\\Omega=(-1,1)\\times (-1,1) \\times (-1,1)$ that is covered by the unit sphere $S^2$:\n",
    "\n",
    "$$\n",
    "    f= \\frac{ \\int \\int \\int_{S^2} \\text{d}u_1 \\text{d}u_2 \\text{d}u_3 } {\\int \\int \\int_\\Omega \\text{d}u_1 \\text{d}u_2 \\text{d}u_3} = \\frac{ \\int_{-1}^1 \\int_{-1}^1 \\int_{-1}^1 \\,\\text{I}(u_1,u_2,u_3)\\, \\text{d}u_1 \\text{d}u_2 \\text{d}u_3 } {\\int_{-1}^1 \\int_{-1}^1 \\int_{-1}^1 \\text{d}u_1 \\text{d}u_2 \\text{d}u_3}\n",
    "$$\n",
    "\n",
    "where $\\text{I}(u_1,u_2,u_3)$ is the indicator function for the sphere as you implemented in problem 1.1.\n",
    "\n"
   ]
  },
  {
   "cell_type": "code",
   "execution_count": 11,
   "metadata": {},
   "outputs": [],
   "source": [
    "N=10_000\n",
    "u1=gen.uniform(-1,1,N)\n",
    "u2=gen.uniform(-1,1,N)\n",
    "u3=gen.uniform(-1,1,N)"
   ]
  },
  {
   "cell_type": "code",
   "execution_count": 12,
   "metadata": {},
   "outputs": [
    {
     "data": {
      "text/plain": [
       "0.5288"
      ]
     },
     "execution_count": 12,
     "metadata": {},
     "output_type": "execute_result"
    }
   ],
   "source": [
    "S=I_sphere(u1,u2,u3)\n",
    "S.mean()\n"
   ]
  },
  {
   "attachments": {},
   "cell_type": "markdown",
   "metadata": {},
   "source": [
    "### Problem 1.3\n",
    "\n",
    "Estimate the *standard deviation* $\\delta f$ of the Monte carlo estimate $\\hat{f}$ of the fraction cube  occupied by the  sphere"
   ]
  },
  {
   "cell_type": "code",
   "execution_count": 13,
   "metadata": {},
   "outputs": [
    {
     "data": {
      "text/plain": [
       "0.004991698708856535"
      ]
     },
     "execution_count": 13,
     "metadata": {},
     "output_type": "execute_result"
    }
   ],
   "source": [
    "S.std()/np.sqrt(N)"
   ]
  },
  {
   "attachments": {},
   "cell_type": "markdown",
   "metadata": {},
   "source": [
    "Problem 1.4\n",
    "\n",
    "1. What is the volume of the  cube $\\Omega=(-1,1)\\times(-1,1)\\times(-1,1)$?\n",
    "2. What is the Monte Carlo estimate $\\hat{V}$ of the volume of the unit sphere?\n",
    "3. What is the standard error $\\delta V$ of the Monte Carlo estime of the sphere volume?"
   ]
  },
  {
   "cell_type": "code",
   "execution_count": 14,
   "metadata": {},
   "outputs": [
    {
     "data": {
      "text/plain": [
       "(8, 4.2304, 0.03993358967085228)"
      ]
     },
     "execution_count": 14,
     "metadata": {},
     "output_type": "execute_result"
    }
   ],
   "source": [
    "Omega=2**3\n",
    "V_hat=Omega*S.mean()\n",
    "dV=Omega*S.std()/np.sqrt(N)\n",
    "Omega,V_hat,dV"
   ]
  },
  {
   "attachments": {},
   "cell_type": "markdown",
   "metadata": {},
   "source": [
    "Problem 1.5\n",
    "\n",
    "The formula of the volume of the unit sphere is:\n",
    "$$\n",
    "    V = \\frac{4}{3}\\pi\n",
    "$$\n",
    "\n",
    "What is the probability of obtaining a Monte Carlo error $|\\hat{V}-V|$ larger than the one we obtained in Problem 1.4?\n",
    "\n",
    "[HINT] This is a **two-tailed** z-score test."
   ]
  },
  {
   "cell_type": "code",
   "execution_count": 15,
   "metadata": {},
   "outputs": [
    {
     "data": {
      "text/plain": [
       "(4.1887902047863905, 4.2304, 1.0419748276218965, 0.2974233497129657)"
      ]
     },
     "execution_count": 15,
     "metadata": {},
     "output_type": "execute_result"
    }
   ],
   "source": [
    "V=4/3*np.pi\n",
    "z=(V_hat-V)/dV\n",
    "p_value=2*(1-stats.norm.cdf(z))\n",
    "V,V_hat,z,p_value"
   ]
  },
  {
   "attachments": {},
   "cell_type": "markdown",
   "metadata": {},
   "source": [
    "###  Problem 1.6\n",
    "\n",
    "Re-using the $N=10_000$  MC samples your generated in Problem 1.2, estimate the value of the function\n",
    "$$\n",
    "    f(u_1,u_2,u_3) = 10\\, r(1-r)\n",
    "$$ \n",
    "where \n",
    "$$\n",
    "    r= \\sqrt{u_1^2+u_2^2+u3^2}\n",
    "$$\n",
    "**in the unit sphere**:\n",
    "$$\n",
    "    I  =  \\int \\int \\int_{S^2} f(u_1,u_2,u_3)\n",
    "$$"
   ]
  },
  {
   "cell_type": "code",
   "execution_count": 16,
   "metadata": {},
   "outputs": [],
   "source": [
    "def func(u1,u2,u3):\n",
    "    ind=I_sphere(u1,u2,u3)\n",
    "    r=np.sqrt(u1**2+u2**2+u3**2)\n",
    "    return  10*r*(1-r)*ind\n"
   ]
  },
  {
   "cell_type": "code",
   "execution_count": 17,
   "metadata": {},
   "outputs": [
    {
     "data": {
      "text/plain": [
       "(0.7910922587312441, 0.00938560148524196)"
      ]
     },
     "execution_count": 17,
     "metadata": {},
     "output_type": "execute_result"
    }
   ],
   "source": [
    "f=func(u1,u2,u3)\n",
    "f.mean(),f.std()/np.sqrt(N)"
   ]
  },
  {
   "cell_type": "code",
   "execution_count": 18,
   "metadata": {},
   "outputs": [
    {
     "data": {
      "text/plain": [
       "(6.328738069849953, 0.07508481188193568)"
      ]
     },
     "execution_count": 18,
     "metadata": {},
     "output_type": "execute_result"
    }
   ],
   "source": [
    "I_hat=Omega*f.mean()\n",
    "dI=Omega*f.std()/np.sqrt(N)\n",
    "I_hat,dI"
   ]
  },
  {
   "cell_type": "code",
   "execution_count": 19,
   "metadata": {},
   "outputs": [
    {
     "data": {
      "text/plain": [
       "-0.606684115317415"
      ]
     },
     "execution_count": 19,
     "metadata": {},
     "output_type": "execute_result"
    }
   ],
   "source": [
    "I=2*np.pi # true value\n",
    "(I-I_hat)/dI"
   ]
  },
  {
   "attachments": {},
   "cell_type": "markdown",
   "metadata": {},
   "source": [
    "## Problem 2: Gumbel (Extreme Value Distribution)\n",
    "\n",
    "The **Gumbel** (or Extreme Value) is the limiting distribution of of the **maximum** of $N$ independent random variables (with smoe conditions ).\n",
    "\n",
    "The distribution has probability density function:\n",
    "\n",
    "$$\n",
    "    \\text{PDF}(x) =\\frac{1}{\\beta} e^{-\\frac{x-\\mu}{\\beta}}\\exp\\left(- e^{-\\frac{x-\\mu}{\\beta}}\\right)\n",
    "$$\n",
    "for $x\\in (-\\infty,+\\infty)$\n",
    "\n",
    "Its cumulative distribution function is:\n",
    "$$\n",
    "    \\text{CDF}(x)= \\exp \\left(  -e^{-\\frac{x-\\mu}{\\beta}} \\right)\n",
    "$$\n",
    "\n",
    "### Problem 2.1\n",
    "\n",
    "1. Implement Gumbel's PDF\n",
    "2. Implement Gumbel's CDF\n",
    "3. Plot the PDF and CDF of a $\\text{Gumbel}(\\mu=0,\\beta=2)$ random variable in on the domain $x\\in (-5,15)$"
   ]
  },
  {
   "cell_type": "code",
   "execution_count": 20,
   "metadata": {},
   "outputs": [],
   "source": [
    "def pdf_gumbel(x,mu,beta):\n",
    "    pass"
   ]
  },
  {
   "cell_type": "code",
   "execution_count": 21,
   "metadata": {},
   "outputs": [],
   "source": [
    "def cdf_gumbel(x,mu,beta):\n",
    "    pass"
   ]
  },
  {
   "cell_type": "code",
   "execution_count": 22,
   "metadata": {},
   "outputs": [],
   "source": [
    "def pdf_gumbel(x,mu,beta):\n",
    "    return 1/beta*np.exp(-(x-mu)/beta)*np.exp(-np.exp(-(x-mu)/beta))"
   ]
  },
  {
   "cell_type": "code",
   "execution_count": 23,
   "metadata": {},
   "outputs": [],
   "source": [
    "def cdf_gumbel(x,mu,beta):\n",
    "    return np.exp(-np.exp(-(x-mu)/beta))\n"
   ]
  },
  {
   "cell_type": "code",
   "execution_count": 24,
   "metadata": {},
   "outputs": [],
   "source": [
    "mu=0\n",
    "beta=2"
   ]
  },
  {
   "cell_type": "code",
   "execution_count": 25,
   "metadata": {},
   "outputs": [
    {
     "data": {
      "text/plain": [
       "Text(0, 0.5, 'PDF(x)')"
      ]
     },
     "execution_count": 25,
     "metadata": {},
     "output_type": "execute_result"
    },
    {
     "data": {
      "image/png": "[encoded data removed]",
      "text/plain": [
       "<Figure size 640x480 with 1 Axes>"
      ]
     },
     "metadata": {},
     "output_type": "display_data"
    }
   ],
   "source": [
    "x=np.linspace(-5,15,201)\n",
    "p=pdf_gumbel(x,mu,beta)\n",
    "plt.plot(x,p)\n",
    "plt.title(rf\"PDF Gumbel($\\mu$={mu},$\\beta$={beta})\")\n",
    "plt.xlabel(\"x\")\n",
    "plt.ylabel(\"PDF(x)\")"
   ]
  },
  {
   "cell_type": "code",
   "execution_count": 26,
   "metadata": {},
   "outputs": [
    {
     "data": {
      "text/plain": [
       "Text(0, 0.5, 'CDF(x)')"
      ]
     },
     "execution_count": 26,
     "metadata": {},
     "output_type": "execute_result"
    },
    {
     "data": {
      "image/png": "[encoded data removed]",
      "text/plain": [
       "<Figure size 640x480 with 1 Axes>"
      ]
     },
     "metadata": {},
     "output_type": "display_data"
    }
   ],
   "source": [
    "\n",
    "u=cdf_gumbel(x,mu,beta)\n",
    "plt.plot(x,u)\n",
    "plt.title(rf\"CDF Gumbel($\\mu$={mu},$\\beta$={beta})\")\n",
    "plt.xlabel(\"x\")\n",
    "plt.ylabel(\"CDF(x)\")"
   ]
  },
  {
   "attachments": {},
   "cell_type": "markdown",
   "metadata": {},
   "source": [
    "### Problem 2.2\n",
    "\n",
    "The inverse cumulative distribution function of a Gumbel's random variable can be computed analytically:\n",
    "\n",
    "$$\n",
    "    \\text{CDF}^{-1}(u) = \\mu - \\beta \\log(-\\log u)\n",
    "$$\n",
    "\n",
    "1. Implement the inverse cumulative distribution\n",
    "2. Plot $\\text{CDF}^{-1}(u)$ in some range $u\\in (\\Delta u, 1- \\Delta u)$, for some small $\\Delta u>0$. \n",
    "3. Why can't  we plot $\\text{CDF}^{-1}(u)$ in the range $u\\in(0,1)$?\n",
    "4. Verify that \n",
    "$$\n",
    " x= \\text{CDF}^{-1} ( \\text{CDF}(x))\n",
    "$$\n",
    "in the range $x\\in (-5,15)$"
   ]
  },
  {
   "cell_type": "code",
   "execution_count": 27,
   "metadata": {},
   "outputs": [],
   "source": [
    "def icdf_gumbel(u,mu,beta):\n",
    "    pass"
   ]
  },
  {
   "cell_type": "code",
   "execution_count": 28,
   "metadata": {},
   "outputs": [],
   "source": [
    "def icdf_gumbel(u,mu,beta):\n",
    "    return mu-beta*np.log(-np.log(u))"
   ]
  },
  {
   "cell_type": "code",
   "execution_count": 29,
   "metadata": {},
   "outputs": [
    {
     "data": {
      "text/plain": [
       "Text(0, 0.5, 'x')"
      ]
     },
     "execution_count": 29,
     "metadata": {},
     "output_type": "execute_result"
    },
    {
     "data": {
      "image/png": "[encoded data removed]",
      "text/plain": [
       "<Figure size 640x480 with 1 Axes>"
      ]
     },
     "metadata": {},
     "output_type": "display_data"
    }
   ],
   "source": [
    "du=1/1000\n",
    "u=np.linspace(du,1-du,1001)\n",
    "plt.plot(u,icdf_gumbel(u,mu,beta))\n",
    "plt.title(rf\"Inverse CDF Gumbel($\\mu$={mu},$\\beta$={beta})\")\n",
    "plt.xlabel(\"u\")\n",
    "plt.ylabel(\"x\")"
   ]
  },
  {
   "cell_type": "code",
   "execution_count": 30,
   "metadata": {},
   "outputs": [],
   "source": [
    "# CDF diverges as u approaches 0 or 1 "
   ]
  },
  {
   "cell_type": "code",
   "execution_count": 31,
   "metadata": {},
   "outputs": [
    {
     "data": {
      "text/plain": [
       "1.652011860642233e-13"
      ]
     },
     "execution_count": 31,
     "metadata": {},
     "output_type": "execute_result"
    }
   ],
   "source": [
    "x=np.linspace(-5,15,201)\n",
    "u=cdf_gumbel(x,mu,beta)\n",
    "error=np.abs(x-icdf_gumbel(u,mu,beta))\n",
    "error.max()"
   ]
  },
  {
   "attachments": {},
   "cell_type": "markdown",
   "metadata": {},
   "source": [
    "### Problem 2.3\n",
    "\n",
    "Using  the **mid point rule** evaluate the expected value $\\bar{x}$ of  a $\\text{Gumbel}(\\mu=0,\\beta=2)$ random variable:\n",
    "\n",
    "$$\n",
    "    \\bar{x}=\\mathbb{E}_{\\text{Gumbel}}[x] = \\int_{-\\infty,\\infty}\\text{d} x\\, x\\, \\text{PDF}(x)\n",
    "$$\n",
    "\n",
    "Perform the calculation with:\n",
    "1. N=100 grid points\n",
    "2. N=1,000 grid points"
   ]
  },
  {
   "cell_type": "code",
   "execution_count": 32,
   "metadata": {},
   "outputs": [
    {
     "data": {
      "text/plain": [
       "1.1375033425244763"
      ]
     },
     "execution_count": 32,
     "metadata": {},
     "output_type": "execute_result"
    }
   ],
   "source": [
    "integrate_transform(lambda x:x,lambda u: icdf_gumbel(u,mu,beta),100)"
   ]
  },
  {
   "cell_type": "code",
   "execution_count": 33,
   "metadata": {},
   "outputs": [
    {
     "data": {
      "text/plain": [
       "1.1526676706574046"
      ]
     },
     "execution_count": 33,
     "metadata": {},
     "output_type": "execute_result"
    }
   ],
   "source": [
    "I=integrate_transform(lambda x:x,lambda u: icdf_gumbel(u,mu,beta),1000)\n",
    "I"
   ]
  },
  {
   "attachments": {},
   "cell_type": "markdown",
   "metadata": {},
   "source": [
    "### Problem 2.4\n",
    "\n",
    "Estimate the expected value $\\bar{x}$  (like in problem 2.3) using [scipy.integrate.quad](https://docs.scipy.org/doc/scipy/reference/generated/scipy.integrate.quad.html)\n",
    "\n",
    "[HINT] You can either integrate over $x$ or over $u$."
   ]
  },
  {
   "cell_type": "code",
   "execution_count": 34,
   "metadata": {},
   "outputs": [
    {
     "data": {
      "text/plain": [
       "(1.15443132980307, 1.3544468158155354e-08, 357)"
      ]
     },
     "execution_count": 34,
     "metadata": {},
     "output_type": "execute_result"
    }
   ],
   "source": [
    "#integrating over x, we need to truncate the domain\n",
    "I0,dI,info=integrate.quad(lambda x: x*pdf_gumbel(x,mu,beta),-100,100,full_output=True)\n",
    "I0,dI,info[\"neval\"]"
   ]
  },
  {
   "cell_type": "code",
   "execution_count": 35,
   "metadata": {},
   "outputs": [
    {
     "data": {
      "text/plain": [
       "(1.1544313298266349, 1.3512996055453641e-08, 567)"
      ]
     },
     "execution_count": 35,
     "metadata": {},
     "output_type": "execute_result"
    }
   ],
   "source": [
    "# integrating over u\n",
    "I0,dI,info=integrate.quad(lambda u: icdf_gumbel(u,mu,beta),0,1,full_output=True)\n",
    "I0,dI,info[\"neval\"]"
   ]
  },
  {
   "attachments": {},
   "cell_type": "markdown",
   "metadata": {},
   "source": [
    "### Problem 2.5\n",
    "\n",
    "Using integration evaluate the variance of $x$\n",
    "\n",
    "$$\n",
    "    \\text{Var}[x] = \\mathbb{E}[(x- \\bar{x})^2] = \\int_{-\\infty}^{\\infty} \\text{d}x\\, (x-\\bar{x})^2 \\text{PDF}(x)\n",
    "$$"
   ]
  },
  {
   "cell_type": "code",
   "execution_count": 36,
   "metadata": {},
   "outputs": [
    {
     "data": {
      "text/plain": [
       "6.54889798438435"
      ]
     },
     "execution_count": 36,
     "metadata": {},
     "output_type": "execute_result"
    }
   ],
   "source": [
    "# variace of x\n",
    "dI2=integrate_transform(lambda t:(t-I0)**2,lambda u: icdf_gumbel(u,mu,beta),1001)\n",
    "dI2\n"
   ]
  },
  {
   "attachments": {},
   "cell_type": "markdown",
   "metadata": {},
   "source": [
    "### Problem 2.6\n",
    "\n",
    "Using the result you computed in Problem 2.5, what will be the standard deviation of a $N=10,000$ samples Monte Carlo estimate of $\\bar{x}$?\n",
    "\n",
    "Do this estimate without performing any Monte Carlo sampling."
   ]
  },
  {
   "cell_type": "code",
   "execution_count": 37,
   "metadata": {},
   "outputs": [
    {
     "data": {
      "text/plain": [
       "2.559081472791429"
      ]
     },
     "execution_count": 37,
     "metadata": {},
     "output_type": "execute_result"
    }
   ],
   "source": [
    "# standard deviation of x\n",
    "dI=np.sqrt(dI2)\n",
    "dI"
   ]
  },
  {
   "cell_type": "code",
   "execution_count": 38,
   "metadata": {},
   "outputs": [
    {
     "data": {
      "text/plain": [
       "0.02559081472791429"
      ]
     },
     "execution_count": 38,
     "metadata": {},
     "output_type": "execute_result"
    }
   ],
   "source": [
    "# Standard deviation of the Monte Carlo\n",
    "# of estimate of  the expected value of x\n",
    "dI/np.sqrt(10_000)"
   ]
  },
  {
   "attachments": {},
   "cell_type": "markdown",
   "metadata": {},
   "source": [
    "### Problem 2.7\n",
    "\n",
    "1. Draw $N=10,000$ samples from a  Gumbel($mu=0$,$\\beta$=2) random variable. Estimate the mean and the standard error of the estime.\n",
    "\n",
    "2. Are the results consistent with what you expected from problems 2.3 and 2.6?\n",
    "\n",
    "[HINT] You can use [numpy.random.Generator.gumbel](https://numpy.org/doc/stable/reference/random/generated/numpy.random.Generator.gumbel.html#numpy.random.Generator.gumbel) to generate the samples, or use the inverse cdf method."
   ]
  },
  {
   "cell_type": "code",
   "execution_count": 39,
   "metadata": {},
   "outputs": [],
   "source": [
    "t=gen.gumbel(scale=beta,loc=mu,size=10_000)"
   ]
  },
  {
   "cell_type": "code",
   "execution_count": 40,
   "metadata": {},
   "outputs": [
    {
     "data": {
      "text/plain": [
       "(1.1771585250248786, 0.025996501645527813)"
      ]
     },
     "execution_count": 40,
     "metadata": {},
     "output_type": "execute_result"
    }
   ],
   "source": [
    "x_hat=t.mean()\n",
    "dx=t.std()/np.sqrt(10_000)\n",
    "x_hat,dx"
   ]
  },
  {
   "cell_type": "code",
   "execution_count": 41,
   "metadata": {},
   "outputs": [
    {
     "data": {
      "text/plain": [
       "(0.02559081472791429, 0.025996501645527813)"
      ]
     },
     "execution_count": 41,
     "metadata": {},
     "output_type": "execute_result"
    }
   ],
   "source": [
    "# the estimated estandard deviations  are close to each other\n",
    "dI/np.sqrt(10_000),dx"
   ]
  },
  {
   "cell_type": "code",
   "execution_count": 42,
   "metadata": {},
   "outputs": [
    {
     "data": {
      "text/plain": [
       "0.8742405231341387"
      ]
     },
     "execution_count": 42,
     "metadata": {},
     "output_type": "execute_result"
    }
   ],
   "source": [
    "# and the mean z-score is less than 2\n",
    "(x_hat-I0)/dx"
   ]
  },
  {
   "attachments": {},
   "cell_type": "markdown",
   "metadata": {},
   "source": [
    "## Problem 3: Call Option on a Two Asset Basket\n",
    "\n",
    "An European  **Basket Call option** on two assets has payout at maturity:\n",
    "\n",
    "$$\n",
    "    \\text{payout}(S_1,S_2) = \\max \\left( \\frac{1}{2}(\\frac{S_1}{S_{1,0}}+\\frac{S_2}{S_{2,0}}) -K ,0 \\right)\n",
    "$$\n",
    "where $S_1$ and $S_2$ are the levels of asset $1$ and $2$ an option expiry and $S_{1,0}$ and $S_{2,0}$ are two constant *reference levels* chosen at trade date.\n"
   ]
  },
  {
   "cell_type": "markdown",
   "metadata": {},
   "source": [
    "\n",
    "### Problem 3.1\n",
    "Implement the option payout"
   ]
  },
  {
   "cell_type": "code",
   "execution_count": 43,
   "metadata": {},
   "outputs": [],
   "source": [
    "def basket_payout(S1,S2,K,S1_0,S2_0):\n",
    "    pass"
   ]
  },
  {
   "cell_type": "code",
   "execution_count": 44,
   "metadata": {},
   "outputs": [],
   "source": [
    "def basket_payout(S1,S2,K,S1_0,S2_0):\n",
    "    return np.maximum( 0.5*(S1/S1_0+S2/S2_0)-K,0)"
   ]
  },
  {
   "attachments": {},
   "cell_type": "markdown",
   "metadata": {},
   "source": [
    "### Problem 3.2\n",
    "\n",
    "We will assume that the random variables $S_1$ and $S_2$ have **Log-Normal** distributions\n",
    "\n",
    "Implement the **transformed** basket payout:\n",
    "\n",
    "$$\n",
    "    \\widetilde{\\text{payout}}(u_1,u_2) =  \\text{payout}(S_1(u_1),S_2(u_2))\n",
    "$$\n",
    "where $S_1(u_1)$ and $S_2(u_2)$ are the inverse CDFs of the two log normal distributions\n",
    "\n",
    "[HINTS] \n",
    "1. The variables `dist1` and `dist2` are [scipy.stats.lognorm](https://docs.scipy.org/doc/scipy/reference/generated/scipy.stats.lognorm.html) objects.\n",
    "2. The **inverse cdf** of s `scipy.stats` object is implemented by the [`ppf`](https://docs.scipy.org/doc/scipy/reference/generated/scipy.stats.rv_continuous.ppf.html#scipy.stats.rv_continuous.ppf) method"
   ]
  },
  {
   "cell_type": "code",
   "execution_count": 45,
   "metadata": {},
   "outputs": [],
   "source": [
    "def basket_tranformed_payoff(u1,u2,K,dist1,S1_0,dist2,S2_0):\n",
    "    pass"
   ]
  },
  {
   "cell_type": "code",
   "execution_count": 46,
   "metadata": {},
   "outputs": [],
   "source": [
    "# analytic work of two option\n",
    "def basket_tranformed_payoff(u1,u2,K,dist1,S1_0,dist2,S2_0):\n",
    "    S1=dist1.ppf(u1)\n",
    "    S2=dist2.ppf(u2)\n",
    "    return basket_payout(S1,S2,K,S1_0,S2_0)"
   ]
  },
  {
   "attachments": {},
   "cell_type": "markdown",
   "metadata": {},
   "source": [
    "### Problem 3.3\n",
    "\n",
    "For the rest of this problem we will assume that:\n",
    "1. The option expiry is $T=1$.\n",
    "2. The option strike is $K=1.05$\n",
    "3. Asset 1 has forward $F_1=1.15$ and volatility $\\sigma_1=$15\\%\n",
    "4. Asset 2 has forward $F_2=0.9$ and volatility $\\sigma_2=$35\\%\n",
    "5. Asset 1 and 2 are **independent** from each other.\n",
    "6. The *reference levels* are  $S_{1,0}=F_1$ and $S_{2,0}=F_2$\n",
    "\n",
    "Define the [scipy.stats.lognorm](https://docs.scipy.org/doc/scipy/reference/generated/scipy.stats.lognorm.html) `dist1` and `dist2` distribution ojects for both objets.\n",
    "\n",
    "[HINT] The parameters defining the  `scipy.stats.lognorm` distribution given the market data are:\n",
    "1. `s`=$\\sqrt{\\sigma^2 T}$\n",
    "2. `scale`= $F \\exp\\left(- \\frac{1}{2}\\sigma^2 T\\right)$"
   ]
  },
  {
   "cell_type": "code",
   "execution_count": 47,
   "metadata": {},
   "outputs": [],
   "source": [
    "T=1\n",
    "K=1.05\n",
    "F1=1.15\n",
    "F2=0.9\n",
    "sigma1=0.15\n",
    "sigma2=0.35\n",
    "S1_0=F1\n",
    "S2_0=F2"
   ]
  },
  {
   "cell_type": "code",
   "execution_count": 48,
   "metadata": {},
   "outputs": [],
   "source": [
    "var1=sigma1**2*T\n",
    "var2=sigma2**2*T\n",
    "dist1=stats.lognorm(s=np.sqrt(var1),scale=F1*np.exp(-0.5*var1))\n",
    "dist2=stats.lognorm(s=np.sqrt(var2),scale=F2*np.exp(-0.5*var2))"
   ]
  },
  {
   "attachments": {},
   "cell_type": "markdown",
   "metadata": {},
   "source": [
    "### Problem 3.4\n",
    "\n",
    "Using the 2 dimensional **mid point rule** estimate the value of the basket call option\n",
    "$$\n",
    "    \\text{value} = \\mathbb{E}_{S_1,S_2}\\left[ \\text{payout}(S_1,S_2)\\right]= \\mathbb{E}_{u_1,u_2}\\left[ \\widetilde{\\text{payout}}(u_1,u_2)\\right]\n",
    "$$\n",
    "1. Use an integration grid with $ 100\\times 100$ points\n",
    "2. Use an integration grid with $1,000 \\times 1,000$ points\n",
    "\n",
    "[HINT] You defined the payout in problems 3.1 and 3.2"
   ]
  },
  {
   "cell_type": "code",
   "execution_count": 49,
   "metadata": {},
   "outputs": [
    {
     "data": {
      "text/plain": [
       "0.05441027808331013"
      ]
     },
     "execution_count": 49,
     "metadata": {},
     "output_type": "execute_result"
    }
   ],
   "source": [
    "mid_point_rule_2d(lambda u1,u2: basket_tranformed_payoff(u1,u2,K,dist1,S1_0,dist2,S2_0),0,1,0,1,100)"
   ]
  },
  {
   "cell_type": "code",
   "execution_count": 50,
   "metadata": {},
   "outputs": [
    {
     "data": {
      "text/plain": [
       "0.05589773499028353"
      ]
     },
     "execution_count": 50,
     "metadata": {},
     "output_type": "execute_result"
    }
   ],
   "source": [
    "value=mid_point_rule_2d(lambda u1,u2: basket_tranformed_payoff(u1,u2,K,dist1,S1_0,dist2,S2_0),0,1,0,1,1000)\n",
    "value"
   ]
  },
  {
   "attachments": {},
   "cell_type": "markdown",
   "metadata": {},
   "source": [
    "### Problem 3.5\n",
    "\n",
    "Using integration, estimate the variance of the payout\n",
    "$$\n",
    "    \\text{Var}[\\text{payout}] = \\mathbb{E}_{S_1,S_2}\\left[ (\\text{payout}(S_1,S_2) - \\text{value})^2\\right]\n",
    "$$\n",
    "\n",
    "What will by the standard deviation of the Monte Carlo estimated option price after drawing $N=10,000$ samples?"
   ]
  },
  {
   "cell_type": "code",
   "execution_count": 51,
   "metadata": {},
   "outputs": [
    {
     "data": {
      "text/plain": [
       "1.1927229638469374"
      ]
     },
     "execution_count": 51,
     "metadata": {},
     "output_type": "execute_result"
    }
   ],
   "source": [
    "dI2=mid_point_rule_2d(lambda u1,u2: (basket_tranformed_payoff(u1,u2,K,dist1,F1,dist2,F2)-I)**2,0,1,0,1,100)\n",
    "dI2"
   ]
  },
  {
   "cell_type": "code",
   "execution_count": 52,
   "metadata": {},
   "outputs": [
    {
     "data": {
      "text/plain": [
       "0.010921185667531422"
      ]
     },
     "execution_count": 52,
     "metadata": {},
     "output_type": "execute_result"
    }
   ],
   "source": [
    "dvalue=np.sqrt(dI2/10_000)\n",
    "dvalue"
   ]
  },
  {
   "attachments": {},
   "cell_type": "markdown",
   "metadata": {},
   "source": [
    "### Problem 3.6\n",
    "\n",
    "1. Draw $N=10,000$ samples from the distributions of $S_1$ and $S_2$ and use them to estimate the basket call option price.\n",
    "2. Compute the standard error of the estimate. Is it consistent with what you estimated in Problem 3.5?\n",
    "3. Is the Monte Carlo option price consistent with the  value estimated by integration in problem 3.4?"
   ]
  },
  {
   "cell_type": "code",
   "execution_count": 53,
   "metadata": {},
   "outputs": [
    {
     "data": {
      "text/plain": [
       "0.05665575951306035"
      ]
     },
     "execution_count": 53,
     "metadata": {},
     "output_type": "execute_result"
    }
   ],
   "source": [
    "N=10_000\n",
    "S1=dist1.rvs(size=N)\n",
    "S2=dist2.rvs(size=N)\n",
    "pay=basket_payout(S1,S2,K,S1_0,S2_0)\n",
    "pay.mean()\n"
   ]
  },
  {
   "cell_type": "code",
   "execution_count": 54,
   "metadata": {},
   "outputs": [
    {
     "data": {
      "text/plain": [
       "(0.010921185667531422, 0.0011844616085346423)"
      ]
     },
     "execution_count": 54,
     "metadata": {},
     "output_type": "execute_result"
    }
   ],
   "source": [
    "# standard deviation of MC estimates are consistent\n",
    "dvalue,pay.std()/np.sqrt(N)"
   ]
  },
  {
   "cell_type": "code",
   "execution_count": 55,
   "metadata": {},
   "outputs": [
    {
     "data": {
      "text/plain": [
       "0.06940862886622441"
      ]
     },
     "execution_count": 55,
     "metadata": {},
     "output_type": "execute_result"
    }
   ],
   "source": [
    "# MC z-score is small\n",
    "(pay.mean()-value)/dvalue"
   ]
  },
  {
   "attachments": {},
   "cell_type": "markdown",
   "metadata": {},
   "source": [
    "## Bonus Problem 4: Risk Neutral Valuation of Option Prices\n",
    "\n",
    "The  SVI volatility Curve parameters one year options in the  SPX index are \n",
    "\n",
    "1. Expiry $T=1$\n",
    "2. Forward $F=4,200$\n",
    "3. ATM volatility is 19\\%\n",
    "4. The other parameters of the SVI parametrization are given by:\n",
    "    1. $b=.13$\n",
    "    2. $\\rho=-0.734$\n",
    "    3. $m=.128$\n",
    "    4. $\\tilde{\\sigma}$=0.118\n",
    "\n",
    "as calibrated to market option data as of `2023-02-07`\n",
    "\n",
    "### Problem 4.1\n",
    "\n",
    "1. define the SVI volatility curve.\n",
    "2. define the Risk Neutral Definition\n",
    "3. Plot the inverse CDF in some range $u\\in(\\Delta u, 1-\\Delta u)$ for $\\Delta u$ small but finite\n",
    "\n",
    "[HINT] \n",
    "1. This are the same parameters we used in Bonus Problem 4 of HW4.\n",
    "2. The inverse CDF is implemented by the function `ppf` in the `RiskNeutral` object defined in the Code  section of this notebook.\n"
   ]
  },
  {
   "cell_type": "code",
   "execution_count": 56,
   "metadata": {},
   "outputs": [],
   "source": [
    "T=1\n",
    "F=4200\n",
    "sigma_ATM=0.19\n",
    "b=0.13\n",
    "rho=-0.734\n",
    "m=0.128\n",
    "sigma=0.118"
   ]
  },
  {
   "cell_type": "code",
   "execution_count": 57,
   "metadata": {},
   "outputs": [],
   "source": [
    "vol=SVICurve(T,F,sigma_ATM,b,rho,m,sigma)"
   ]
  },
  {
   "cell_type": "code",
   "execution_count": 58,
   "metadata": {},
   "outputs": [],
   "source": [
    "dist=RiskNeutral(T,F,vol)"
   ]
  },
  {
   "cell_type": "code",
   "execution_count": 59,
   "metadata": {},
   "outputs": [
    {
     "data": {
      "text/plain": [
       "Text(0.5, 1.0, 'Risk Neutral Inverse CDF')"
      ]
     },
     "execution_count": 59,
     "metadata": {},
     "output_type": "execute_result"
    },
    {
     "data": {
      "image/png": "[encoded data removed]",
      "text/plain": [
       "<Figure size 640x480 with 1 Axes>"
      ]
     },
     "metadata": {},
     "output_type": "display_data"
    }
   ],
   "source": [
    "u=np.linspace(1/201,1-1/201,201)\n",
    "plt.plot(u,dist.ppf(u))\n",
    "plt.xlabel(\"u\")\n",
    "plt.ylabel(\"S(u)\")\n",
    "plt.title(\"Risk Neutral Inverse CDF\")\n",
    "    "
   ]
  },
  {
   "attachments": {},
   "cell_type": "markdown",
   "metadata": {},
   "source": [
    "### Problem 4.2\n",
    "\n",
    "Define the transformed call option payout:\n",
    "\n",
    "$$\n",
    "    \\widetilde{\\text{payout}}(u) = \\max \\left( S(u)-K,0 \\right)\n",
    "$$\n",
    "where $S(u)$ is the inverse CDF of the risk neutral distribution\n"
   ]
  },
  {
   "cell_type": "code",
   "execution_count": 60,
   "metadata": {},
   "outputs": [],
   "source": [
    "def opt_payout(u,K,dist):\n",
    "    S=dist.ppf(u)\n",
    "    return np.maximum(S-K,0)"
   ]
  },
  {
   "attachments": {},
   "cell_type": "markdown",
   "metadata": {},
   "source": [
    "### Problem 4.3\n",
    "\n",
    "Using integration with a mid point rule estimate the price of a call option with strike $K=4,300$ using the risk neutral.\n",
    "distribution, Use $N=100$ and $N=1000$ grid points."
   ]
  },
  {
   "cell_type": "code",
   "execution_count": 61,
   "metadata": {},
   "outputs": [],
   "source": [
    "K=4300"
   ]
  },
  {
   "cell_type": "code",
   "execution_count": 62,
   "metadata": {},
   "outputs": [
    {
     "data": {
      "text/plain": [
       "250.91946579706578"
      ]
     },
     "execution_count": 62,
     "metadata": {},
     "output_type": "execute_result"
    }
   ],
   "source": [
    "mid_point_rule(lambda u: opt_payout(u,K,dist),0,1,100)"
   ]
  },
  {
   "cell_type": "code",
   "execution_count": 63,
   "metadata": {},
   "outputs": [
    {
     "data": {
      "text/plain": [
       "253.75658847412078"
      ]
     },
     "execution_count": 63,
     "metadata": {},
     "output_type": "execute_result"
    }
   ],
   "source": [
    "value=mid_point_rule(lambda u: opt_payout(u,K,dist),0,1,1000)\n",
    "value"
   ]
  },
  {
   "attachments": {},
   "cell_type": "markdown",
   "metadata": {},
   "source": [
    "### Problem 4.4\n",
    "\n",
    "Use Black-Scholes to price this option analytically. What was the percentage error of the numerical integration with $N=1,000$ points?\n",
    "\n",
    "[HINT] The `SVI` parameterization give us the **implied volatlity** for each strike $\\sigma(K)$"
   ]
  },
  {
   "cell_type": "code",
   "execution_count": 64,
   "metadata": {},
   "outputs": [
    {
     "data": {
      "text/plain": [
       "0.17807531360171738"
      ]
     },
     "execution_count": 64,
     "metadata": {},
     "output_type": "execute_result"
    }
   ],
   "source": [
    "sig=vol(K)\n",
    "sig"
   ]
  },
  {
   "cell_type": "code",
   "execution_count": 65,
   "metadata": {},
   "outputs": [
    {
     "data": {
      "text/plain": [
       "254.15057065522956"
      ]
     },
     "execution_count": 65,
     "metadata": {},
     "output_type": "execute_result"
    }
   ],
   "source": [
    "value_exact=bs_price_fwd(True,K,T,F,sig)\n",
    "value_exact"
   ]
  },
  {
   "cell_type": "code",
   "execution_count": 66,
   "metadata": {},
   "outputs": [
    {
     "data": {
      "text/plain": [
       "-0.0015501919987551114"
      ]
     },
     "execution_count": 66,
     "metadata": {},
     "output_type": "execute_result"
    }
   ],
   "source": [
    "(value-value_exact)/value_exact"
   ]
  },
  {
   "attachments": {},
   "cell_type": "markdown",
   "metadata": {},
   "source": [
    "### Problem 4.5\n",
    "\n",
    "1. Generate $N=10,000$ random samples of the risk neutral distribution using the method `rvs` of the `RiskNeutral` object\n",
    "2. Compute the call option price and the standard error.\n",
    "3. Is the error larger or smaller than the numerical integration "
   ]
  },
  {
   "cell_type": "code",
   "execution_count": 67,
   "metadata": {},
   "outputs": [],
   "source": [
    "S=dist.rvs(gen,10_000)"
   ]
  },
  {
   "cell_type": "code",
   "execution_count": 68,
   "metadata": {},
   "outputs": [
    {
     "data": {
      "text/plain": [
       "(258.3560047406031, 2.914540248343852)"
      ]
     },
     "execution_count": 68,
     "metadata": {},
     "output_type": "execute_result"
    }
   ],
   "source": [
    "# the error is larger\n",
    "pay=np.maximum(S-K,0)\n",
    "pay.mean(),pay.std()/np.sqrt(10_000)"
   ]
  },
  {
   "attachments": {},
   "cell_type": "markdown",
   "metadata": {},
   "source": [
    "## Bonus Problem 5: Average of Two Assets, Risk Neutral Valuation\n",
    "\n",
    "We now have a second asset with a non-flat volatility curve with parameters:\n",
    "1. Forward $F_2=2,200$\n",
    "3. ATM volatility is 25\\%\n",
    "4. The other parameters of the SVI parametrization are given by:\n",
    "    1. $b_2$=.07\n",
    "    2. $\\rho_2$=-0.85\n",
    "    3. $m_2$=0.08\n",
    "    4. $\\tilde{\\sigma}$=0.13\n",
    "\n",
    "### Problem 5.1\n",
    "\n",
    "1. Define the SVI volatility curve and the RiskNeutral distribution for the second asset\n",
    "2. Plot the volatility curves of both assets as a function of the percentage of forward $S/F$"
   ]
  },
  {
   "cell_type": "code",
   "execution_count": 69,
   "metadata": {},
   "outputs": [],
   "source": [
    "F2=2200\n",
    "sigma_ATM2=0.25\n",
    "b2=0.07\n",
    "rho2=-0.85\n",
    "m2=0.08\n",
    "sigma2=0.13"
   ]
  },
  {
   "cell_type": "code",
   "execution_count": 70,
   "metadata": {},
   "outputs": [],
   "source": [
    "vol2=SVICurve(T,F2,sigma_ATM2,b2,rho2,m2,sigma2)"
   ]
  },
  {
   "cell_type": "code",
   "execution_count": 71,
   "metadata": {},
   "outputs": [],
   "source": [
    "dist2=RiskNeutral(T,F2,vol2)"
   ]
  },
  {
   "cell_type": "code",
   "execution_count": 72,
   "metadata": {},
   "outputs": [
    {
     "data": {
      "text/plain": [
       "[<matplotlib.lines.Line2D at 0x7f7b610535e0>]"
      ]
     },
     "execution_count": 72,
     "metadata": {},
     "output_type": "execute_result"
    },
    {
     "data": {
      "image/png": "[encoded data removed]",
      "text/plain": [
       "<Figure size 640x480 with 1 Axes>"
      ]
     },
     "metadata": {},
     "output_type": "display_data"
    }
   ],
   "source": [
    "S1=np.linspace(0.5*F,3*F,201)\n",
    "S2=np.linspace(0.5*F2,3*F2,201)\n",
    "plt.plot(S1/F,dist.vol(S1))\n",
    "plt.plot(S2/F2,dist2.vol(S2))"
   ]
  },
  {
   "attachments": {},
   "cell_type": "markdown",
   "metadata": {},
   "source": [
    "### Problem 5.2\n",
    "\n",
    "Price a Basket Call Option\n",
    "$$\n",
    "    \\text{payout}(S_1,S_2) = \\max \\left( \\frac{1}{2}(\\frac{S_1}{S_{1,0}}+\\frac{S_2}{S_{2,0}}) -K ,0 \\right)\n",
    "$$\n",
    " on the two risk neutral assets  where, again the reference levels are the forwards\n",
    "\\begin{align*}\n",
    "    S_{1,0} &= F \\\\\n",
    "    S_{2,0} &= F_2\n",
    "\\end{align*}\n",
    "and strike $K=1.0$\n",
    "use integration with  2-dimensional mid point rule with $100\\times 100$ and  $1,000\\times $ grids"
   ]
  },
  {
   "cell_type": "code",
   "execution_count": 73,
   "metadata": {},
   "outputs": [
    {
     "data": {
      "text/plain": [
       "(1.0, 4200, 2200)"
      ]
     },
     "execution_count": 73,
     "metadata": {},
     "output_type": "execute_result"
    }
   ],
   "source": [
    "K=1.0\n",
    "S1_0=F\n",
    "S2_0=F2\n",
    "K,S1_0,S2_0"
   ]
  },
  {
   "cell_type": "code",
   "execution_count": 74,
   "metadata": {},
   "outputs": [
    {
     "data": {
      "text/plain": [
       "0.06305103913503723"
      ]
     },
     "execution_count": 74,
     "metadata": {},
     "output_type": "execute_result"
    }
   ],
   "source": [
    "mid_point_rule_2d(lambda u1,u2: basket_tranformed_payoff(u1,u2,K,dist,S1_0,dist2,S2_0),0,1,0,1,100)"
   ]
  },
  {
   "cell_type": "code",
   "execution_count": 75,
   "metadata": {},
   "outputs": [
    {
     "data": {
      "text/plain": [
       "0.06445707739333552"
      ]
     },
     "execution_count": 75,
     "metadata": {},
     "output_type": "execute_result"
    }
   ],
   "source": [
    "value=mid_point_rule_2d(lambda u1,u2: basket_tranformed_payoff(u1,u2,K,dist,S1_0,dist2,S2_0),0,1,0,1,1000)\n",
    "value"
   ]
  },
  {
   "attachments": {},
   "cell_type": "markdown",
   "metadata": {},
   "source": [
    "### Problem 5.3\n",
    "\n",
    "Use Monte Carlo with $N=10,000$ samples to evalute the price of the option.\n",
    "\n",
    "Are the Monte Carlo and integration values consistent with each other?\n"
   ]
  },
  {
   "cell_type": "code",
   "execution_count": 76,
   "metadata": {},
   "outputs": [],
   "source": [
    "S1=dist.rvs(gen,size=10_000)\n",
    "S2=dist2.rvs(gen,size=10_000)"
   ]
  },
  {
   "cell_type": "code",
   "execution_count": 77,
   "metadata": {},
   "outputs": [
    {
     "data": {
      "text/plain": [
       "(0.06356517117463481, 0.0008948403072490104)"
      ]
     },
     "execution_count": 77,
     "metadata": {},
     "output_type": "execute_result"
    }
   ],
   "source": [
    "pay=basket_payout(S1,S2,K,S1_0,S2_0)\n",
    "pay.mean(),pay.std()/np.sqrt(10_000)"
   ]
  },
  {
   "cell_type": "code",
   "execution_count": 78,
   "metadata": {},
   "outputs": [
    {
     "data": {
      "text/plain": [
       "-0.9967211037270747"
      ]
     },
     "execution_count": 78,
     "metadata": {},
     "output_type": "execute_result"
    }
   ],
   "source": [
    "# the two values are within the MC standard error\n",
    "(pay.mean()-value)/(pay.std()/np.sqrt(10_000))"
   ]
  }
 ],
 "metadata": {
  "kernelspec": {
   "display_name": "Python 3",
   "language": "python",
   "name": "python3"
  },
  "language_info": {
   "codemirror_mode": {
    "name": "ipython",
    "version": 3
   },
   "file_extension": ".py",
   "mimetype": "text/x-python",
   "name": "python",
   "nbconvert_exporter": "python",
   "pygments_lexer": "ipython3",
   "version": "3.9.13"
  },
  "orig_nbformat": 4,
  "vscode": {
   "interpreter": {
    "hash": "d6677d9b047f4c173977b2b074d0913ef1a6f70e2c3329275c5f9e5084df3020"
   }
  }
 },
 "nbformat": 4,
 "nbformat_minor": 2
}
